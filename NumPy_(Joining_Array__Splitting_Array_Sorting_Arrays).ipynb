{
  "nbformat": 4,
  "nbformat_minor": 0,
  "metadata": {
    "colab": {
      "name": "NumPy (Joining_Array_ Splitting_Array_Sorting_Arrays).ipynb",
      "provenance": []
    },
    "kernelspec": {
      "name": "python3",
      "display_name": "Python 3"
    },
    "language_info": {
      "name": "python"
    }
  },
  "cells": [
    {
      "cell_type": "code",
      "metadata": {
        "id": "-nNH7TN9TJpX"
      },
      "source": [
        "import numpy as np"
      ],
      "execution_count": 1,
      "outputs": []
    },
    {
      "cell_type": "code",
      "metadata": {
        "id": "t2XzDFgmTkcd"
      },
      "source": [
        "# Joining means putting contents of two or more arrays in a single array.\n",
        "\n"
      ],
      "execution_count": 2,
      "outputs": []
    },
    {
      "cell_type": "code",
      "metadata": {
        "id": "4G_l5MEQT_Ls"
      },
      "source": [
        "#   Join two arrays\n",
        "\n"
      ],
      "execution_count": 3,
      "outputs": []
    },
    {
      "cell_type": "code",
      "metadata": {
        "id": "ROG6ct_GUPAy"
      },
      "source": [
        "arr1 = np.array([1, 2, 3])\n",
        "\n",
        "arr2 = np.array([4, 5, 6])"
      ],
      "execution_count": 4,
      "outputs": []
    },
    {
      "cell_type": "code",
      "metadata": {
        "id": "J7g5ABV7UTeQ"
      },
      "source": [
        "arr = np.concatenate((arr1,arr2))"
      ],
      "execution_count": 6,
      "outputs": []
    },
    {
      "cell_type": "code",
      "metadata": {
        "colab": {
          "base_uri": "https://localhost:8080/"
        },
        "id": "4Tz1j_LrUlp7",
        "outputId": "793e039e-e71c-4d88-e714-c70084b6d038"
      },
      "source": [
        "print(arr)"
      ],
      "execution_count": 7,
      "outputs": [
        {
          "output_type": "stream",
          "text": [
            "[1 2 3 4 5 6]\n"
          ],
          "name": "stdout"
        }
      ]
    },
    {
      "cell_type": "markdown",
      "metadata": {
        "id": "q57EbWc9U8wB"
      },
      "source": [
        "# Join two 2-D arrays along rows (axis=1):\n",
        "\n"
      ]
    },
    {
      "cell_type": "code",
      "metadata": {
        "colab": {
          "base_uri": "https://localhost:8080/"
        },
        "id": "NZ9A3DRSUwif",
        "outputId": "d2d3dc94-bff1-49eb-e3ac-c5fb7eb70295"
      },
      "source": [
        "arr1 = np.array([[1, 2], [3, 4]])\n",
        "\n",
        "arr2 = np.array([[5, 6], [7, 8]])\n",
        "print(arr1,arr2)"
      ],
      "execution_count": 12,
      "outputs": [
        {
          "output_type": "stream",
          "text": [
            "[[1 2]\n",
            " [3 4]] [[5 6]\n",
            " [7 8]]\n"
          ],
          "name": "stdout"
        }
      ]
    },
    {
      "cell_type": "code",
      "metadata": {
        "id": "JTwVAIqeVGEA"
      },
      "source": [
        "arr = np.concatenate((arr1,arr2), axis = 1)     #  Column wise joining"
      ],
      "execution_count": 9,
      "outputs": []
    },
    {
      "cell_type": "code",
      "metadata": {
        "colab": {
          "base_uri": "https://localhost:8080/"
        },
        "id": "RR_PTalDVWED",
        "outputId": "0542629e-797d-4394-87e4-c8e18c8803fc"
      },
      "source": [
        "print(arr)"
      ],
      "execution_count": 10,
      "outputs": [
        {
          "output_type": "stream",
          "text": [
            "[[1 2 5 6]\n",
            " [3 4 7 8]]\n"
          ],
          "name": "stdout"
        }
      ]
    },
    {
      "cell_type": "code",
      "metadata": {
        "colab": {
          "base_uri": "https://localhost:8080/"
        },
        "id": "Sac5jUgZVZvK",
        "outputId": "f5185892-8a28-44d8-e0f1-3809cedafdad"
      },
      "source": [
        "ar = np.concatenate((arr1,arr2))                 #  rows wise joinig\n",
        "print(ar)"
      ],
      "execution_count": 13,
      "outputs": [
        {
          "output_type": "stream",
          "text": [
            "[[1 2]\n",
            " [3 4]\n",
            " [5 6]\n",
            " [7 8]]\n"
          ],
          "name": "stdout"
        }
      ]
    },
    {
      "cell_type": "code",
      "metadata": {
        "id": "R9wUsmkqVt4r"
      },
      "source": [
        ""
      ],
      "execution_count": null,
      "outputs": []
    },
    {
      "cell_type": "markdown",
      "metadata": {
        "id": "8KSj2R4BWujk"
      },
      "source": [
        "# Joining Arrays Using Stack Functions\n"
      ]
    },
    {
      "cell_type": "code",
      "metadata": {
        "id": "H3nmELJJWvyd"
      },
      "source": [
        "# Stacking is same as concatenation, the only difference is that stacking is done along a new axis.\n",
        "\n"
      ],
      "execution_count": 14,
      "outputs": []
    },
    {
      "cell_type": "code",
      "metadata": {
        "colab": {
          "base_uri": "https://localhost:8080/"
        },
        "id": "NMKJSTOkXEfM",
        "outputId": "d12ebf03-dd08-49c5-9daf-aa72c7bb4c07"
      },
      "source": [
        "arr1 = np.array([1, 2, 3])\n",
        "\n",
        "arr2 = np.array([4, 5, 6])\n",
        "\n",
        "arr = np.stack((arr1, arr2), axis=1)\n",
        "\n",
        "print(arr)"
      ],
      "execution_count": 15,
      "outputs": [
        {
          "output_type": "stream",
          "text": [
            "[[1 4]\n",
            " [2 5]\n",
            " [3 6]]\n"
          ],
          "name": "stdout"
        }
      ]
    },
    {
      "cell_type": "code",
      "metadata": {
        "colab": {
          "base_uri": "https://localhost:8080/"
        },
        "id": "f3ErCOVcXIfp",
        "outputId": "5b703066-f577-4c98-a983-69b976edd9c6"
      },
      "source": [
        "ar = np.concatenate((arr1,arr2))\n",
        "print(ar)"
      ],
      "execution_count": 19,
      "outputs": [
        {
          "output_type": "stream",
          "text": [
            "[1 2 3 4 5 6]\n"
          ],
          "name": "stdout"
        }
      ]
    },
    {
      "cell_type": "code",
      "metadata": {
        "id": "Y0dl4jgsXZpB"
      },
      "source": [
        "ar = np.stack((arr1,arr2))"
      ],
      "execution_count": 22,
      "outputs": []
    },
    {
      "cell_type": "code",
      "metadata": {
        "colab": {
          "base_uri": "https://localhost:8080/"
        },
        "id": "UZFEq5ioYDwU",
        "outputId": "ee95857e-d441-484f-c225-01b313b3766f"
      },
      "source": [
        "print(ar)"
      ],
      "execution_count": 23,
      "outputs": [
        {
          "output_type": "stream",
          "text": [
            "[[1 2 3]\n",
            " [4 5 6]]\n"
          ],
          "name": "stdout"
        }
      ]
    },
    {
      "cell_type": "code",
      "metadata": {
        "id": "dRfLUqGPYF_t"
      },
      "source": [
        ""
      ],
      "execution_count": null,
      "outputs": []
    },
    {
      "cell_type": "markdown",
      "metadata": {
        "id": "12KVzFzgYeLd"
      },
      "source": [
        "# Stacking Along Rows\n"
      ]
    },
    {
      "cell_type": "code",
      "metadata": {
        "colab": {
          "base_uri": "https://localhost:8080/"
        },
        "id": "9odNXD3LYfVB",
        "outputId": "cb4da155-675d-4646-8d81-1518319eba37"
      },
      "source": [
        "arr1 = np.array([1, 2, 3])\n",
        "\n",
        "arr2 = np.array([4, 5, 6])                 # rows wise\n",
        "arr = np.hstack((arr1, arr2))              # Using hstack function\n",
        "\n",
        "print(arr)"
      ],
      "execution_count": 24,
      "outputs": [
        {
          "output_type": "stream",
          "text": [
            "[1 2 3 4 5 6]\n"
          ],
          "name": "stdout"
        }
      ]
    },
    {
      "cell_type": "markdown",
      "metadata": {
        "id": "qCbRl7lrYy52"
      },
      "source": [
        "# Stacking Along Columns\n"
      ]
    },
    {
      "cell_type": "code",
      "metadata": {
        "colab": {
          "base_uri": "https://localhost:8080/"
        },
        "id": "Uf5IrcnDYjci",
        "outputId": "247d21bd-f882-4eb5-a98a-d83a9684fb6d"
      },
      "source": [
        "arr1 = np.array([1, 2, 3])\n",
        "\n",
        "arr2 = np.array([4, 5, 6])           # column wise\n",
        "\n",
        "arr = np.vstack((arr1, arr2))       # Using vstack function\n",
        "\n",
        "print(arr)"
      ],
      "execution_count": 26,
      "outputs": [
        {
          "output_type": "stream",
          "text": [
            "[[1 2 3]\n",
            " [4 5 6]]\n"
          ],
          "name": "stdout"
        }
      ]
    },
    {
      "cell_type": "markdown",
      "metadata": {
        "id": "Y12u7CN2Zi2A"
      },
      "source": [
        "# Stacking Along Height (depth)\n"
      ]
    },
    {
      "cell_type": "code",
      "metadata": {
        "id": "J_dl9TQ5Y8Yw"
      },
      "source": [
        "# NumPy provides a helper function: dstack() to stack along height, which is the same as depth.\n",
        "\n"
      ],
      "execution_count": 27,
      "outputs": []
    },
    {
      "cell_type": "code",
      "metadata": {
        "colab": {
          "base_uri": "https://localhost:8080/"
        },
        "id": "2Oisq-U-Zm9M",
        "outputId": "2e066f66-f3c5-4ab6-f76e-638fdafbcf7b"
      },
      "source": [
        "arr1 = np.array([1, 2, 3])\n",
        "\n",
        "arr2 = np.array([4, 5, 6])\n",
        "\n",
        "arr = np.dstack((arr1, arr2))     # uaing dstack function\n",
        "\n",
        "print(arr)"
      ],
      "execution_count": 29,
      "outputs": [
        {
          "output_type": "stream",
          "text": [
            "[[[1 4]\n",
            "  [2 5]\n",
            "  [3 6]]]\n"
          ],
          "name": "stdout"
        }
      ]
    },
    {
      "cell_type": "code",
      "metadata": {
        "id": "b1rA120rZssK"
      },
      "source": [
        ""
      ],
      "execution_count": 30,
      "outputs": []
    },
    {
      "cell_type": "code",
      "metadata": {
        "id": "507CZPtHakGo"
      },
      "source": [
        ""
      ],
      "execution_count": null,
      "outputs": []
    },
    {
      "cell_type": "markdown",
      "metadata": {
        "id": "-WotbUrlaoqm"
      },
      "source": [
        "# NumPy Splitting Array\n"
      ]
    },
    {
      "cell_type": "code",
      "metadata": {
        "id": "1o848Dx0anC8"
      },
      "source": [
        "# Splitting is reverse operation of Joining.\n",
        "\n",
        "# Joining merges multiple arrays into one and Splitting breaks one array into multiple.\n",
        "\n",
        "# We use array_split() for splitting arrays, we pass it the array we want to split and the number of splits."
      ],
      "execution_count": 31,
      "outputs": []
    },
    {
      "cell_type": "code",
      "metadata": {
        "id": "7GeIc5_LbNyr"
      },
      "source": [
        "arr = np.array([1, 2, 3, 4, 5, 6])\n"
      ],
      "execution_count": 32,
      "outputs": []
    },
    {
      "cell_type": "code",
      "metadata": {
        "id": "ZEeGV6Q7bSig"
      },
      "source": [
        "newar = np.array_split(arr,3)"
      ],
      "execution_count": 33,
      "outputs": []
    },
    {
      "cell_type": "code",
      "metadata": {
        "colab": {
          "base_uri": "https://localhost:8080/"
        },
        "id": "LBes5nMdblFU",
        "outputId": "f9f3efb2-2fb1-4871-b58b-e5cac2354911"
      },
      "source": [
        "print(newar)"
      ],
      "execution_count": 34,
      "outputs": [
        {
          "output_type": "stream",
          "text": [
            "[array([1, 2]), array([3, 4]), array([5, 6])]\n"
          ],
          "name": "stdout"
        }
      ]
    },
    {
      "cell_type": "code",
      "metadata": {
        "colab": {
          "base_uri": "https://localhost:8080/"
        },
        "id": "E6UNf5MRbnud",
        "outputId": "cd70c54c-bd70-4ffd-9eb8-1466e68de89f"
      },
      "source": [
        "ar = np.array_split(arr,2)\n",
        "print(ar)"
      ],
      "execution_count": 40,
      "outputs": [
        {
          "output_type": "stream",
          "text": [
            "[array([1, 2, 3]), array([4, 5, 6])]\n"
          ],
          "name": "stdout"
        }
      ]
    },
    {
      "cell_type": "code",
      "metadata": {
        "colab": {
          "base_uri": "https://localhost:8080/"
        },
        "id": "WfEh1PXubtDa",
        "outputId": "3ef491dd-20f2-4311-af14-51fb30a5fcf1"
      },
      "source": [
        "\n",
        "arr = np.array([1, 2, 3, 4, 5, 6])\n",
        "\n",
        "newarr = np.array_split(arr, 4)       # there are not proper elements but split properly\n",
        "\n",
        "print(newarr)"
      ],
      "execution_count": 41,
      "outputs": [
        {
          "output_type": "stream",
          "text": [
            "[array([1, 2]), array([3, 4]), array([5]), array([6])]\n"
          ],
          "name": "stdout"
        }
      ]
    },
    {
      "cell_type": "code",
      "metadata": {
        "id": "a27wSmrjcGYY"
      },
      "source": [
        ""
      ],
      "execution_count": null,
      "outputs": []
    },
    {
      "cell_type": "markdown",
      "metadata": {
        "id": "RifkUtE5dMSh"
      },
      "source": [
        "Split Into Arrays\n"
      ]
    },
    {
      "cell_type": "code",
      "metadata": {
        "id": "-wIL8hV7dNEf"
      },
      "source": [
        "# he return value of the array_split() method is an array containing each of the split as an array.\n",
        "\n",
        "# If you split an array into 3 arrays, you can access them from the result just like any array element:"
      ],
      "execution_count": 42,
      "outputs": []
    },
    {
      "cell_type": "code",
      "metadata": {
        "colab": {
          "base_uri": "https://localhost:8080/"
        },
        "id": "VT-enyJ1dStZ",
        "outputId": "503a7cde-f415-493e-e794-0082d9442a5b"
      },
      "source": [
        "arr = np.array([1, 2, 3, 4, 5, 6])\n",
        "\n",
        "newarr = np.array_split(arr, 3)\n",
        "print(newar)"
      ],
      "execution_count": 45,
      "outputs": [
        {
          "output_type": "stream",
          "text": [
            "[array([1, 2]), array([3, 4]), array([5, 6])]\n"
          ],
          "name": "stdout"
        }
      ]
    },
    {
      "cell_type": "code",
      "metadata": {
        "colab": {
          "base_uri": "https://localhost:8080/"
        },
        "id": "Ifu7HYV_dXOY",
        "outputId": "0b3a80e2-57db-421d-e328-c2499156fd31"
      },
      "source": [
        "print(newar[0])\n",
        "print(newar[1])\n",
        "print(newar[2])"
      ],
      "execution_count": 46,
      "outputs": [
        {
          "output_type": "stream",
          "text": [
            "[1 2]\n",
            "[3 4]\n",
            "[5 6]\n"
          ],
          "name": "stdout"
        }
      ]
    },
    {
      "cell_type": "code",
      "metadata": {
        "id": "saRZJ9PmdkPs"
      },
      "source": [
        ""
      ],
      "execution_count": null,
      "outputs": []
    },
    {
      "cell_type": "markdown",
      "metadata": {
        "id": "dodD2IrCd5l9"
      },
      "source": [
        "Splitting 2-D Arrays\n"
      ]
    },
    {
      "cell_type": "code",
      "metadata": {
        "id": "zH2Nog-Ud6kq"
      },
      "source": [
        "# Split the 2-D array into three 2-D arrays.\n",
        "\n"
      ],
      "execution_count": 47,
      "outputs": []
    },
    {
      "cell_type": "code",
      "metadata": {
        "colab": {
          "base_uri": "https://localhost:8080/"
        },
        "id": "ebwbrSWAeFww",
        "outputId": "68a924bd-2ca0-4eea-c0da-f22bf0b205c5"
      },
      "source": [
        "\n",
        "arr = np.array([[1, 2], [3, 4], [5, 6], [7, 8], [9, 10], [11, 12]])\n",
        "print(arr.ndim)\n",
        "\n",
        "newarr = np.array_split(arr, 3)\n",
        "\n",
        "print(newarr)"
      ],
      "execution_count": 53,
      "outputs": [
        {
          "output_type": "stream",
          "text": [
            "2\n",
            "[array([[1, 2],\n",
            "       [3, 4]]), array([[5, 6],\n",
            "       [7, 8]]), array([[ 9, 10],\n",
            "       [11, 12]])]\n"
          ],
          "name": "stdout"
        }
      ]
    },
    {
      "cell_type": "code",
      "metadata": {
        "colab": {
          "base_uri": "https://localhost:8080/"
        },
        "id": "oZJDoZ5neKf0",
        "outputId": "3203d1b6-fd18-45ba-a080-45e668144442"
      },
      "source": [
        "print(newarr[2])\n"
      ],
      "execution_count": 56,
      "outputs": [
        {
          "output_type": "stream",
          "text": [
            "[[ 9 10]\n",
            " [11 12]]\n"
          ],
          "name": "stdout"
        }
      ]
    },
    {
      "cell_type": "code",
      "metadata": {
        "id": "5tKz4T9Le0JZ"
      },
      "source": [
        "# Split the 2-D array into three 2-D arrays along rows.\n",
        "\n"
      ],
      "execution_count": 57,
      "outputs": []
    },
    {
      "cell_type": "code",
      "metadata": {
        "colab": {
          "base_uri": "https://localhost:8080/"
        },
        "id": "hUpn1Sy_fMiU",
        "outputId": "90c9509b-6f72-419a-f59a-ab37165c4819"
      },
      "source": [
        "arr = np.array([[1, 2, 3], [4, 5, 6], [7, 8, 9], [10, 11, 12], [13, 14, 15], [16, 17, 18]])\n",
        "\n",
        "newarr = np.array_split(arr, 3, axis=1)\n",
        "\n",
        "print(newarr)"
      ],
      "execution_count": 58,
      "outputs": [
        {
          "output_type": "stream",
          "text": [
            "[array([[ 1],\n",
            "       [ 4],\n",
            "       [ 7],\n",
            "       [10],\n",
            "       [13],\n",
            "       [16]]), array([[ 2],\n",
            "       [ 5],\n",
            "       [ 8],\n",
            "       [11],\n",
            "       [14],\n",
            "       [17]]), array([[ 3],\n",
            "       [ 6],\n",
            "       [ 9],\n",
            "       [12],\n",
            "       [15],\n",
            "       [18]])]\n"
          ],
          "name": "stdout"
        }
      ]
    },
    {
      "cell_type": "code",
      "metadata": {
        "colab": {
          "base_uri": "https://localhost:8080/"
        },
        "id": "pgzEGOzyfPS7",
        "outputId": "bb9e1140-ecbb-4614-a0d5-097cf38de1ba"
      },
      "source": [
        "print(newarr[2])"
      ],
      "execution_count": 59,
      "outputs": [
        {
          "output_type": "stream",
          "text": [
            "[[ 3]\n",
            " [ 6]\n",
            " [ 9]\n",
            " [12]\n",
            " [15]\n",
            " [18]]\n"
          ],
          "name": "stdout"
        }
      ]
    },
    {
      "cell_type": "code",
      "metadata": {
        "id": "eiQ2L1thfbet"
      },
      "source": [
        "# An alternate solution is using hsplit() opposite of hstack()\n",
        "\n"
      ],
      "execution_count": 60,
      "outputs": []
    },
    {
      "cell_type": "code",
      "metadata": {
        "colab": {
          "base_uri": "https://localhost:8080/"
        },
        "id": "04O4yuNif9wa",
        "outputId": "ed203b94-d220-4a7a-b830-e9172cbe3131"
      },
      "source": [
        "\n",
        "arr = np.array([[1, 2, 3], [4, 5, 6], [7, 8, 9], [10, 11, 12], [13, 14, 15], [16, 17, 18]])\n",
        "\n",
        "newarr = np.hsplit(arr, 3)\n",
        "\n",
        "print(newarr)"
      ],
      "execution_count": 61,
      "outputs": [
        {
          "output_type": "stream",
          "text": [
            "[array([[ 1],\n",
            "       [ 4],\n",
            "       [ 7],\n",
            "       [10],\n",
            "       [13],\n",
            "       [16]]), array([[ 2],\n",
            "       [ 5],\n",
            "       [ 8],\n",
            "       [11],\n",
            "       [14],\n",
            "       [17]]), array([[ 3],\n",
            "       [ 6],\n",
            "       [ 9],\n",
            "       [12],\n",
            "       [15],\n",
            "       [18]])]\n"
          ],
          "name": "stdout"
        }
      ]
    },
    {
      "cell_type": "code",
      "metadata": {
        "id": "_vSZqg7Hgofa"
      },
      "source": [
        ""
      ],
      "execution_count": null,
      "outputs": []
    },
    {
      "cell_type": "markdown",
      "metadata": {
        "id": "yiFNEIQShPas"
      },
      "source": [
        "# NumPy Searching Arrays\n"
      ]
    },
    {
      "cell_type": "code",
      "metadata": {
        "id": "7KwOqc7GhQZf"
      },
      "source": [
        "# To search an array, use the where() method.\n",
        "\n"
      ],
      "execution_count": 62,
      "outputs": []
    },
    {
      "cell_type": "code",
      "metadata": {
        "colab": {
          "base_uri": "https://localhost:8080/"
        },
        "id": "AgX41zkvhWcd",
        "outputId": "0461d4be-2858-478e-ec17-5be1bac87394"
      },
      "source": [
        "# Find the indexes where the value is 4:\n",
        "\n",
        "arr = np.array([1, 2, 3, 4, 5, 4, 4])\n",
        "\n",
        "x = np.where(arr == 4)\n",
        "\n",
        "print(x)"
      ],
      "execution_count": 63,
      "outputs": [
        {
          "output_type": "stream",
          "text": [
            "(array([3, 5, 6]),)\n"
          ],
          "name": "stdout"
        }
      ]
    },
    {
      "cell_type": "code",
      "metadata": {
        "id": "JiCEfveYhirG"
      },
      "source": [
        "# Find the indexes where the values are even:\n",
        "\n"
      ],
      "execution_count": 64,
      "outputs": []
    },
    {
      "cell_type": "code",
      "metadata": {
        "colab": {
          "base_uri": "https://localhost:8080/"
        },
        "id": "p-H7w0l3h2nM",
        "outputId": "88ddddf2-b616-4a35-a466-946cf2ab2bf1"
      },
      "source": [
        "arr = np.array([1, 2, 3, 4, 5, 6, 7, 8])\n",
        "\n",
        "x = np.where(arr%2 == 0)\n",
        "\n",
        "print(x)          #  output in indexing wise"
      ],
      "execution_count": 66,
      "outputs": [
        {
          "output_type": "stream",
          "text": [
            "(array([1, 3, 5, 7]),)\n"
          ],
          "name": "stdout"
        }
      ]
    },
    {
      "cell_type": "code",
      "metadata": {
        "id": "y7u-_QKoh6pr"
      },
      "source": [
        ""
      ],
      "execution_count": null,
      "outputs": []
    },
    {
      "cell_type": "markdown",
      "metadata": {
        "id": "XLTq0HJ9iU6F"
      },
      "source": [
        "# Search Sorted\n"
      ]
    },
    {
      "cell_type": "code",
      "metadata": {
        "id": "JCi8RSuQiWK-"
      },
      "source": [
        "# The searchsorted() method is assumed to be used on sorted arrays.\n",
        "\n"
      ],
      "execution_count": 67,
      "outputs": []
    },
    {
      "cell_type": "code",
      "metadata": {
        "colab": {
          "base_uri": "https://localhost:8080/"
        },
        "id": "9howbQmJigpo",
        "outputId": "c2165789-cef3-4395-d9de-6a7b0ca86d34"
      },
      "source": [
        "# Find the indexes where the value 7 should be inserted:\n",
        "\n",
        "arr = np.array([6, 7, 8, 9])\n",
        "\n",
        "x = np.searchsorted(arr, 7)\n",
        "\n",
        "print(x)                           # we can find of indexing of element"
      ],
      "execution_count": 72,
      "outputs": [
        {
          "output_type": "stream",
          "text": [
            "1\n"
          ],
          "name": "stdout"
        }
      ]
    },
    {
      "cell_type": "markdown",
      "metadata": {
        "id": "ougIZlKxjTkL"
      },
      "source": [
        "Search From the Right Side\n"
      ]
    },
    {
      "cell_type": "code",
      "metadata": {
        "colab": {
          "base_uri": "https://localhost:8080/"
        },
        "id": "U4XZkU_ciwnw",
        "outputId": "823ebc5d-240c-4b48-91c3-f01a664c9fb4"
      },
      "source": [
        "# Find the indexes where the value 7 should be inserted, starting from the right:\n",
        "\n",
        "arr = np.array([6, 7, 8, 9])\n",
        "\n",
        "x = np.searchsorted(arr, 7, side='right')\n",
        "\n",
        "print(x)"
      ],
      "execution_count": 73,
      "outputs": [
        {
          "output_type": "stream",
          "text": [
            "2\n"
          ],
          "name": "stdout"
        }
      ]
    },
    {
      "cell_type": "code",
      "metadata": {
        "colab": {
          "base_uri": "https://localhost:8080/"
        },
        "id": "ZNSKQKoGjdl7",
        "outputId": "f8d981ee-c850-4d03-e20e-baa6d5e59ed3"
      },
      "source": [
        "# Find the indexes where the values 2, 4, and 6 should be inserted:\n",
        "\n",
        "arr = np.array([1, 3, 5, 7])\n",
        "\n",
        "x = np.searchsorted(arr, [2, 4, 6])\n",
        "\n",
        "print(x)"
      ],
      "execution_count": 74,
      "outputs": [
        {
          "output_type": "stream",
          "text": [
            "[1 2 3]\n"
          ],
          "name": "stdout"
        }
      ]
    },
    {
      "cell_type": "code",
      "metadata": {
        "id": "zX9JMkZcjn2E"
      },
      "source": [
        ""
      ],
      "execution_count": null,
      "outputs": []
    },
    {
      "cell_type": "markdown",
      "metadata": {
        "id": "rLSHzAYpkE-N"
      },
      "source": [
        "# NumPy Sorting Arrays\n"
      ]
    },
    {
      "cell_type": "code",
      "metadata": {
        "id": "kPCyMNSakF3E"
      },
      "source": [
        "# Sorting means putting elements in an ordered sequence.\n",
        "\n",
        "# The NumPy ndarray object has a function called sort(), that will sort a specified array.\n",
        "\n"
      ],
      "execution_count": 75,
      "outputs": []
    },
    {
      "cell_type": "code",
      "metadata": {
        "colab": {
          "base_uri": "https://localhost:8080/"
        },
        "id": "y0w8PTOck5Ld",
        "outputId": "81b06406-3e0a-4f22-9155-e335820604f0"
      },
      "source": [
        "arr = np.array([3, 2, 0, 1])\n",
        "print(np.sort(arr))"
      ],
      "execution_count": 76,
      "outputs": [
        {
          "output_type": "stream",
          "text": [
            "[0 1 2 3]\n"
          ],
          "name": "stdout"
        }
      ]
    },
    {
      "cell_type": "code",
      "metadata": {
        "colab": {
          "base_uri": "https://localhost:8080/"
        },
        "id": "JhD9-5UzlB81",
        "outputId": "d7748529-5fa8-4d91-ed63-2f77a81f12aa"
      },
      "source": [
        "# Sort the array alphabetically:\n",
        "\n",
        "arr = np.array(['banana', 'cherry', 'apple'])\n",
        "\n",
        "print(np.sort(arr))"
      ],
      "execution_count": 77,
      "outputs": [
        {
          "output_type": "stream",
          "text": [
            "['apple' 'banana' 'cherry']\n"
          ],
          "name": "stdout"
        }
      ]
    },
    {
      "cell_type": "code",
      "metadata": {
        "colab": {
          "base_uri": "https://localhost:8080/"
        },
        "id": "jDkcR9YCl9kA",
        "outputId": "643d13da-02a8-4d01-a86b-4574befc4d3a"
      },
      "source": [
        "# Sort a boolean array:\n",
        "\n",
        "arr = np.array([True, False, True])\n",
        "\n",
        "print(np.sort(arr))"
      ],
      "execution_count": 78,
      "outputs": [
        {
          "output_type": "stream",
          "text": [
            "[False  True  True]\n"
          ],
          "name": "stdout"
        }
      ]
    },
    {
      "cell_type": "markdown",
      "metadata": {
        "id": "ZNu4RGVImXUO"
      },
      "source": [
        "Sorting a 2-D Array\n"
      ]
    },
    {
      "cell_type": "code",
      "metadata": {
        "colab": {
          "base_uri": "https://localhost:8080/"
        },
        "id": "_fjzbd7CmRXi",
        "outputId": "28ec9ed0-d169-45c5-ac20-aa478a93b694"
      },
      "source": [
        "# If you use the sort() method on a 2-D array, both arrays will be sorted:\n",
        "\n",
        "arr = np.array([[3, 2, 4], [5, 0, 1]])\n",
        "\n",
        "print(np.sort(arr))"
      ],
      "execution_count": 79,
      "outputs": [
        {
          "output_type": "stream",
          "text": [
            "[[2 3 4]\n",
            " [0 1 5]]\n"
          ],
          "name": "stdout"
        }
      ]
    },
    {
      "cell_type": "code",
      "metadata": {
        "id": "cuYDTVwtmgQp"
      },
      "source": [
        ""
      ],
      "execution_count": null,
      "outputs": []
    },
    {
      "cell_type": "markdown",
      "metadata": {
        "id": "bZ_TvZ3Jm53e"
      },
      "source": [
        "# NumPy Filter Array\n"
      ]
    },
    {
      "cell_type": "code",
      "metadata": {
        "id": "BfCk67EBm60P"
      },
      "source": [
        "# Getting some elements out of an existing array and creating a new array out of them is called filtering.\n",
        "\n",
        "# In NumPy, you filter an array using a boolean index list.\n",
        "\n",
        "# A boolean index list is a list of booleans corresponding to indexes in the array."
      ],
      "execution_count": 80,
      "outputs": []
    },
    {
      "cell_type": "code",
      "metadata": {
        "id": "qChpWqILnDtf"
      },
      "source": [
        "# If the value at an index is True that element is contained in the filtered array, \n",
        "# if the value at that index is False that element is excluded from the filtered array.\n",
        "\n"
      ],
      "execution_count": 81,
      "outputs": []
    },
    {
      "cell_type": "code",
      "metadata": {
        "colab": {
          "base_uri": "https://localhost:8080/"
        },
        "id": "6tu8fXg1nMz0",
        "outputId": "f7e259cd-54b7-45a0-8893-458c98cb7818"
      },
      "source": [
        "# Create an array from the elements on index 0 and 2:\n",
        "\n",
        "arr = np.array([41, 42, 43, 44])\n",
        "\n",
        "x = [True, False, True, False]\n",
        "\n",
        "newarr = arr[x]\n",
        "\n",
        "print(newarr)  #  the filter array had the value True, in this case, index 0 and 2.\n",
        "\n"
      ],
      "execution_count": 83,
      "outputs": [
        {
          "output_type": "stream",
          "text": [
            "[41 43]\n"
          ],
          "name": "stdout"
        }
      ]
    },
    {
      "cell_type": "markdown",
      "metadata": {
        "id": "t2Y4vjYVnuo9"
      },
      "source": [
        "Creating the Filter Array\n"
      ]
    },
    {
      "cell_type": "code",
      "metadata": {
        "colab": {
          "base_uri": "https://localhost:8080/"
        },
        "id": "gqiwt7i7nZS8",
        "outputId": "f150296b-c738-4830-b292-b8ad385dd03c"
      },
      "source": [
        "arr = np.array([41, 42, 43, 44])\n",
        "\n",
        "# Create an empty list\n",
        "filter_arr = []\n",
        "# go through each element in arr\n",
        "for element in arr:\n",
        "  # if the element is higher than 42, set the value to True, otherwise False:\n",
        "  if element > 42:\n",
        "    filter_arr.append(True)\n",
        "  else:\n",
        "    filter_arr.append(False)\n",
        "\n",
        "newarr = arr[filter_arr]\n",
        "\n",
        "print(filter_arr)\n",
        "print(newarr)"
      ],
      "execution_count": 84,
      "outputs": [
        {
          "output_type": "stream",
          "text": [
            "[False, False, True, True]\n",
            "[43 44]\n"
          ],
          "name": "stdout"
        }
      ]
    },
    {
      "cell_type": "code",
      "metadata": {
        "colab": {
          "base_uri": "https://localhost:8080/"
        },
        "id": "f8D2FVdZoCbL",
        "outputId": "ae08452b-0a79-4b8c-b238-e1947ae65037"
      },
      "source": [
        "arr = np.array([1, 2, 3, 4, 5, 6, 7])\n",
        "\n",
        "# Create an empty list\n",
        "filter_arr = []\n",
        "\n",
        "# go through each element in arr\n",
        "for element in arr:\n",
        "  # if the element is completely divisble by 2, set the value to True, otherwise False\n",
        "  if element % 2 == 0:\n",
        "    filter_arr.append(True)\n",
        "  else:\n",
        "    filter_arr.append(False)\n",
        "\n",
        "newarr = arr[filter_arr]\n",
        "\n",
        "print(filter_arr)\n",
        "print(newarr)"
      ],
      "execution_count": 85,
      "outputs": [
        {
          "output_type": "stream",
          "text": [
            "[False, True, False, True, False, True, False]\n",
            "[2 4 6]\n"
          ],
          "name": "stdout"
        }
      ]
    },
    {
      "cell_type": "markdown",
      "metadata": {
        "id": "SBuypdPLocly"
      },
      "source": [
        "Creating Filter Directly From Array\n"
      ]
    },
    {
      "cell_type": "code",
      "metadata": {
        "colab": {
          "base_uri": "https://localhost:8080/"
        },
        "id": "WZh09_NOoWTz",
        "outputId": "bedb3393-c103-4189-8a53-1a00eb57c14f"
      },
      "source": [
        "arr = np.array([41, 42, 43, 44])\n",
        "\n",
        "filter_arr = arr > 42\n",
        "\n",
        "newarr = arr[filter_arr]\n",
        "\n",
        "print(filter_arr)\n",
        "print(newarr)"
      ],
      "execution_count": 86,
      "outputs": [
        {
          "output_type": "stream",
          "text": [
            "[False False  True  True]\n",
            "[43 44]\n"
          ],
          "name": "stdout"
        }
      ]
    },
    {
      "cell_type": "code",
      "metadata": {
        "colab": {
          "base_uri": "https://localhost:8080/"
        },
        "id": "hY5OlFMDohjR",
        "outputId": "511dfe0c-3af2-4314-f3d4-12ce85cf7459"
      },
      "source": [
        "arr = np.array([1, 2, 3, 4, 5, 6, 7])\n",
        "\n",
        "filter_arr = arr % 2 == 0\n",
        "\n",
        "newarr = arr[filter_arr]\n",
        "\n",
        "print(filter_arr)\n",
        "print(newarr)"
      ],
      "execution_count": 87,
      "outputs": [
        {
          "output_type": "stream",
          "text": [
            "[False  True False  True False  True False]\n",
            "[2 4 6]\n"
          ],
          "name": "stdout"
        }
      ]
    },
    {
      "cell_type": "code",
      "metadata": {
        "id": "sBTh6yYxosqT"
      },
      "source": [
        ""
      ],
      "execution_count": null,
      "outputs": []
    }
  ]
}