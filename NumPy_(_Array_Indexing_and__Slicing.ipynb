{
  "nbformat": 4,
  "nbformat_minor": 0,
  "metadata": {
    "colab": {
      "name": "NumPy ( Array_Indexing_and _Slicing.ipynb",
      "provenance": []
    },
    "kernelspec": {
      "name": "python3",
      "display_name": "Python 3"
    },
    "language_info": {
      "name": "python"
    }
  },
  "cells": [
    {
      "cell_type": "code",
      "metadata": {
        "id": "IdTgGpvw5hwX"
      },
      "source": [
        "import numpy as np"
      ],
      "execution_count": 1,
      "outputs": []
    },
    {
      "cell_type": "code",
      "metadata": {
        "colab": {
          "base_uri": "https://localhost:8080/"
        },
        "id": "VS0RXBqv5ylv",
        "outputId": "cfc1e03f-2e18-42fa-957b-e649bf94fd2a"
      },
      "source": [
        "a = [1,2,3,43]\n",
        "type(a)"
      ],
      "execution_count": 11,
      "outputs": [
        {
          "output_type": "execute_result",
          "data": {
            "text/plain": [
              "list"
            ]
          },
          "metadata": {
            "tags": []
          },
          "execution_count": 11
        }
      ]
    },
    {
      "cell_type": "code",
      "metadata": {
        "id": "_B47urOP6LDE"
      },
      "source": [
        "arr =  np.array([1,2,3,4,5])    # this is a array"
      ],
      "execution_count": 12,
      "outputs": []
    },
    {
      "cell_type": "code",
      "metadata": {
        "colab": {
          "base_uri": "https://localhost:8080/"
        },
        "id": "-FXqX-BA6S4R",
        "outputId": "92a449af-4557-4bc0-f052-13f35d7fb129"
      },
      "source": [
        "arr"
      ],
      "execution_count": 3,
      "outputs": [
        {
          "output_type": "execute_result",
          "data": {
            "text/plain": [
              "array([1, 2, 3, 4, 5])"
            ]
          },
          "metadata": {
            "tags": []
          },
          "execution_count": 3
        }
      ]
    },
    {
      "cell_type": "code",
      "metadata": {
        "colab": {
          "base_uri": "https://localhost:8080/"
        },
        "id": "KZ0ZBa8Y6U_x",
        "outputId": "da7ff69e-b9b4-4b24-8847-135a3b6a34c0"
      },
      "source": [
        "type(arr)   #  we can check type of array"
      ],
      "execution_count": 4,
      "outputs": [
        {
          "output_type": "execute_result",
          "data": {
            "text/plain": [
              "numpy.ndarray"
            ]
          },
          "metadata": {
            "tags": []
          },
          "execution_count": 4
        }
      ]
    },
    {
      "cell_type": "code",
      "metadata": {
        "id": "9JZ2Ac4z6gBs"
      },
      "source": [
        "arr1 = np.array((1,2,3,4,5))   #  This is a Tuple"
      ],
      "execution_count": 7,
      "outputs": []
    },
    {
      "cell_type": "code",
      "metadata": {
        "colab": {
          "base_uri": "https://localhost:8080/"
        },
        "id": "BgYeT20S6pwW",
        "outputId": "bc8334e5-1cc0-48e0-a119-906f09f8ada3"
      },
      "source": [
        "print(arr1)"
      ],
      "execution_count": 13,
      "outputs": [
        {
          "output_type": "stream",
          "text": [
            "[1 2 3 4 5]\n"
          ],
          "name": "stdout"
        }
      ]
    },
    {
      "cell_type": "code",
      "metadata": {
        "colab": {
          "base_uri": "https://localhost:8080/"
        },
        "id": "Tqd4kDIs68vL",
        "outputId": "a0f55d68-8bd1-448e-9b3b-5833c65e3647"
      },
      "source": [
        "type(arr1)"
      ],
      "execution_count": 9,
      "outputs": [
        {
          "output_type": "execute_result",
          "data": {
            "text/plain": [
              "numpy.ndarray"
            ]
          },
          "metadata": {
            "tags": []
          },
          "execution_count": 9
        }
      ]
    },
    {
      "cell_type": "code",
      "metadata": {
        "id": "iJ6L0gGB7ClE"
      },
      "source": [
        "arr2 = [ 1,2,3,4,5]   #  this is a list"
      ],
      "execution_count": 14,
      "outputs": []
    },
    {
      "cell_type": "code",
      "metadata": {
        "colab": {
          "base_uri": "https://localhost:8080/"
        },
        "id": "M78nnqi18mVB",
        "outputId": "74cdd80f-7edf-476e-e1f8-f086b31699aa"
      },
      "source": [
        "type(arr2)"
      ],
      "execution_count": 15,
      "outputs": [
        {
          "output_type": "execute_result",
          "data": {
            "text/plain": [
              "list"
            ]
          },
          "metadata": {
            "tags": []
          },
          "execution_count": 15
        }
      ]
    },
    {
      "cell_type": "code",
      "metadata": {
        "id": "X-fk1_2l8sge"
      },
      "source": [
        "arr = np.array(arr2)   #  in numpy array we can pass dictionary,list,tuple and convert into array."
      ],
      "execution_count": 16,
      "outputs": []
    },
    {
      "cell_type": "code",
      "metadata": {
        "colab": {
          "base_uri": "https://localhost:8080/"
        },
        "id": "dM_m27S282XN",
        "outputId": "001a2356-9c2d-47ae-99e2-10c24f35f0d2"
      },
      "source": [
        "type(arr)"
      ],
      "execution_count": 17,
      "outputs": [
        {
          "output_type": "execute_result",
          "data": {
            "text/plain": [
              "numpy.ndarray"
            ]
          },
          "metadata": {
            "tags": []
          },
          "execution_count": 17
        }
      ]
    },
    {
      "cell_type": "code",
      "metadata": {
        "colab": {
          "base_uri": "https://localhost:8080/"
        },
        "id": "8vzGTHYA87L9",
        "outputId": "73d6bf9a-5cf0-47f4-834a-a4b22cb2ce94"
      },
      "source": [
        "arr"
      ],
      "execution_count": 18,
      "outputs": [
        {
          "output_type": "execute_result",
          "data": {
            "text/plain": [
              "array([1, 2, 3, 4, 5])"
            ]
          },
          "metadata": {
            "tags": []
          },
          "execution_count": 18
        }
      ]
    },
    {
      "cell_type": "markdown",
      "metadata": {
        "id": "ELwHfTJe91Jn"
      },
      "source": [
        "# 0-D Arrays\n"
      ]
    },
    {
      "cell_type": "code",
      "metadata": {
        "id": "XA1QdhvD-y8s"
      },
      "source": [
        "#  0-D arrays, or Scalars, are the elements in an array. Each value in an array is a 0-D array."
      ],
      "execution_count": null,
      "outputs": []
    },
    {
      "cell_type": "code",
      "metadata": {
        "id": "zec2u5XJ8-HD"
      },
      "source": [
        "arr = np.array(100)"
      ],
      "execution_count": 19,
      "outputs": []
    },
    {
      "cell_type": "code",
      "metadata": {
        "colab": {
          "base_uri": "https://localhost:8080/"
        },
        "id": "9n26C-KV-Bdd",
        "outputId": "d3610356-0b16-47dc-c026-c76b091ba685"
      },
      "source": [
        "print(arr)"
      ],
      "execution_count": 20,
      "outputs": [
        {
          "output_type": "stream",
          "text": [
            "100\n"
          ],
          "name": "stdout"
        }
      ]
    },
    {
      "cell_type": "code",
      "metadata": {
        "colab": {
          "base_uri": "https://localhost:8080/"
        },
        "id": "H0YbgjyX-EfV",
        "outputId": "400d771a-59c5-45cd-96cd-422c14b34afa"
      },
      "source": [
        "type(arr)"
      ],
      "execution_count": 21,
      "outputs": [
        {
          "output_type": "execute_result",
          "data": {
            "text/plain": [
              "numpy.ndarray"
            ]
          },
          "metadata": {
            "tags": []
          },
          "execution_count": 21
        }
      ]
    },
    {
      "cell_type": "code",
      "metadata": {
        "colab": {
          "base_uri": "https://localhost:8080/"
        },
        "id": "C3_l61hO-H5c",
        "outputId": "8374ba45-3faa-4a0d-bbdb-c9072ccbd80f"
      },
      "source": [
        "arr.ndim"
      ],
      "execution_count": 22,
      "outputs": [
        {
          "output_type": "execute_result",
          "data": {
            "text/plain": [
              "0"
            ]
          },
          "metadata": {
            "tags": []
          },
          "execution_count": 22
        }
      ]
    },
    {
      "cell_type": "code",
      "metadata": {
        "id": "3RqLZkcy-Nxy"
      },
      "source": [
        "\n"
      ],
      "execution_count": null,
      "outputs": []
    },
    {
      "cell_type": "markdown",
      "metadata": {
        "id": "8JGvX-iM-UDf"
      },
      "source": [
        "# 1-D Arrays\n"
      ]
    },
    {
      "cell_type": "code",
      "metadata": {
        "id": "YM6Euhgk-WTR"
      },
      "source": [
        "# An array that has 0-D arrays as its elements is called uni-dimensional or 1-D array.\n",
        "\n"
      ],
      "execution_count": 23,
      "outputs": []
    },
    {
      "cell_type": "code",
      "metadata": {
        "id": "N-UpDvKT-7RW"
      },
      "source": [
        "arr = np.array([1, 2, 3, 4, 5])\n"
      ],
      "execution_count": 24,
      "outputs": []
    },
    {
      "cell_type": "code",
      "metadata": {
        "colab": {
          "base_uri": "https://localhost:8080/"
        },
        "id": "ETSdaP69_GvM",
        "outputId": "d2305355-5683-4743-f383-07669b2c03f1"
      },
      "source": [
        "arr"
      ],
      "execution_count": 25,
      "outputs": [
        {
          "output_type": "execute_result",
          "data": {
            "text/plain": [
              "array([1, 2, 3, 4, 5])"
            ]
          },
          "metadata": {
            "tags": []
          },
          "execution_count": 25
        }
      ]
    },
    {
      "cell_type": "code",
      "metadata": {
        "colab": {
          "base_uri": "https://localhost:8080/"
        },
        "id": "ZQkGCR8S_HlT",
        "outputId": "c2ffb0df-27c2-4ec7-940e-c4cb633c022b"
      },
      "source": [
        "arr.ndim"
      ],
      "execution_count": 26,
      "outputs": [
        {
          "output_type": "execute_result",
          "data": {
            "text/plain": [
              "1"
            ]
          },
          "metadata": {
            "tags": []
          },
          "execution_count": 26
        }
      ]
    },
    {
      "cell_type": "code",
      "metadata": {
        "id": "CLAa6AzI_KUC"
      },
      "source": [
        ""
      ],
      "execution_count": null,
      "outputs": []
    },
    {
      "cell_type": "markdown",
      "metadata": {
        "id": "2N1NgGdU_P4a"
      },
      "source": [
        "# 2-D Arrays\n"
      ]
    },
    {
      "cell_type": "code",
      "metadata": {
        "id": "xAPpbilP_SQx"
      },
      "source": [
        "# An array that has 1-D arrays as its elements is called a 2-D array.\n",
        "\n",
        "# These are often used to represent matrix or 2nd order tensors."
      ],
      "execution_count": 27,
      "outputs": []
    },
    {
      "cell_type": "code",
      "metadata": {
        "id": "mA40Ol3J_XjN"
      },
      "source": [
        "arr = np.array([[1, 2, 3], [4, 5, 6]])\n"
      ],
      "execution_count": 28,
      "outputs": []
    },
    {
      "cell_type": "code",
      "metadata": {
        "colab": {
          "base_uri": "https://localhost:8080/"
        },
        "id": "0dnbvlC3_nRp",
        "outputId": "77556ef9-a660-4eb5-b6a0-d349cba4b2fe"
      },
      "source": [
        "arr.ndim"
      ],
      "execution_count": 29,
      "outputs": [
        {
          "output_type": "execute_result",
          "data": {
            "text/plain": [
              "2"
            ]
          },
          "metadata": {
            "tags": []
          },
          "execution_count": 29
        }
      ]
    },
    {
      "cell_type": "code",
      "metadata": {
        "id": "iTmgHwml_p_R"
      },
      "source": [
        ""
      ],
      "execution_count": null,
      "outputs": []
    },
    {
      "cell_type": "markdown",
      "metadata": {
        "id": "2m7SBP8b_zc4"
      },
      "source": [
        "# 3-D arrays\n"
      ]
    },
    {
      "cell_type": "code",
      "metadata": {
        "id": "Qnl2pEd1_2PX"
      },
      "source": [
        "# An array that has 2-D arrays (matrices) as its elements is called 3-D array.\n",
        "\n",
        "#These are often used to represent a 3rd order tensor."
      ],
      "execution_count": 30,
      "outputs": []
    },
    {
      "cell_type": "code",
      "metadata": {
        "id": "m9UG8nXz_8W0"
      },
      "source": [
        "arr = np.array([[[1, 2, 3], [4, 5, 6]], [[1, 2, 3], [4, 5, 6]]])\n"
      ],
      "execution_count": 31,
      "outputs": []
    },
    {
      "cell_type": "code",
      "metadata": {
        "colab": {
          "base_uri": "https://localhost:8080/"
        },
        "id": "Eq1Yd9FCAJZ-",
        "outputId": "7e670cdc-1504-456d-85b3-c8ab1b13b27e"
      },
      "source": [
        "arr.ndim"
      ],
      "execution_count": 32,
      "outputs": [
        {
          "output_type": "execute_result",
          "data": {
            "text/plain": [
              "3"
            ]
          },
          "metadata": {
            "tags": []
          },
          "execution_count": 32
        }
      ]
    },
    {
      "cell_type": "code",
      "metadata": {
        "colab": {
          "base_uri": "https://localhost:8080/"
        },
        "id": "PjvnfXM6AL6h",
        "outputId": "a094c0cd-9613-46d7-93b0-ef565d353153"
      },
      "source": [
        "arr"
      ],
      "execution_count": 33,
      "outputs": [
        {
          "output_type": "execute_result",
          "data": {
            "text/plain": [
              "array([[[1, 2, 3],\n",
              "        [4, 5, 6]],\n",
              "\n",
              "       [[1, 2, 3],\n",
              "        [4, 5, 6]]])"
            ]
          },
          "metadata": {
            "tags": []
          },
          "execution_count": 33
        }
      ]
    },
    {
      "cell_type": "code",
      "metadata": {
        "id": "6siU-3pRANHL"
      },
      "source": [
        ""
      ],
      "execution_count": null,
      "outputs": []
    },
    {
      "cell_type": "markdown",
      "metadata": {
        "id": "RFfRdobrAaHN"
      },
      "source": [
        "# Higher Dimensional Arrays\n"
      ]
    },
    {
      "cell_type": "code",
      "metadata": {
        "id": "cSlE3wpJAcHq"
      },
      "source": [
        "# An array can have any number of dimensions.\n",
        "\n",
        "# When the array is created, you can define the number of dimensions by using the ndmin argument."
      ],
      "execution_count": 34,
      "outputs": []
    },
    {
      "cell_type": "code",
      "metadata": {
        "colab": {
          "base_uri": "https://localhost:8080/"
        },
        "id": "aZwQFe1gAh6I",
        "outputId": "923e562e-645a-46da-bf71-30aab025dd2d"
      },
      "source": [
        "# Create an array with 5 dimensions and verify that it has 5 dimensions:\n",
        "\n",
        "arr = np.array([1, 2, 3, 4], ndmin=5)\n",
        "arr"
      ],
      "execution_count": 35,
      "outputs": [
        {
          "output_type": "execute_result",
          "data": {
            "text/plain": [
              "array([[[[[1, 2, 3, 4]]]]])"
            ]
          },
          "metadata": {
            "tags": []
          },
          "execution_count": 35
        }
      ]
    },
    {
      "cell_type": "code",
      "metadata": {
        "colab": {
          "base_uri": "https://localhost:8080/"
        },
        "id": "NMMLWFZFAq5G",
        "outputId": "b2dd3a36-ab99-4e8b-8e44-bf80999e92cf"
      },
      "source": [
        "arr.ndim"
      ],
      "execution_count": 36,
      "outputs": [
        {
          "output_type": "execute_result",
          "data": {
            "text/plain": [
              "5"
            ]
          },
          "metadata": {
            "tags": []
          },
          "execution_count": 36
        }
      ]
    },
    {
      "cell_type": "code",
      "metadata": {
        "colab": {
          "base_uri": "https://localhost:8080/"
        },
        "id": "6HrRTslKAvTo",
        "outputId": "19301d1f-4f73-45ce-b558-ea4a20819cab"
      },
      "source": [
        "print('number of dimensions :', arr.ndim)\n"
      ],
      "execution_count": 37,
      "outputs": [
        {
          "output_type": "stream",
          "text": [
            "number of dimensions : 5\n"
          ],
          "name": "stdout"
        }
      ]
    },
    {
      "cell_type": "code",
      "metadata": {
        "id": "3J9oMLf3Az3v"
      },
      "source": [
        ""
      ],
      "execution_count": null,
      "outputs": []
    },
    {
      "cell_type": "code",
      "metadata": {
        "id": "KljHfawjBaht"
      },
      "source": [
        ""
      ],
      "execution_count": null,
      "outputs": []
    },
    {
      "cell_type": "markdown",
      "metadata": {
        "id": "Pu6l9CjIBbDX"
      },
      "source": [
        "#  NumPy Array Indexing\n"
      ]
    },
    {
      "cell_type": "code",
      "metadata": {
        "id": "rcM_S0DPBg7V"
      },
      "source": [
        "# Array indexing is the same as accessing an array element.\n",
        "\n",
        "# You can access an array element by referring to its index number.\n",
        "\n",
        "# The indexes in NumPy arrays start with 0, meaning that the first element has index 0, and the second has index 1 etc."
      ],
      "execution_count": 38,
      "outputs": []
    },
    {
      "cell_type": "code",
      "metadata": {
        "id": "iOisPKkjBy41"
      },
      "source": [
        "import numpy as np\n"
      ],
      "execution_count": 39,
      "outputs": []
    },
    {
      "cell_type": "code",
      "metadata": {
        "colab": {
          "base_uri": "https://localhost:8080/"
        },
        "id": "OAm3mm0ZB490",
        "outputId": "f5b721c5-bdf6-47e6-c6bb-a3e8ae91030e"
      },
      "source": [
        "arr = np.array([1, 2, 3, 4])\n",
        "\n",
        "arr[2]    # we give index and get the number/value"
      ],
      "execution_count": 41,
      "outputs": [
        {
          "output_type": "execute_result",
          "data": {
            "text/plain": [
              "3"
            ]
          },
          "metadata": {
            "tags": []
          },
          "execution_count": 41
        }
      ]
    },
    {
      "cell_type": "code",
      "metadata": {
        "colab": {
          "base_uri": "https://localhost:8080/"
        },
        "id": "55oK9fbHB_Je",
        "outputId": "b27f7667-0f84-4e97-f3a5-e4c197390143"
      },
      "source": [
        "# Get third and fourth elements from the following array .\n",
        "\n",
        "print(arr[0],arr[3])"
      ],
      "execution_count": 42,
      "outputs": [
        {
          "output_type": "stream",
          "text": [
            "1 4\n"
          ],
          "name": "stdout"
        }
      ]
    },
    {
      "cell_type": "code",
      "metadata": {
        "colab": {
          "base_uri": "https://localhost:8080/"
        },
        "id": "FfeyusftCakC",
        "outputId": "82be5013-a16a-4ecd-c4a9-430f9037f620"
      },
      "source": [
        "# Get third and fourth elements from the following array and add them.\n",
        "\n",
        "arr = np.array([1, 2, 3, 4])\n",
        "\n",
        "print(arr[2] + arr[3])     #  3+4\n",
        "\n"
      ],
      "execution_count": 43,
      "outputs": [
        {
          "output_type": "stream",
          "text": [
            "7\n"
          ],
          "name": "stdout"
        }
      ]
    },
    {
      "cell_type": "code",
      "metadata": {
        "id": "wC9o7QH-CvS7"
      },
      "source": [
        ""
      ],
      "execution_count": null,
      "outputs": []
    },
    {
      "cell_type": "markdown",
      "metadata": {
        "id": "pgOfb0dNC44x"
      },
      "source": [
        "# Access 2-D Arrays\n"
      ]
    },
    {
      "cell_type": "code",
      "metadata": {
        "id": "dA7jcNqNC7PA"
      },
      "source": [
        "# To access elements from 2-D arrays we can use comma separated integers representing the dimension \n",
        "# and the index of the element.\n",
        "\n"
      ],
      "execution_count": 44,
      "outputs": []
    },
    {
      "cell_type": "code",
      "metadata": {
        "id": "Y7sp2ag-DDQC"
      },
      "source": [
        "arr = np.array([[1,2,3,4,5], [6,7,8,9,10]])\n"
      ],
      "execution_count": 45,
      "outputs": []
    },
    {
      "cell_type": "code",
      "metadata": {
        "colab": {
          "base_uri": "https://localhost:8080/"
        },
        "id": "0EVlcORoDHW1",
        "outputId": "8058b13f-db9b-491b-d0e2-400af8d21d37"
      },
      "source": [
        "# We got 3 in 1st dim\n",
        "\n",
        "arr[0,2]"
      ],
      "execution_count": 46,
      "outputs": [
        {
          "output_type": "execute_result",
          "data": {
            "text/plain": [
              "3"
            ]
          },
          "metadata": {
            "tags": []
          },
          "execution_count": 46
        }
      ]
    },
    {
      "cell_type": "code",
      "metadata": {
        "id": "YAoZVvpIDZ8n"
      },
      "source": [
        "# we got 9 in dim 2nd"
      ],
      "execution_count": 47,
      "outputs": []
    },
    {
      "cell_type": "code",
      "metadata": {
        "colab": {
          "base_uri": "https://localhost:8080/"
        },
        "id": "6UPF2ZPrDf4D",
        "outputId": "77f1e241-d33e-4b49-f065-b9d04eeda3c4"
      },
      "source": [
        "arr[1,3]"
      ],
      "execution_count": 48,
      "outputs": [
        {
          "output_type": "execute_result",
          "data": {
            "text/plain": [
              "9"
            ]
          },
          "metadata": {
            "tags": []
          },
          "execution_count": 48
        }
      ]
    },
    {
      "cell_type": "code",
      "metadata": {
        "id": "uY7wQhf9Dm14"
      },
      "source": [
        ""
      ],
      "execution_count": null,
      "outputs": []
    },
    {
      "cell_type": "markdown",
      "metadata": {
        "id": "xtLsVPOKDu3q"
      },
      "source": [
        "# Access 3-D Arrays\n"
      ]
    },
    {
      "cell_type": "code",
      "metadata": {
        "id": "DDBU34AHDxIw"
      },
      "source": [
        "# To access elements from 3-D arrays we can use comma separated integers representing the dimensions and the index of the element.\n",
        "\n"
      ],
      "execution_count": 49,
      "outputs": []
    },
    {
      "cell_type": "code",
      "metadata": {
        "colab": {
          "base_uri": "https://localhost:8080/"
        },
        "id": "d03gTLljD34h",
        "outputId": "389bcb28-32cd-487f-c220-8b3c39b531ce"
      },
      "source": [
        "# Access the third element of the second array of the first array:\n",
        "\n",
        "arr = np.array([[[1, 2, 3], [4, 5, 6]], [[7, 8, 9], [10, 11, 12]]])\n",
        "\n",
        "arr[0,1,2]"
      ],
      "execution_count": 53,
      "outputs": [
        {
          "output_type": "execute_result",
          "data": {
            "text/plain": [
              "6"
            ]
          },
          "metadata": {
            "tags": []
          },
          "execution_count": 53
        }
      ]
    },
    {
      "cell_type": "code",
      "metadata": {
        "id": "hoA5O-KFD_AR"
      },
      "source": [
        ""
      ],
      "execution_count": null,
      "outputs": []
    },
    {
      "cell_type": "markdown",
      "metadata": {
        "id": "QmO5HiXnE1-G"
      },
      "source": [
        "# Negative Indexing\n"
      ]
    },
    {
      "cell_type": "code",
      "metadata": {
        "id": "mL3KPIcmE4qf"
      },
      "source": [
        "# Use negative indexing to access an array from the end.\n",
        "\n"
      ],
      "execution_count": 54,
      "outputs": []
    },
    {
      "cell_type": "code",
      "metadata": {
        "id": "sEo6CJbmE8lz"
      },
      "source": [
        "arr = np.array([[1,2,3,4,5], [6,7,8,9,10]])\n"
      ],
      "execution_count": 55,
      "outputs": []
    },
    {
      "cell_type": "code",
      "metadata": {
        "colab": {
          "base_uri": "https://localhost:8080/"
        },
        "id": "xxoZLtf2FAGA",
        "outputId": "ac88375d-b31d-44d8-878f-ba3c0f0e3916"
      },
      "source": [
        "print('Last element from 2nd dim: ', arr[1, -1])\n"
      ],
      "execution_count": 58,
      "outputs": [
        {
          "output_type": "stream",
          "text": [
            "Last element from 2nd dim:  10\n"
          ],
          "name": "stdout"
        }
      ]
    },
    {
      "cell_type": "code",
      "metadata": {
        "id": "Ta5mrkTKFC7Q"
      },
      "source": [
        ""
      ],
      "execution_count": null,
      "outputs": []
    },
    {
      "cell_type": "code",
      "metadata": {
        "id": "PJrcqwZaFp8g"
      },
      "source": [
        ""
      ],
      "execution_count": null,
      "outputs": []
    },
    {
      "cell_type": "markdown",
      "metadata": {
        "id": "5D8WyePeFq-l"
      },
      "source": [
        "# NumPy Array Slicing\n"
      ]
    },
    {
      "cell_type": "code",
      "metadata": {
        "id": "MDNcANK7Fs4I"
      },
      "source": [
        "import numpy as np"
      ],
      "execution_count": 59,
      "outputs": []
    },
    {
      "cell_type": "markdown",
      "metadata": {
        "id": "5SoR7FNvF38w"
      },
      "source": [
        "Slicing arrays\n"
      ]
    },
    {
      "cell_type": "code",
      "metadata": {
        "id": "A1d5zknlFzRP"
      },
      "source": [
        "# We pass slice instead of index like this: [start:end].\n",
        "\n",
        "# We can also define the step, like this: [start:end:step].\n",
        "\n",
        "# If we don't pass start its considered 0\n",
        "\n",
        "# If we don't pass end its considered length of array in that dimension\n",
        "\n",
        "# If we don't pass step its considered 1"
      ],
      "execution_count": 60,
      "outputs": []
    },
    {
      "cell_type": "code",
      "metadata": {
        "colab": {
          "base_uri": "https://localhost:8080/"
        },
        "id": "gmT2VujRGFeg",
        "outputId": "fa24338b-c9cd-4751-b132-752414ee54a2"
      },
      "source": [
        "# Slice elements from index 1 to index 5 from the following array:\n",
        "\n",
        "arr = np.array([1, 2, 3, 4, 5, 6, 7])\n",
        "\n",
        "arr[1:5]"
      ],
      "execution_count": 61,
      "outputs": [
        {
          "output_type": "execute_result",
          "data": {
            "text/plain": [
              "array([2, 3, 4, 5])"
            ]
          },
          "metadata": {
            "tags": []
          },
          "execution_count": 61
        }
      ]
    },
    {
      "cell_type": "code",
      "metadata": {
        "colab": {
          "base_uri": "https://localhost:8080/"
        },
        "id": "yT-L7eL5Ga3k",
        "outputId": "d6564458-ed9a-4bc1-8316-79433cdf4da2"
      },
      "source": [
        "# Slice elements from index 4 to the end of the array:\n",
        "\n",
        "arr = np.array([1, 2, 3, 4, 5, 6, 7])\n",
        "\n",
        "arr[4:]"
      ],
      "execution_count": 62,
      "outputs": [
        {
          "output_type": "execute_result",
          "data": {
            "text/plain": [
              "array([5, 6, 7])"
            ]
          },
          "metadata": {
            "tags": []
          },
          "execution_count": 62
        }
      ]
    },
    {
      "cell_type": "code",
      "metadata": {
        "colab": {
          "base_uri": "https://localhost:8080/"
        },
        "id": "I188Q4wyGqAf",
        "outputId": "79fc1da2-2827-4965-b4b5-8ecfd654765e"
      },
      "source": [
        "# Slice elements from the beginning to index 4 (not included):\n",
        "\n",
        "arr = np.array([1, 2, 3, 4, 5, 6, 7])\n",
        "\n",
        "arr[:4]"
      ],
      "execution_count": 63,
      "outputs": [
        {
          "output_type": "execute_result",
          "data": {
            "text/plain": [
              "array([1, 2, 3, 4])"
            ]
          },
          "metadata": {
            "tags": []
          },
          "execution_count": 63
        }
      ]
    },
    {
      "cell_type": "code",
      "metadata": {
        "colab": {
          "base_uri": "https://localhost:8080/"
        },
        "id": "zkZ5wSXMG1t-",
        "outputId": "3e65f8e0-c962-4535-bc86-cf6cdea883ea"
      },
      "source": [
        "# Slice from the index 3 from the end to index 1 from the end:\n",
        "\n",
        "arr = np.array([1, 2, 3, 4, 5, 6, 7])\n",
        "\n",
        "arr[-3:-1]\n"
      ],
      "execution_count": 64,
      "outputs": [
        {
          "output_type": "execute_result",
          "data": {
            "text/plain": [
              "array([5, 6])"
            ]
          },
          "metadata": {
            "tags": []
          },
          "execution_count": 64
        }
      ]
    },
    {
      "cell_type": "code",
      "metadata": {
        "id": "RutntoZqHLPb"
      },
      "source": [
        ""
      ],
      "execution_count": null,
      "outputs": []
    },
    {
      "cell_type": "markdown",
      "metadata": {
        "id": "D3GCin8jHUFg"
      },
      "source": [
        "# STEP\n"
      ]
    },
    {
      "cell_type": "code",
      "metadata": {
        "id": "A8fjqGtJHWlP"
      },
      "source": [
        "# Use the step value to determine the step of the slicing:\n",
        "\n"
      ],
      "execution_count": 65,
      "outputs": []
    },
    {
      "cell_type": "code",
      "metadata": {
        "colab": {
          "base_uri": "https://localhost:8080/"
        },
        "id": "TtgwJHXNHdb1",
        "outputId": "8caac573-3fc5-44ab-fcab-e54d9c0601f3"
      },
      "source": [
        "# Return every other element from index 1 to index 5:\n",
        "\n",
        "arr = np.array([1, 2, 3, 4, 5, 6, 7])\n",
        "\n",
        "arr[1:5:2]"
      ],
      "execution_count": 66,
      "outputs": [
        {
          "output_type": "execute_result",
          "data": {
            "text/plain": [
              "array([2, 4])"
            ]
          },
          "metadata": {
            "tags": []
          },
          "execution_count": 66
        }
      ]
    },
    {
      "cell_type": "code",
      "metadata": {
        "colab": {
          "base_uri": "https://localhost:8080/"
        },
        "id": "J9SWwJ39Hzge",
        "outputId": "e33ea789-babd-456a-9861-447ac4c528c4"
      },
      "source": [
        "arr = np.array([1, 2, 3, 4, 5, 6, 7])\n",
        "\n",
        "print(arr[::2])\n"
      ],
      "execution_count": 67,
      "outputs": [
        {
          "output_type": "stream",
          "text": [
            "[1 3 5 7]\n"
          ],
          "name": "stdout"
        }
      ]
    },
    {
      "cell_type": "markdown",
      "metadata": {
        "id": "wmkRnsPyIOrG"
      },
      "source": [
        "# Slicing 2-D Arrays\n"
      ]
    },
    {
      "cell_type": "code",
      "metadata": {
        "id": "weGjCByOIHPm"
      },
      "source": [
        "# From the second element, slice elements from index 1 to index 4 (not included):\n",
        "\n"
      ],
      "execution_count": 68,
      "outputs": []
    },
    {
      "cell_type": "code",
      "metadata": {
        "colab": {
          "base_uri": "https://localhost:8080/"
        },
        "id": "xGol_ik1IZDh",
        "outputId": "84484353-d834-40e0-f677-339da369d0a1"
      },
      "source": [
        "arr = np.array([[1, 2, 3, 4, 5], [6, 7, 8, 9, 10]])\n",
        "\n",
        "print(arr[1, 1:4])\n"
      ],
      "execution_count": 69,
      "outputs": [
        {
          "output_type": "stream",
          "text": [
            "[7 8 9]\n"
          ],
          "name": "stdout"
        }
      ]
    },
    {
      "cell_type": "code",
      "metadata": {
        "colab": {
          "base_uri": "https://localhost:8080/"
        },
        "id": "tv2gDUQvIijs",
        "outputId": "88265cda-1a09-4cf6-a855-f161a166a3da"
      },
      "source": [
        "arr[0,1:3]"
      ],
      "execution_count": 70,
      "outputs": [
        {
          "output_type": "execute_result",
          "data": {
            "text/plain": [
              "array([2, 3])"
            ]
          },
          "metadata": {
            "tags": []
          },
          "execution_count": 70
        }
      ]
    },
    {
      "cell_type": "code",
      "metadata": {
        "colab": {
          "base_uri": "https://localhost:8080/"
        },
        "id": "nxRDiuGSIoiy",
        "outputId": "40c5ef96-174b-4725-f779-3fe756f2a1e3"
      },
      "source": [
        "print(arr[0:2, 2])  \n"
      ],
      "execution_count": 72,
      "outputs": [
        {
          "output_type": "stream",
          "text": [
            "[3 8]\n"
          ],
          "name": "stdout"
        }
      ]
    },
    {
      "cell_type": "code",
      "metadata": {
        "colab": {
          "base_uri": "https://localhost:8080/"
        },
        "id": "KCAVAIsFItjN",
        "outputId": "7d78325d-60e7-4570-8f13-0c867ba772ed"
      },
      "source": [
        "arr = np.array([[1, 2, 3, 4, 5], [6, 7, 8, 9, 10]])\n",
        "\n",
        "print(arr[0:2, 1:4])\n"
      ],
      "execution_count": 73,
      "outputs": [
        {
          "output_type": "stream",
          "text": [
            "[[2 3 4]\n",
            " [7 8 9]]\n"
          ],
          "name": "stdout"
        }
      ]
    },
    {
      "cell_type": "code",
      "metadata": {
        "colab": {
          "base_uri": "https://localhost:8080/"
        },
        "id": "7QmN06plK5eU",
        "outputId": "e1230a7f-6058-4f12-c4d6-7775b25f3fb5"
      },
      "source": [
        "arr[0:2,1:4]   # 1st element indicate of index and , 2nd is doing slicing"
      ],
      "execution_count": 79,
      "outputs": [
        {
          "output_type": "execute_result",
          "data": {
            "text/plain": [
              "array([[2, 3, 4],\n",
              "       [7, 8, 9]])"
            ]
          },
          "metadata": {
            "tags": []
          },
          "execution_count": 79
        }
      ]
    },
    {
      "cell_type": "code",
      "metadata": {
        "id": "c6eXvp1rLhcn"
      },
      "source": [
        ""
      ],
      "execution_count": null,
      "outputs": []
    }
  ]
}