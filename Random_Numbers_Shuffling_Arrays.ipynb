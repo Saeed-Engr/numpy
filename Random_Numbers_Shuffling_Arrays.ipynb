{
  "nbformat": 4,
  "nbformat_minor": 0,
  "metadata": {
    "colab": {
      "name": "Random Numbers_Shuffling Arrays.ipynb",
      "provenance": []
    },
    "kernelspec": {
      "name": "python3",
      "display_name": "Python 3"
    },
    "language_info": {
      "name": "python"
    }
  },
  "cells": [
    {
      "cell_type": "code",
      "metadata": {
        "id": "gVJuJ8pSmBrw"
      },
      "source": [
        "import numpy as np"
      ],
      "execution_count": 51,
      "outputs": []
    },
    {
      "cell_type": "code",
      "metadata": {
        "id": "OaSIfLBAnSdo"
      },
      "source": [
        ""
      ],
      "execution_count": 51,
      "outputs": []
    },
    {
      "cell_type": "markdown",
      "metadata": {
        "id": "IV4lMxcVnZfn"
      },
      "source": [
        "Random Numbers in NumPy\n"
      ]
    },
    {
      "cell_type": "code",
      "metadata": {
        "id": "GBm1CTtInarL"
      },
      "source": [
        "from numpy import random\n"
      ],
      "execution_count": 52,
      "outputs": []
    },
    {
      "cell_type": "code",
      "metadata": {
        "id": "BEBpz0d8n6oE"
      },
      "source": [
        "x = random.randint(100)\n"
      ],
      "execution_count": 53,
      "outputs": []
    },
    {
      "cell_type": "code",
      "metadata": {
        "colab": {
          "base_uri": "https://localhost:8080/"
        },
        "id": "ss5KtsBRn_Y8",
        "outputId": "223a94eb-1e34-4d0e-d13b-17e07b915070"
      },
      "source": [
        "print(x)"
      ],
      "execution_count": 54,
      "outputs": [
        {
          "output_type": "stream",
          "text": [
            "63\n"
          ],
          "name": "stdout"
        }
      ]
    },
    {
      "cell_type": "code",
      "metadata": {
        "id": "zXX1h4-eoBxK"
      },
      "source": [
        "v = random.randn(10)"
      ],
      "execution_count": 55,
      "outputs": []
    },
    {
      "cell_type": "code",
      "metadata": {
        "colab": {
          "base_uri": "https://localhost:8080/"
        },
        "id": "Aqf622KLoNnY",
        "outputId": "9f29f5a7-444d-46ef-c863-82e2c0714f74"
      },
      "source": [
        "print(v)"
      ],
      "execution_count": 56,
      "outputs": [
        {
          "output_type": "stream",
          "text": [
            "[-0.60830029 -1.48241641  0.18716604 -0.25219607  1.64588331 -0.176249\n",
            "  0.31020548 -2.20548238 -1.49544864  0.18484484]\n"
          ],
          "name": "stdout"
        }
      ]
    },
    {
      "cell_type": "code",
      "metadata": {
        "id": "MXRIaMvQoPmP"
      },
      "source": [
        "x = random.rand()\n"
      ],
      "execution_count": 57,
      "outputs": []
    },
    {
      "cell_type": "code",
      "metadata": {
        "colab": {
          "base_uri": "https://localhost:8080/"
        },
        "id": "0mameN5hoZba",
        "outputId": "01db26c3-4afd-44ee-898d-93e2d5ba904a"
      },
      "source": [
        "print(x)"
      ],
      "execution_count": 58,
      "outputs": [
        {
          "output_type": "stream",
          "text": [
            "0.5231256481978788\n"
          ],
          "name": "stdout"
        }
      ]
    },
    {
      "cell_type": "code",
      "metadata": {
        "colab": {
          "base_uri": "https://localhost:8080/"
        },
        "id": "JzMa0jc5uFOJ",
        "outputId": "77ef8a3f-6b35-4b8a-8b18-e897f9a6d20a"
      },
      "source": [
        "arr = random.rand()\n",
        "print(arr)"
      ],
      "execution_count": 59,
      "outputs": [
        {
          "output_type": "stream",
          "text": [
            "0.2661940825592142\n"
          ],
          "name": "stdout"
        }
      ]
    },
    {
      "cell_type": "code",
      "metadata": {
        "colab": {
          "base_uri": "https://localhost:8080/"
        },
        "id": "neehBN7juia-",
        "outputId": "9cb668de-1c74-4d1f-98c9-b87d61852c74"
      },
      "source": [
        "arr = random.randn()\n",
        "print(arr)"
      ],
      "execution_count": 60,
      "outputs": [
        {
          "output_type": "stream",
          "text": [
            "0.2290512134528824\n"
          ],
          "name": "stdout"
        }
      ]
    },
    {
      "cell_type": "code",
      "metadata": {
        "colab": {
          "base_uri": "https://localhost:8080/"
        },
        "id": "8UVjloMDuxt6",
        "outputId": "8c32492c-4554-4ec3-b94b-10120506970d"
      },
      "source": [
        "arr= random.rand(10)\n",
        "print(arr)"
      ],
      "execution_count": 61,
      "outputs": [
        {
          "output_type": "stream",
          "text": [
            "[0.41559004 0.98017635 0.61129678 0.86409257 0.02573649 0.17604998\n",
            " 0.08298193 0.40807769 0.38021513 0.25240408]\n"
          ],
          "name": "stdout"
        }
      ]
    },
    {
      "cell_type": "code",
      "metadata": {
        "colab": {
          "base_uri": "https://localhost:8080/"
        },
        "id": "Ug4gvZ4cu7xp",
        "outputId": "32c08828-d491-4f85-dd3c-22154b41f720"
      },
      "source": [
        "arr = random.randn(10)\n",
        "print(arr)"
      ],
      "execution_count": 62,
      "outputs": [
        {
          "output_type": "stream",
          "text": [
            "[-0.64256146 -2.42689402 -1.672218   -0.67776593 -0.39190458  0.1486327\n",
            "  0.79766454  0.2948207   0.5983486  -1.03320503]\n"
          ],
          "name": "stdout"
        }
      ]
    },
    {
      "cell_type": "markdown",
      "metadata": {
        "id": "k7fQQ_cSouBG"
      },
      "source": [
        "Generate Random Array\n"
      ]
    },
    {
      "cell_type": "code",
      "metadata": {
        "id": "OsrVEvVdoauN"
      },
      "source": [
        "x = random.randint(100,size=5)"
      ],
      "execution_count": 63,
      "outputs": []
    },
    {
      "cell_type": "code",
      "metadata": {
        "colab": {
          "base_uri": "https://localhost:8080/"
        },
        "id": "_Z-MT3Rmo7OB",
        "outputId": "07b58456-0e79-448a-f328-84377704f3af"
      },
      "source": [
        "print(x)"
      ],
      "execution_count": 64,
      "outputs": [
        {
          "output_type": "stream",
          "text": [
            "[71 76 25 66 65]\n"
          ],
          "name": "stdout"
        }
      ]
    },
    {
      "cell_type": "code",
      "metadata": {
        "id": "qGzOqeVjo9OD"
      },
      "source": [
        "# Generate a 2-D array with 3 rows, each row containing 5 random integers from 0 to 100:\n",
        "\n"
      ],
      "execution_count": 65,
      "outputs": []
    },
    {
      "cell_type": "code",
      "metadata": {
        "id": "bD7mmlq2pHlQ"
      },
      "source": [
        "x = random.randint(100, size=(3,5))"
      ],
      "execution_count": 66,
      "outputs": []
    },
    {
      "cell_type": "code",
      "metadata": {
        "colab": {
          "base_uri": "https://localhost:8080/"
        },
        "id": "-16ltX4rpRHR",
        "outputId": "22c70447-3a7b-42eb-e3a4-68fd0ae38da9"
      },
      "source": [
        "print(x)"
      ],
      "execution_count": 67,
      "outputs": [
        {
          "output_type": "stream",
          "text": [
            "[[82 18 15 97 14]\n",
            " [10 70 89 81 29]\n",
            " [61 76 58  8 74]]\n"
          ],
          "name": "stdout"
        }
      ]
    },
    {
      "cell_type": "markdown",
      "metadata": {
        "id": "ul3iDAWypp0C"
      },
      "source": [
        "The rand() method also allows you to specify the shape of the array.\n",
        "\n"
      ]
    },
    {
      "cell_type": "code",
      "metadata": {
        "colab": {
          "base_uri": "https://localhost:8080/"
        },
        "id": "wSLI9zj3pbcL",
        "outputId": "4b157039-3aee-4fed-9b07-259632e4673b"
      },
      "source": [
        "x = random.rand(5)\n",
        "x"
      ],
      "execution_count": 68,
      "outputs": [
        {
          "output_type": "execute_result",
          "data": {
            "text/plain": [
              "array([0.50312943, 0.61731995, 0.769376  , 0.82510612, 0.38395549])"
            ]
          },
          "metadata": {
            "tags": []
          },
          "execution_count": 68
        }
      ]
    },
    {
      "cell_type": "code",
      "metadata": {
        "colab": {
          "base_uri": "https://localhost:8080/"
        },
        "id": "HtjD8yoSpvGb",
        "outputId": "c0c5d9a3-b0d9-40bc-f9ac-317d538b0ab6"
      },
      "source": [
        "x = random.rand(3, 5)\n",
        "print(x)"
      ],
      "execution_count": 69,
      "outputs": [
        {
          "output_type": "stream",
          "text": [
            "[[0.6243214  0.32450356 0.26791542 0.59450038 0.70565219]\n",
            " [0.58234773 0.1297245  0.78894329 0.90289269 0.85671837]\n",
            " [0.10230652 0.51157691 0.41430743 0.16822699 0.97681826]]\n"
          ],
          "name": "stdout"
        }
      ]
    },
    {
      "cell_type": "markdown",
      "metadata": {
        "id": "8E9xCsq_q96i"
      },
      "source": [
        "#Shuffling Arrays\n"
      ]
    },
    {
      "cell_type": "code",
      "metadata": {
        "colab": {
          "base_uri": "https://localhost:8080/"
        },
        "id": "sA1DcBwFp4Qu",
        "outputId": "9f624c22-14d1-45a5-ab48-33b0af320f5f"
      },
      "source": [
        "# Randomly shuffle elements of following array:\n",
        "\n",
        "arr = np.array([1, 2, 3, 4, 5])\n",
        "random.shuffle(arr)\n",
        "print(arr)"
      ],
      "execution_count": 70,
      "outputs": [
        {
          "output_type": "stream",
          "text": [
            "[5 4 3 1 2]\n"
          ],
          "name": "stdout"
        }
      ]
    },
    {
      "cell_type": "code",
      "metadata": {
        "colab": {
          "base_uri": "https://localhost:8080/"
        },
        "id": "4VhPKr5arRY2",
        "outputId": "55a7acca-9077-4c9b-a158-c135e2e46c9c"
      },
      "source": [
        "arr = np.array([1, 2, 3, 4, 5])\n",
        "print(random.permutation(arr))\n"
      ],
      "execution_count": 71,
      "outputs": [
        {
          "output_type": "stream",
          "text": [
            "[5 4 3 1 2]\n"
          ],
          "name": "stdout"
        }
      ]
    },
    {
      "cell_type": "code",
      "metadata": {
        "id": "XNLOe467rj6v"
      },
      "source": [
        "arr = random.randint(1000, size=(4,5))"
      ],
      "execution_count": 72,
      "outputs": []
    },
    {
      "cell_type": "code",
      "metadata": {
        "colab": {
          "base_uri": "https://localhost:8080/"
        },
        "id": "zRM7K1wZtYuh",
        "outputId": "24d580d2-8ae5-4978-8169-385dad0006ab"
      },
      "source": [
        "print(arr)"
      ],
      "execution_count": 73,
      "outputs": [
        {
          "output_type": "stream",
          "text": [
            "[[109 454 554 948 651]\n",
            " [804 779 160 436 111]\n",
            " [272 443 450 512 554]\n",
            " [713 689 590 324 389]]\n"
          ],
          "name": "stdout"
        }
      ]
    },
    {
      "cell_type": "code",
      "metadata": {
        "id": "B_eThwS8tab8"
      },
      "source": [
        "random.shuffle(arr)"
      ],
      "execution_count": 74,
      "outputs": []
    },
    {
      "cell_type": "code",
      "metadata": {
        "colab": {
          "base_uri": "https://localhost:8080/"
        },
        "id": "Yx1APAy8thjW",
        "outputId": "b8f9048e-91cb-4f3e-e4b1-9da30ab36110"
      },
      "source": [
        "print(arr)"
      ],
      "execution_count": 75,
      "outputs": [
        {
          "output_type": "stream",
          "text": [
            "[[109 454 554 948 651]\n",
            " [272 443 450 512 554]\n",
            " [713 689 590 324 389]\n",
            " [804 779 160 436 111]]\n"
          ],
          "name": "stdout"
        }
      ]
    },
    {
      "cell_type": "code",
      "metadata": {
        "colab": {
          "base_uri": "https://localhost:8080/"
        },
        "id": "RB1ebNwUtkRc",
        "outputId": "ee128233-b1bf-4bc9-c76f-627f7e3297fe"
      },
      "source": [
        "random.shuffle(arr)\n",
        "print(arr)"
      ],
      "execution_count": 76,
      "outputs": [
        {
          "output_type": "stream",
          "text": [
            "[[804 779 160 436 111]\n",
            " [272 443 450 512 554]\n",
            " [713 689 590 324 389]\n",
            " [109 454 554 948 651]]\n"
          ],
          "name": "stdout"
        }
      ]
    },
    {
      "cell_type": "code",
      "metadata": {
        "id": "9gaZZTuPtzV6"
      },
      "source": [
        ""
      ],
      "execution_count": 76,
      "outputs": []
    }
  ]
}