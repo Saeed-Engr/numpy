{
  "nbformat": 4,
  "nbformat_minor": 0,
  "metadata": {
    "colab": {
      "name": "Transposing Arrays and Swapping Axes.ipynb",
      "provenance": []
    },
    "kernelspec": {
      "display_name": "Python 3",
      "name": "python3"
    }
  },
  "cells": [
    {
      "cell_type": "code",
      "metadata": {
        "id": "b8CtHXuCL1GW"
      },
      "source": [
        "import numpy as np"
      ],
      "execution_count": null,
      "outputs": []
    },
    {
      "cell_type": "code",
      "metadata": {
        "id": "XhoK02qAMAcN"
      },
      "source": [
        "# Transposing is a special form of reshaping that similarly returns a view on the under‐\r\n",
        "# lying data without copying anything. Arrays have the transpose method and also the\r\n",
        "# special T attribute:"
      ],
      "execution_count": null,
      "outputs": []
    },
    {
      "cell_type": "code",
      "metadata": {
        "id": "Rrap1XnNMT07"
      },
      "source": [
        "arr = np.arange(15).reshape((3, 5))\r\n"
      ],
      "execution_count": null,
      "outputs": []
    },
    {
      "cell_type": "code",
      "metadata": {
        "colab": {
          "base_uri": "https://localhost:8080/"
        },
        "id": "WvvNEeMDMZTG",
        "outputId": "2409afc2-6bbb-47ad-959e-55fc4b4b2ecf"
      },
      "source": [
        "arr"
      ],
      "execution_count": null,
      "outputs": [
        {
          "output_type": "execute_result",
          "data": {
            "text/plain": [
              "array([[ 0,  1,  2,  3,  4],\n",
              "       [ 5,  6,  7,  8,  9],\n",
              "       [10, 11, 12, 13, 14]])"
            ]
          },
          "metadata": {
            "tags": []
          },
          "execution_count": 4
        }
      ]
    },
    {
      "cell_type": "code",
      "metadata": {
        "colab": {
          "base_uri": "https://localhost:8080/"
        },
        "id": "1FBhyZMhMg-z",
        "outputId": "b11fa7ec-d67e-4b8e-eea1-a2d9ef656462"
      },
      "source": [
        "arr.T      #  Capital \"T\" attribute used for transpose"
      ],
      "execution_count": null,
      "outputs": [
        {
          "output_type": "execute_result",
          "data": {
            "text/plain": [
              "array([[ 0,  5, 10],\n",
              "       [ 1,  6, 11],\n",
              "       [ 2,  7, 12],\n",
              "       [ 3,  8, 13],\n",
              "       [ 4,  9, 14]])"
            ]
          },
          "metadata": {
            "tags": []
          },
          "execution_count": 5
        }
      ]
    },
    {
      "cell_type": "code",
      "metadata": {
        "id": "6JbRLpupMklN"
      },
      "source": [
        "#  for example, when computing the inner matrix product using np.dot:\r\n"
      ],
      "execution_count": null,
      "outputs": []
    },
    {
      "cell_type": "code",
      "metadata": {
        "id": "id9PNQp_NWQd"
      },
      "source": [
        " arr = np.random.randn(6, 3)\r\n"
      ],
      "execution_count": null,
      "outputs": []
    },
    {
      "cell_type": "code",
      "metadata": {
        "colab": {
          "base_uri": "https://localhost:8080/"
        },
        "id": "A7mj-morNels",
        "outputId": "09d203da-cec3-44b3-a354-3e197421b095"
      },
      "source": [
        "arr"
      ],
      "execution_count": null,
      "outputs": [
        {
          "output_type": "execute_result",
          "data": {
            "text/plain": [
              "array([[ 0.49250542,  1.70999708,  2.02871733],\n",
              "       [ 0.35344166, -0.35811451, -0.67732691],\n",
              "       [-0.10359504,  1.27202698,  0.81382815],\n",
              "       [-0.29398881,  0.00972953,  0.84408748],\n",
              "       [ 0.08032281, -0.05163134,  2.36277982],\n",
              "       [ 0.12826563,  0.32473496,  0.1170592 ]])"
            ]
          },
          "metadata": {
            "tags": []
          },
          "execution_count": 8
        }
      ]
    },
    {
      "cell_type": "code",
      "metadata": {
        "id": "KJHX-l3yNgSL"
      },
      "source": [
        "array = np.arange(18).reshape((6,3))"
      ],
      "execution_count": 14,
      "outputs": []
    },
    {
      "cell_type": "code",
      "metadata": {
        "colab": {
          "base_uri": "https://localhost:8080/"
        },
        "id": "ULGmer3zP_A5",
        "outputId": "beef4ab3-8ef8-4502-f41b-5a7b3a7089ec"
      },
      "source": [
        "array"
      ],
      "execution_count": 15,
      "outputs": [
        {
          "output_type": "execute_result",
          "data": {
            "text/plain": [
              "array([[ 0,  1,  2],\n",
              "       [ 3,  4,  5],\n",
              "       [ 6,  7,  8],\n",
              "       [ 9, 10, 11],\n",
              "       [12, 13, 14],\n",
              "       [15, 16, 17]])"
            ]
          },
          "metadata": {
            "tags": []
          },
          "execution_count": 15
        }
      ]
    },
    {
      "cell_type": "code",
      "metadata": {
        "colab": {
          "base_uri": "https://localhost:8080/"
        },
        "id": "52gsigzLP9IW",
        "outputId": "3147b802-3cf9-46ae-c441-e0c19612cff9"
      },
      "source": [
        " np.dot(array.T, array)\r\n"
      ],
      "execution_count": 16,
      "outputs": [
        {
          "output_type": "execute_result",
          "data": {
            "text/plain": [
              "array([[495, 540, 585],\n",
              "       [540, 591, 642],\n",
              "       [585, 642, 699]])"
            ]
          },
          "metadata": {
            "tags": []
          },
          "execution_count": 16
        }
      ]
    },
    {
      "cell_type": "code",
      "metadata": {
        "colab": {
          "base_uri": "https://localhost:8080/"
        },
        "id": "-T30a4PkQWhc",
        "outputId": "a39db311-b32c-4830-d838-0cfccc974d3a"
      },
      "source": [
        "array.T"
      ],
      "execution_count": 17,
      "outputs": [
        {
          "output_type": "execute_result",
          "data": {
            "text/plain": [
              "array([[ 0,  3,  6,  9, 12, 15],\n",
              "       [ 1,  4,  7, 10, 13, 16],\n",
              "       [ 2,  5,  8, 11, 14, 17]])"
            ]
          },
          "metadata": {
            "tags": []
          },
          "execution_count": 17
        }
      ]
    },
    {
      "cell_type": "code",
      "metadata": {
        "colab": {
          "base_uri": "https://localhost:8080/"
        },
        "id": "Om94bEZsQ3Ro",
        "outputId": "4b5c9ede-eea0-47a3-9999-317c725d8777"
      },
      "source": [
        "array * array"
      ],
      "execution_count": 19,
      "outputs": [
        {
          "output_type": "execute_result",
          "data": {
            "text/plain": [
              "array([[  0,   1,   4],\n",
              "       [  9,  16,  25],\n",
              "       [ 36,  49,  64],\n",
              "       [ 81, 100, 121],\n",
              "       [144, 169, 196],\n",
              "       [225, 256, 289]])"
            ]
          },
          "metadata": {
            "tags": []
          },
          "execution_count": 19
        }
      ]
    },
    {
      "cell_type": "code",
      "metadata": {
        "colab": {
          "base_uri": "https://localhost:8080/"
        },
        "id": "hhatNemtQwsv",
        "outputId": "ca648098-2ddd-4863-f639-f775cf9af365"
      },
      "source": [
        " np.dot(arr.T, arr)\r\n"
      ],
      "execution_count": 20,
      "outputs": [
        {
          "output_type": "execute_result",
          "data": {
            "text/plain": [
              "array([[ 0.48754778,  0.61847934,  0.63209769],\n",
              "       [ 0.61847934,  4.77860192,  4.67110496],\n",
              "       [ 0.63209769,  4.67110496, 11.54569698]])"
            ]
          },
          "metadata": {
            "tags": []
          },
          "execution_count": 20
        }
      ]
    },
    {
      "cell_type": "code",
      "metadata": {
        "id": "jPvKZbdURRqz"
      },
      "source": [
        " arr = np.arange(16).reshape((2, 2, 4))\r\n"
      ],
      "execution_count": 21,
      "outputs": []
    },
    {
      "cell_type": "code",
      "metadata": {
        "colab": {
          "base_uri": "https://localhost:8080/"
        },
        "id": "leVJdRzyRgy9",
        "outputId": "0872a76a-e8d8-4c9d-b047-3bd081166457"
      },
      "source": [
        "arr"
      ],
      "execution_count": 22,
      "outputs": [
        {
          "output_type": "execute_result",
          "data": {
            "text/plain": [
              "array([[[ 0,  1,  2,  3],\n",
              "        [ 4,  5,  6,  7]],\n",
              "\n",
              "       [[ 8,  9, 10, 11],\n",
              "        [12, 13, 14, 15]]])"
            ]
          },
          "metadata": {
            "tags": []
          },
          "execution_count": 22
        }
      ]
    },
    {
      "cell_type": "code",
      "metadata": {
        "id": "C81_Y-R6Ri6W"
      },
      "source": [
        "arr2 = np.array([[[0,1,2,3,],[4,5,6,7]],[[8,9,10,11],[12,13,14,15]]])"
      ],
      "execution_count": 23,
      "outputs": []
    },
    {
      "cell_type": "code",
      "metadata": {
        "colab": {
          "base_uri": "https://localhost:8080/"
        },
        "id": "D8vc0XBUSUVH",
        "outputId": "a5085702-a8d5-4836-a26a-04e235f4e2ac"
      },
      "source": [
        "arr2       "
      ],
      "execution_count": 24,
      "outputs": [
        {
          "output_type": "execute_result",
          "data": {
            "text/plain": [
              "array([[[ 0,  1,  2,  3],\n",
              "        [ 4,  5,  6,  7]],\n",
              "\n",
              "       [[ 8,  9, 10, 11],\n",
              "        [12, 13, 14, 15]]])"
            ]
          },
          "metadata": {
            "tags": []
          },
          "execution_count": 24
        }
      ]
    },
    {
      "cell_type": "code",
      "metadata": {
        "colab": {
          "base_uri": "https://localhost:8080/"
        },
        "id": "-2CKudEmSWBG",
        "outputId": "b92fac94-b849-45f7-f27f-b3cd3a8e1159"
      },
      "source": [
        "arr == arr2     #  both array have same values and shape"
      ],
      "execution_count": 30,
      "outputs": [
        {
          "output_type": "execute_result",
          "data": {
            "text/plain": [
              "array([[[ True,  True,  True,  True],\n",
              "        [ True,  True,  True,  True]],\n",
              "\n",
              "       [[ True,  True,  True,  True],\n",
              "        [ True,  True,  True,  True]]])"
            ]
          },
          "metadata": {
            "tags": []
          },
          "execution_count": 30
        }
      ]
    },
    {
      "cell_type": "code",
      "metadata": {
        "id": "9KPfh4tbSaXu"
      },
      "source": [
        " arr = np.arange(16).reshape((2, 2, 4))\r\n"
      ],
      "execution_count": 31,
      "outputs": []
    },
    {
      "cell_type": "code",
      "metadata": {
        "colab": {
          "base_uri": "https://localhost:8080/"
        },
        "id": "ayb6crmjTSaK",
        "outputId": "3622b157-d48c-469a-c796-497f4f9c6c29"
      },
      "source": [
        "arr"
      ],
      "execution_count": 32,
      "outputs": [
        {
          "output_type": "execute_result",
          "data": {
            "text/plain": [
              "array([[[ 0,  1,  2,  3],\n",
              "        [ 4,  5,  6,  7]],\n",
              "\n",
              "       [[ 8,  9, 10, 11],\n",
              "        [12, 13, 14, 15]]])"
            ]
          },
          "metadata": {
            "tags": []
          },
          "execution_count": 32
        }
      ]
    },
    {
      "cell_type": "code",
      "metadata": {
        "colab": {
          "base_uri": "https://localhost:8080/"
        },
        "id": "zv8r-MYeTTry",
        "outputId": "9efb9550-5deb-42d7-eea2-afca949baf9d"
      },
      "source": [
        " arr.transpose((1, 0, 2))\r\n"
      ],
      "execution_count": 33,
      "outputs": [
        {
          "output_type": "execute_result",
          "data": {
            "text/plain": [
              "array([[[ 0,  1,  2,  3],\n",
              "        [ 8,  9, 10, 11]],\n",
              "\n",
              "       [[ 4,  5,  6,  7],\n",
              "        [12, 13, 14, 15]]])"
            ]
          },
          "metadata": {
            "tags": []
          },
          "execution_count": 33
        }
      ]
    },
    {
      "cell_type": "code",
      "metadata": {
        "id": "46rCz4zwTlol"
      },
      "source": [
        "arr2 = np.array([[[0,1,2,3,],[4,5,6,7]],[[8,9,10,11],[12,13,14,15]]])"
      ],
      "execution_count": null,
      "outputs": []
    },
    {
      "cell_type": "code",
      "metadata": {
        "colab": {
          "base_uri": "https://localhost:8080/"
        },
        "id": "Ygg0AjeVTaRJ",
        "outputId": "f9d9cade-141d-4228-8bd2-36c678192f54"
      },
      "source": [
        " arr.transpose((1, 0,2))\r\n"
      ],
      "execution_count": 38,
      "outputs": [
        {
          "output_type": "execute_result",
          "data": {
            "text/plain": [
              "array([[[ 0,  1,  2,  3],\n",
              "        [ 8,  9, 10, 11]],\n",
              "\n",
              "       [[ 4,  5,  6,  7],\n",
              "        [12, 13, 14, 15]]])"
            ]
          },
          "metadata": {
            "tags": []
          },
          "execution_count": 38
        }
      ]
    },
    {
      "cell_type": "code",
      "metadata": {
        "id": "UAUAe8MPUC37"
      },
      "source": [
        "#Simple transposing with .T is a special case of swapping axes. ndarray has the method\r\n",
        "#swapaxes, which takes a pair of axis numbers and switches the indicated axes to rear‐\r\n",
        "#range the data:"
      ],
      "execution_count": 39,
      "outputs": []
    },
    {
      "cell_type": "code",
      "metadata": {
        "colab": {
          "base_uri": "https://localhost:8080/"
        },
        "id": "VaSk_u6EU_Dy",
        "outputId": "feb38494-8d58-43cc-e541-06812ffcaecb"
      },
      "source": [
        "arr"
      ],
      "execution_count": 40,
      "outputs": [
        {
          "output_type": "execute_result",
          "data": {
            "text/plain": [
              "array([[[ 0,  1,  2,  3],\n",
              "        [ 4,  5,  6,  7]],\n",
              "\n",
              "       [[ 8,  9, 10, 11],\n",
              "        [12, 13, 14, 15]]])"
            ]
          },
          "metadata": {
            "tags": []
          },
          "execution_count": 40
        }
      ]
    },
    {
      "cell_type": "code",
      "metadata": {
        "colab": {
          "base_uri": "https://localhost:8080/"
        },
        "id": "rMhfoAK6VCr6",
        "outputId": "54aa02db-cbb7-4950-aeb8-894274b5aa62"
      },
      "source": [
        " ar = arr.T\r\n",
        " ar\r\n",
        " \r\n",
        " \r\n",
        "#  arr.swapaxes(1, 2) \r\n"
      ],
      "execution_count": 49,
      "outputs": [
        {
          "output_type": "execute_result",
          "data": {
            "text/plain": [
              "array([[[ 0,  8],\n",
              "        [ 4, 12]],\n",
              "\n",
              "       [[ 1,  9],\n",
              "        [ 5, 13]],\n",
              "\n",
              "       [[ 2, 10],\n",
              "        [ 6, 14]],\n",
              "\n",
              "       [[ 3, 11],\n",
              "        [ 7, 15]]])"
            ]
          },
          "metadata": {
            "tags": []
          },
          "execution_count": 49
        }
      ]
    },
    {
      "cell_type": "code",
      "metadata": {
        "colab": {
          "base_uri": "https://localhost:8080/"
        },
        "id": "wP14QmATVMgt",
        "outputId": "cb7c25aa-b4a1-49fa-b9bb-5a3e51dc3e27"
      },
      "source": [
        "  arr.swapaxes(1, 2) "
      ],
      "execution_count": 50,
      "outputs": [
        {
          "output_type": "execute_result",
          "data": {
            "text/plain": [
              "array([[[ 0,  4],\n",
              "        [ 1,  5],\n",
              "        [ 2,  6],\n",
              "        [ 3,  7]],\n",
              "\n",
              "       [[ 8, 12],\n",
              "        [ 9, 13],\n",
              "        [10, 14],\n",
              "        [11, 15]]])"
            ]
          },
          "metadata": {
            "tags": []
          },
          "execution_count": 50
        }
      ]
    },
    {
      "cell_type": "markdown",
      "metadata": {
        "id": "vYdAyygfWnFK"
      },
      "source": [
        "#4.2 Universal Functions: Fast Element-Wise Array Function\r\n"
      ]
    },
    {
      "cell_type": "code",
      "metadata": {
        "id": "D0PhclAAWr0b"
      },
      "source": [
        "\"\"\"A universal function, or ufunc, is a function that performs element-wise operations\r\n",
        "on data in ndarrays. You can think of them as fast vectorized wrappers for simple\r\n",
        "functions that take one or more scalar values and produce one or more scalar results.\r\n",
        "Many ufuncs are simple element-wise transformations, like sqrt or exp:\"\"\""
      ],
      "execution_count": 51,
      "outputs": []
    },
    {
      "cell_type": "code",
      "metadata": {
        "id": "7cTBD0WHXJqw"
      },
      "source": [
        " arr = np.arange(10)\r\n"
      ],
      "execution_count": 52,
      "outputs": []
    },
    {
      "cell_type": "code",
      "metadata": {
        "colab": {
          "base_uri": "https://localhost:8080/"
        },
        "id": "hxJBE_0GXam9",
        "outputId": "af1c9d72-9dfb-445a-bdf1-855f82a87ed8"
      },
      "source": [
        "arr"
      ],
      "execution_count": 53,
      "outputs": [
        {
          "output_type": "execute_result",
          "data": {
            "text/plain": [
              "array([0, 1, 2, 3, 4, 5, 6, 7, 8, 9])"
            ]
          },
          "metadata": {
            "tags": []
          },
          "execution_count": 53
        }
      ]
    },
    {
      "cell_type": "code",
      "metadata": {
        "colab": {
          "base_uri": "https://localhost:8080/"
        },
        "id": "1IkLmuTwXcK6",
        "outputId": "f2165976-5a05-4c91-993d-1da5498c1892"
      },
      "source": [
        " np.sqrt(arr)\r\n"
      ],
      "execution_count": 54,
      "outputs": [
        {
          "output_type": "execute_result",
          "data": {
            "text/plain": [
              "array([0.        , 1.        , 1.41421356, 1.73205081, 2.        ,\n",
              "       2.23606798, 2.44948974, 2.64575131, 2.82842712, 3.        ])"
            ]
          },
          "metadata": {
            "tags": []
          },
          "execution_count": 54
        }
      ]
    },
    {
      "cell_type": "code",
      "metadata": {
        "colab": {
          "base_uri": "https://localhost:8080/"
        },
        "id": "3vear_7VXnSp",
        "outputId": "576d872e-8645-44aa-bf94-d1bb22571da7"
      },
      "source": [
        " np.exp(arr)\r\n"
      ],
      "execution_count": 57,
      "outputs": [
        {
          "output_type": "execute_result",
          "data": {
            "text/plain": [
              "array([1.00000000e+00, 2.71828183e+00, 7.38905610e+00, 2.00855369e+01,\n",
              "       5.45981500e+01, 1.48413159e+02, 4.03428793e+02, 1.09663316e+03,\n",
              "       2.98095799e+03, 8.10308393e+03])"
            ]
          },
          "metadata": {
            "tags": []
          },
          "execution_count": 57
        }
      ]
    },
    {
      "cell_type": "code",
      "metadata": {
        "colab": {
          "base_uri": "https://localhost:8080/"
        },
        "id": "C79ky0ABXqaU",
        "outputId": "5d699fc9-45c2-47ce-feff-443455d380d4"
      },
      "source": [
        "arr3 = np.arange(4,9)\r\n",
        "arr3"
      ],
      "execution_count": 60,
      "outputs": [
        {
          "output_type": "execute_result",
          "data": {
            "text/plain": [
              "array([4, 5, 6, 7, 8])"
            ]
          },
          "metadata": {
            "tags": []
          },
          "execution_count": 60
        }
      ]
    },
    {
      "cell_type": "code",
      "metadata": {
        "colab": {
          "base_uri": "https://localhost:8080/"
        },
        "id": "FQ2PiiDYYS2R",
        "outputId": "11de0295-70f8-40dd-cf28-94fb9d3c7247"
      },
      "source": [
        "np.sqrt(arr3)"
      ],
      "execution_count": 61,
      "outputs": [
        {
          "output_type": "execute_result",
          "data": {
            "text/plain": [
              "array([2.        , 2.23606798, 2.44948974, 2.64575131, 2.82842712])"
            ]
          },
          "metadata": {
            "tags": []
          },
          "execution_count": 61
        }
      ]
    },
    {
      "cell_type": "code",
      "metadata": {
        "colab": {
          "base_uri": "https://localhost:8080/"
        },
        "id": "ZGj4lhttYlOR",
        "outputId": "8b11ab06-6cb3-4fee-b903-975fa45e7468"
      },
      "source": [
        "np.exp(arr3)"
      ],
      "execution_count": 62,
      "outputs": [
        {
          "output_type": "execute_result",
          "data": {
            "text/plain": [
              "array([  54.59815003,  148.4131591 ,  403.42879349, 1096.63315843,\n",
              "       2980.95798704])"
            ]
          },
          "metadata": {
            "tags": []
          },
          "execution_count": 62
        }
      ]
    },
    {
      "cell_type": "code",
      "metadata": {
        "id": "5y-VyYAtY6LO"
      },
      "source": [
        "\"\"\"These are referred to as unary ufuncs. Others, such as add or maximum, take two arrays\r\n",
        "(thus, binary ufuncs) and return a single array as the result:\r\n",
        "\"\"\""
      ],
      "execution_count": 63,
      "outputs": []
    },
    {
      "cell_type": "code",
      "metadata": {
        "id": "ViSVSQxRZLFJ"
      },
      "source": [
        "x = np.random.randn(8)\r\n"
      ],
      "execution_count": 64,
      "outputs": []
    },
    {
      "cell_type": "code",
      "metadata": {
        "id": "IDaH7mDeZU3I"
      },
      "source": [
        " y = np.random.randn(8)"
      ],
      "execution_count": 66,
      "outputs": []
    },
    {
      "cell_type": "code",
      "metadata": {
        "colab": {
          "base_uri": "https://localhost:8080/"
        },
        "id": "T1plsqDWZWzF",
        "outputId": "d1063485-dcff-4981-d312-22ec00b0393e"
      },
      "source": [
        "x"
      ],
      "execution_count": 67,
      "outputs": [
        {
          "output_type": "execute_result",
          "data": {
            "text/plain": [
              "array([-0.54496182, -0.59562724, -0.15846071,  0.00857953,  0.17445751,\n",
              "        0.2351704 ,  0.48170126,  0.48454367])"
            ]
          },
          "metadata": {
            "tags": []
          },
          "execution_count": 67
        }
      ]
    },
    {
      "cell_type": "code",
      "metadata": {
        "colab": {
          "base_uri": "https://localhost:8080/"
        },
        "id": "iwO0Poo-ZdId",
        "outputId": "2d42140c-2752-4de1-e56b-60e05b3e68b8"
      },
      "source": [
        "y"
      ],
      "execution_count": 68,
      "outputs": [
        {
          "output_type": "execute_result",
          "data": {
            "text/plain": [
              "array([-0.09511957, -0.74107061, -1.36153952,  1.5459787 , -0.03249114,\n",
              "        0.2672663 ,  1.60153712, -0.41506618])"
            ]
          },
          "metadata": {
            "tags": []
          },
          "execution_count": 68
        }
      ]
    },
    {
      "cell_type": "code",
      "metadata": {
        "colab": {
          "base_uri": "https://localhost:8080/"
        },
        "id": "gcNuGlU5ZfpE",
        "outputId": "10ffaf44-fc28-4111-ad97-eec68f2b471a"
      },
      "source": [
        " np.maximum(x, y)\r\n"
      ],
      "execution_count": 74,
      "outputs": [
        {
          "output_type": "execute_result",
          "data": {
            "text/plain": [
              "array([-0.09511957, -0.59562724, -0.15846071,  1.5459787 ,  0.17445751,\n",
              "        0.2672663 ,  1.60153712,  0.48454367])"
            ]
          },
          "metadata": {
            "tags": []
          },
          "execution_count": 74
        }
      ]
    },
    {
      "cell_type": "code",
      "metadata": {
        "colab": {
          "base_uri": "https://localhost:8080/"
        },
        "id": "__Zsisn7Zmdt",
        "outputId": "8e509e72-0481-4bbe-d43f-e09d386e9527"
      },
      "source": [
        "np.minimum(x,y)"
      ],
      "execution_count": 75,
      "outputs": [
        {
          "output_type": "execute_result",
          "data": {
            "text/plain": [
              "array([-0.54496182, -0.74107061, -1.36153952,  0.00857953, -0.03249114,\n",
              "        0.2351704 ,  0.48170126, -0.41506618])"
            ]
          },
          "metadata": {
            "tags": []
          },
          "execution_count": 75
        }
      ]
    },
    {
      "cell_type": "code",
      "metadata": {
        "id": "4-uRlY4EZ7Wj"
      },
      "source": [
        "\"\"\", a ufunc can return multiple arrays. modf is one example, a vec‐\r\n",
        "torized version of the built-in Python divmod; it returns the fractional and integral\r\n",
        "parts of a floating-point array:\"\"\""
      ],
      "execution_count": 75,
      "outputs": []
    },
    {
      "cell_type": "code",
      "metadata": {
        "id": "qoFaWcvfaIO3"
      },
      "source": [
        " arr = np.random.randn(7) * 5\r\n"
      ],
      "execution_count": 76,
      "outputs": []
    },
    {
      "cell_type": "code",
      "metadata": {
        "colab": {
          "base_uri": "https://localhost:8080/"
        },
        "id": "gqz3142UaoOs",
        "outputId": "51c68e61-e1e2-4dca-a2d4-ca69723a60b6"
      },
      "source": [
        "arr"
      ],
      "execution_count": 77,
      "outputs": [
        {
          "output_type": "execute_result",
          "data": {
            "text/plain": [
              "array([-1.61048845, -4.19574161, -2.35731733, -3.0942994 , -2.28665815,\n",
              "       -2.16434392, -1.27684108])"
            ]
          },
          "metadata": {
            "tags": []
          },
          "execution_count": 77
        }
      ]
    },
    {
      "cell_type": "code",
      "metadata": {
        "colab": {
          "base_uri": "https://localhost:8080/"
        },
        "id": "RqiKWBDaauqO",
        "outputId": "d63d3726-522f-4231-f06e-d12b4ccb6958"
      },
      "source": [
        "  a2 = np.arange(1,7) \r\n",
        "  print(a2)\r\n",
        "  n2 = a1 * 5\r\n",
        "  print( n2)\r\n",
        "  #n1 =np.array( a1 * 5)\r\n",
        "  #print(n1)"
      ],
      "execution_count": 102,
      "outputs": [
        {
          "output_type": "stream",
          "text": [
            "[1 2 3 4 5 6]\n",
            "[ 5 10 15 20 25 30]\n"
          ],
          "name": "stdout"
        }
      ]
    },
    {
      "cell_type": "code",
      "metadata": {
        "id": "Cw3vdA6oa9HM"
      },
      "source": [
        " remainder, whole_part = np.modf(arr)\r\n"
      ],
      "execution_count": 103,
      "outputs": []
    },
    {
      "cell_type": "code",
      "metadata": {
        "colab": {
          "base_uri": "https://localhost:8080/"
        },
        "id": "2hbEo5EjcBy-",
        "outputId": "240f9d5e-9bb2-401a-cbed-878dbfdd8d2f"
      },
      "source": [
        "remainder"
      ],
      "execution_count": 104,
      "outputs": [
        {
          "output_type": "execute_result",
          "data": {
            "text/plain": [
              "array([-0.61048845, -0.19574161, -0.35731733, -0.0942994 , -0.28665815,\n",
              "       -0.16434392, -0.27684108])"
            ]
          },
          "metadata": {
            "tags": []
          },
          "execution_count": 104
        }
      ]
    },
    {
      "cell_type": "code",
      "metadata": {
        "colab": {
          "base_uri": "https://localhost:8080/"
        },
        "id": "YZZpm4PqdObj",
        "outputId": "553eab3c-df6b-4f10-c63f-1ccdbdbe7c42"
      },
      "source": [
        "whole_part"
      ],
      "execution_count": 105,
      "outputs": [
        {
          "output_type": "execute_result",
          "data": {
            "text/plain": [
              "array([-1., -4., -2., -3., -2., -2., -1.])"
            ]
          },
          "metadata": {
            "tags": []
          },
          "execution_count": 105
        }
      ]
    },
    {
      "cell_type": "code",
      "metadata": {
        "id": "niiQ49svdUQA"
      },
      "source": [
        "#Ufuncs accept an optional out argument that allows them to operate in-place on\r\n",
        "#arrays:"
      ],
      "execution_count": 111,
      "outputs": []
    },
    {
      "cell_type": "code",
      "metadata": {
        "colab": {
          "base_uri": "https://localhost:8080/"
        },
        "id": "bywzd2g_dzR8",
        "outputId": "8367c688-749b-4392-c04e-fd65606e6941"
      },
      "source": [
        "arr"
      ],
      "execution_count": 112,
      "outputs": [
        {
          "output_type": "execute_result",
          "data": {
            "text/plain": [
              "array([-1.61048845, -4.19574161, -2.35731733, -3.0942994 , -2.28665815,\n",
              "       -2.16434392, -1.27684108])"
            ]
          },
          "metadata": {
            "tags": []
          },
          "execution_count": 112
        }
      ]
    },
    {
      "cell_type": "code",
      "metadata": {
        "colab": {
          "base_uri": "https://localhost:8080/"
        },
        "id": "uDPEPGZEd_eb",
        "outputId": "ad35599d-38bf-41be-885f-8791a68cf1e6"
      },
      "source": [
        " np.sqrt(arr)\r\n"
      ],
      "execution_count": 113,
      "outputs": [
        {
          "output_type": "stream",
          "text": [
            "/usr/local/lib/python3.7/dist-packages/ipykernel_launcher.py:1: RuntimeWarning: invalid value encountered in sqrt\n",
            "  \"\"\"Entry point for launching an IPython kernel.\n"
          ],
          "name": "stderr"
        },
        {
          "output_type": "execute_result",
          "data": {
            "text/plain": [
              "array([nan, nan, nan, nan, nan, nan, nan])"
            ]
          },
          "metadata": {
            "tags": []
          },
          "execution_count": 113
        }
      ]
    },
    {
      "cell_type": "code",
      "metadata": {
        "id": "sW6Tq-dbeCFh"
      },
      "source": [
        " arr = np.random.randn(7) * 5\r\n"
      ],
      "execution_count": 115,
      "outputs": []
    },
    {
      "cell_type": "code",
      "metadata": {
        "colab": {
          "base_uri": "https://localhost:8080/"
        },
        "id": "q66jN8eue0cZ",
        "outputId": "8078fd4b-f523-4e7b-81a5-dfb73d949b69"
      },
      "source": [
        " np.sqrt(arr)\r\n"
      ],
      "execution_count": 116,
      "outputs": [
        {
          "output_type": "stream",
          "text": [
            "/usr/local/lib/python3.7/dist-packages/ipykernel_launcher.py:1: RuntimeWarning: invalid value encountered in sqrt\n",
            "  \"\"\"Entry point for launching an IPython kernel.\n"
          ],
          "name": "stderr"
        },
        {
          "output_type": "execute_result",
          "data": {
            "text/plain": [
              "array([       nan, 1.2184416 , 2.30065034, 2.49860641,        nan,\n",
              "       1.54213769, 1.53410225])"
            ]
          },
          "metadata": {
            "tags": []
          },
          "execution_count": 116
        }
      ]
    },
    {
      "cell_type": "code",
      "metadata": {
        "colab": {
          "base_uri": "https://localhost:8080/"
        },
        "id": "Ns_xIbh6e3Yt",
        "outputId": "6e7bc98e-7546-4986-80e3-30fff3bebe42"
      },
      "source": [
        " np.sqrt(arr, arr)\r\n"
      ],
      "execution_count": 119,
      "outputs": [
        {
          "output_type": "execute_result",
          "data": {
            "text/plain": [
              "array([       nan, 1.05063334, 1.23158008, 1.25725816,        nan,\n",
              "       1.11437353, 1.11291905])"
            ]
          },
          "metadata": {
            "tags": []
          },
          "execution_count": 119
        }
      ]
    },
    {
      "cell_type": "code",
      "metadata": {
        "colab": {
          "base_uri": "https://localhost:8080/"
        },
        "id": "-LsEml89fDa4",
        "outputId": "4d2d5dfb-a07e-4b3c-c26e-c66fcadf1bbc"
      },
      "source": [
        "arr"
      ],
      "execution_count": 120,
      "outputs": [
        {
          "output_type": "execute_result",
          "data": {
            "text/plain": [
              "array([       nan, 1.05063334, 1.23158008, 1.25725816,        nan,\n",
              "       1.11437353, 1.11291905])"
            ]
          },
          "metadata": {
            "tags": []
          },
          "execution_count": 120
        }
      ]
    },
    {
      "cell_type": "code",
      "metadata": {
        "id": "k061-68afaN7"
      },
      "source": [
        ""
      ],
      "execution_count": null,
      "outputs": []
    }
  ]
}