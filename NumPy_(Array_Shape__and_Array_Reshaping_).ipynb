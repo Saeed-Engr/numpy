{
  "nbformat": 4,
  "nbformat_minor": 0,
  "metadata": {
    "colab": {
      "name": "NumPy_(Array_Shape_ and_Array_Reshaping ).ipynb",
      "provenance": []
    },
    "kernelspec": {
      "name": "python3",
      "display_name": "Python 3"
    },
    "language_info": {
      "name": "python"
    }
  },
  "cells": [
    {
      "cell_type": "code",
      "metadata": {
        "id": "3fkTNUz3iG64"
      },
      "source": [
        "import numpy as np"
      ],
      "execution_count": 1,
      "outputs": []
    },
    {
      "cell_type": "markdown",
      "metadata": {
        "id": "e-EBfymti4RJ"
      },
      "source": [
        "# Shape of an Array\n"
      ]
    },
    {
      "cell_type": "code",
      "metadata": {
        "id": "59LDjYbli3fT"
      },
      "source": [
        "# Print the shape of a 2-D array:\n",
        "\n"
      ],
      "execution_count": 2,
      "outputs": []
    },
    {
      "cell_type": "code",
      "metadata": {
        "colab": {
          "base_uri": "https://localhost:8080/"
        },
        "id": "bKvHRLfzjJZZ",
        "outputId": "d9e5e5f0-c3b3-42af-b634-679f10883f96"
      },
      "source": [
        "arr = np.array([[1, 2, 3, 4], [5, 6, 7, 8]])\n",
        "\n",
        "print(arr.shape)\n",
        "\n",
        "print(arr.ndim)\n",
        "\n",
        "# The example above returns (2, 4), which means that the array has 2 dimensions, \n",
        "# and each dimension has 4 elements.\n",
        "\n"
      ],
      "execution_count": 6,
      "outputs": [
        {
          "output_type": "stream",
          "text": [
            "(2, 4)\n",
            "2\n"
          ],
          "name": "stdout"
        }
      ]
    },
    {
      "cell_type": "code",
      "metadata": {
        "id": "UgwbmxvejMXa"
      },
      "source": [
        "# Create an array with 5 dimensions using ndmin using a vector with values 1,2,3,4 and verify that\n",
        "#  last dimension has value 4:\n",
        "\n"
      ],
      "execution_count": 7,
      "outputs": []
    },
    {
      "cell_type": "code",
      "metadata": {
        "colab": {
          "base_uri": "https://localhost:8080/"
        },
        "id": "4YVlkcyjj1-E",
        "outputId": "106fcdb7-e9dd-449a-9765-754a62dead8d"
      },
      "source": [
        "arr = np.array([1, 2, 3, 4], ndmin=5)\n",
        "\n",
        "print(arr)\n",
        "\n",
        "print('shape of array :', arr.shape)"
      ],
      "execution_count": 9,
      "outputs": [
        {
          "output_type": "stream",
          "text": [
            "[[[[[1 2 3 4]]]]]\n",
            "shape of array : (1, 1, 1, 1, 4)\n"
          ],
          "name": "stdout"
        }
      ]
    },
    {
      "cell_type": "code",
      "metadata": {
        "id": "HCvlv6m6kAhg"
      },
      "source": [
        ""
      ],
      "execution_count": null,
      "outputs": []
    },
    {
      "cell_type": "markdown",
      "metadata": {
        "id": "1WKCXl7nkhV1"
      },
      "source": [
        "# NumPy Array Reshaping\n"
      ]
    },
    {
      "cell_type": "code",
      "metadata": {
        "id": "GsuJJVimkjkE"
      },
      "source": [
        "# Reshaping means changing the shape of an array.\n",
        "\n",
        "# The shape of an array is the number of elements in each dimension.\n",
        "\n",
        "# By reshaping we can add or remove dimensions or change number of elements in each dimension."
      ],
      "execution_count": 10,
      "outputs": []
    },
    {
      "cell_type": "markdown",
      "metadata": {
        "id": "Vc9izX9NlIx7"
      },
      "source": [
        "Reshape From 1-D to 2-D\n"
      ]
    },
    {
      "cell_type": "code",
      "metadata": {
        "colab": {
          "base_uri": "https://localhost:8080/"
        },
        "id": "45lyqrYmlE-R",
        "outputId": "c869509b-ac29-4c72-d8d2-94ec859413d3"
      },
      "source": [
        "arr = np.array([1, 2, 3, 4, 5, 6, 7, 8, 9, 10, 11, 12])\n",
        "print(arr.ndim)"
      ],
      "execution_count": 15,
      "outputs": [
        {
          "output_type": "stream",
          "text": [
            "1\n"
          ],
          "name": "stdout"
        }
      ]
    },
    {
      "cell_type": "code",
      "metadata": {
        "id": "izdrvuHylNwp"
      },
      "source": [
        "arr2 = arr.reshape(4,3)"
      ],
      "execution_count": 13,
      "outputs": []
    },
    {
      "cell_type": "code",
      "metadata": {
        "colab": {
          "base_uri": "https://localhost:8080/"
        },
        "id": "zMWC7LSblUkF",
        "outputId": "bf69ad3c-6d9d-4352-9658-8d830cf4d38c"
      },
      "source": [
        "print(arr2.ndim)\n",
        "print(arr2)"
      ],
      "execution_count": 20,
      "outputs": [
        {
          "output_type": "stream",
          "text": [
            "2\n",
            "[[ 1  2  3]\n",
            " [ 4  5  6]\n",
            " [ 7  8  9]\n",
            " [10 11 12]]\n"
          ],
          "name": "stdout"
        }
      ]
    },
    {
      "cell_type": "code",
      "metadata": {
        "colab": {
          "base_uri": "https://localhost:8080/"
        },
        "id": "TIUFjnXMli5M",
        "outputId": "94267d36-7f0b-4058-df11-4397306edecd"
      },
      "source": [
        "ar = arr.reshape(2,6)\n",
        "print(ar)"
      ],
      "execution_count": 22,
      "outputs": [
        {
          "output_type": "stream",
          "text": [
            "[[ 1  2  3  4  5  6]\n",
            " [ 7  8  9 10 11 12]]\n"
          ],
          "name": "stdout"
        }
      ]
    },
    {
      "cell_type": "code",
      "metadata": {
        "id": "jfgyfIDcmSiB"
      },
      "source": [
        ""
      ],
      "execution_count": null,
      "outputs": []
    },
    {
      "cell_type": "markdown",
      "metadata": {
        "id": "_zbbv7I0mctx"
      },
      "source": [
        "Reshape From 1-D to 3-D\n"
      ]
    },
    {
      "cell_type": "code",
      "metadata": {
        "id": "CpUyYkUGmeqK"
      },
      "source": [
        "arr = np.array([1, 2, 3, 4, 5, 6, 7, 8, 9, 10, 11, 12])\n"
      ],
      "execution_count": 23,
      "outputs": []
    },
    {
      "cell_type": "code",
      "metadata": {
        "id": "LFEfwRWNmtJQ"
      },
      "source": [
        "array3 = arr.reshape(2,3,2)"
      ],
      "execution_count": 24,
      "outputs": []
    },
    {
      "cell_type": "code",
      "metadata": {
        "colab": {
          "base_uri": "https://localhost:8080/"
        },
        "id": "_vwApJrOm234",
        "outputId": "858bec90-14b4-441b-d87c-f63ad7a39ebd"
      },
      "source": [
        "print(array3)"
      ],
      "execution_count": 25,
      "outputs": [
        {
          "output_type": "stream",
          "text": [
            "[[[ 1  2]\n",
            "  [ 3  4]\n",
            "  [ 5  6]]\n",
            "\n",
            " [[ 7  8]\n",
            "  [ 9 10]\n",
            "  [11 12]]]\n"
          ],
          "name": "stdout"
        }
      ]
    },
    {
      "cell_type": "code",
      "metadata": {
        "colab": {
          "base_uri": "https://localhost:8080/"
        },
        "id": "X9Q4BoQlm7yr",
        "outputId": "9959da87-1945-4582-8d6e-6864b6d5fef3"
      },
      "source": [
        "ar = arr.reshape(3,2,2)\n",
        "print(ar)"
      ],
      "execution_count": 26,
      "outputs": [
        {
          "output_type": "stream",
          "text": [
            "[[[ 1  2]\n",
            "  [ 3  4]]\n",
            "\n",
            " [[ 5  6]\n",
            "  [ 7  8]]\n",
            "\n",
            " [[ 9 10]\n",
            "  [11 12]]]\n"
          ],
          "name": "stdout"
        }
      ]
    },
    {
      "cell_type": "code",
      "metadata": {
        "colab": {
          "base_uri": "https://localhost:8080/"
        },
        "id": "uUh2an2AnJqi",
        "outputId": "6ec451b9-5124-4a36-d9ab-03a6eb03a0df"
      },
      "source": [
        "arr = np.array([1, 2, 3, 4, 5, 6, 7, 8])\n",
        "print(arr.reshape(2, 4))\n",
        "\n",
        "print(arr.reshape(2,4).base)"
      ],
      "execution_count": 29,
      "outputs": [
        {
          "output_type": "stream",
          "text": [
            "[[1 2 3 4]\n",
            " [5 6 7 8]]\n",
            "[1 2 3 4 5 6 7 8]\n"
          ],
          "name": "stdout"
        }
      ]
    },
    {
      "cell_type": "code",
      "metadata": {
        "id": "TPeZ67Cknx3v"
      },
      "source": [
        ""
      ],
      "execution_count": null,
      "outputs": []
    },
    {
      "cell_type": "markdown",
      "metadata": {
        "id": "Qry5sIBeoZl2"
      },
      "source": [
        "Unknown Dimension\n"
      ]
    },
    {
      "cell_type": "code",
      "metadata": {
        "id": "44Q7jVXtoaYF"
      },
      "source": [
        "# Pass -1 as the value, and NumPy will calculate this number for you.\n",
        "\n"
      ],
      "execution_count": 30,
      "outputs": []
    },
    {
      "cell_type": "code",
      "metadata": {
        "colab": {
          "base_uri": "https://localhost:8080/"
        },
        "id": "GV8F9uh7oetb",
        "outputId": "55686ddf-9a14-492e-fe1c-e955336f912f"
      },
      "source": [
        "# Convert 1D array with 8 elements to 3D array with 2x2 elements:\n",
        "\n",
        "arr = np.array([1, 2, 3, 4, 5, 6, 7, 8])\n",
        "\n",
        "newarr = arr.reshape(2, 2, -1)\n",
        "\n",
        "print(newarr)\n"
      ],
      "execution_count": 33,
      "outputs": [
        {
          "output_type": "stream",
          "text": [
            "[[[1 2]\n",
            "  [3 4]]\n",
            "\n",
            " [[5 6]\n",
            "  [7 8]]]\n"
          ],
          "name": "stdout"
        }
      ]
    },
    {
      "cell_type": "code",
      "metadata": {
        "colab": {
          "base_uri": "https://localhost:8080/"
        },
        "id": "oBCdY3ZooqcZ",
        "outputId": "7b2c63cb-6452-4d77-892b-c7bfb95e4e4d"
      },
      "source": [
        "ar = np.array([1,2,3,3,4,5,6,7,8,9,0,9,8,5])\n",
        "\n",
        "ar2 = ar.reshape(2,7,-1)\n",
        "ar2"
      ],
      "execution_count": 38,
      "outputs": [
        {
          "output_type": "execute_result",
          "data": {
            "text/plain": [
              "array([[[1],\n",
              "        [2],\n",
              "        [3],\n",
              "        [3],\n",
              "        [4],\n",
              "        [5],\n",
              "        [6]],\n",
              "\n",
              "       [[7],\n",
              "        [8],\n",
              "        [9],\n",
              "        [0],\n",
              "        [9],\n",
              "        [8],\n",
              "        [5]]])"
            ]
          },
          "metadata": {
            "tags": []
          },
          "execution_count": 38
        }
      ]
    },
    {
      "cell_type": "code",
      "metadata": {
        "id": "9_MT6uqxpJin"
      },
      "source": [
        ""
      ],
      "execution_count": null,
      "outputs": []
    },
    {
      "cell_type": "markdown",
      "metadata": {
        "id": "-S3o__1YpnmG"
      },
      "source": [
        "# Flattening the arrays\n"
      ]
    },
    {
      "cell_type": "code",
      "metadata": {
        "id": "1sRxjfPrppP4"
      },
      "source": [
        "# Flattening array means converting a multidimensional array into a 1D array.\n",
        "\n",
        "# We can use reshape(-1) to do this."
      ],
      "execution_count": 39,
      "outputs": []
    },
    {
      "cell_type": "code",
      "metadata": {
        "id": "ijD6D2-6ptss"
      },
      "source": [
        "arr = np.array([[1, 2, 3], [4, 5, 6]])\n"
      ],
      "execution_count": 40,
      "outputs": []
    },
    {
      "cell_type": "code",
      "metadata": {
        "colab": {
          "base_uri": "https://localhost:8080/"
        },
        "id": "rXwg9CQNpyVn",
        "outputId": "7942fc80-5a83-4097-ba2f-73e973ed5c10"
      },
      "source": [
        "newarr = arr.reshape(-1)\n",
        "\n",
        "print(newarr)"
      ],
      "execution_count": 42,
      "outputs": [
        {
          "output_type": "stream",
          "text": [
            "[1 2 3 4 5 6]\n"
          ],
          "name": "stdout"
        }
      ]
    },
    {
      "cell_type": "code",
      "metadata": {
        "id": "MNAjUrQ7p-VI"
      },
      "source": [
        ""
      ],
      "execution_count": 48,
      "outputs": []
    },
    {
      "cell_type": "code",
      "metadata": {
        "colab": {
          "base_uri": "https://localhost:8080/"
        },
        "id": "YdYxl86zqqAI",
        "outputId": "6d9c9152-cf14-4a2b-bd6b-c7763eb76547"
      },
      "source": [
        "arr = np.arange(1,33)\n",
        "arr"
      ],
      "execution_count": 50,
      "outputs": [
        {
          "output_type": "execute_result",
          "data": {
            "text/plain": [
              "array([ 1,  2,  3,  4,  5,  6,  7,  8,  9, 10, 11, 12, 13, 14, 15, 16, 17,\n",
              "       18, 19, 20, 21, 22, 23, 24, 25, 26, 27, 28, 29, 30, 31, 32])"
            ]
          },
          "metadata": {
            "tags": []
          },
          "execution_count": 50
        }
      ]
    },
    {
      "cell_type": "code",
      "metadata": {
        "id": "04DeNklOrwil"
      },
      "source": [
        "ar = arr.reshape(2,4,4)"
      ],
      "execution_count": 52,
      "outputs": []
    },
    {
      "cell_type": "code",
      "metadata": {
        "colab": {
          "base_uri": "https://localhost:8080/"
        },
        "id": "-2cGkR5wsBkA",
        "outputId": "709e2606-d760-4a5d-9f21-cbf098bb5184"
      },
      "source": [
        "print(ar.ndim)"
      ],
      "execution_count": 53,
      "outputs": [
        {
          "output_type": "stream",
          "text": [
            "3\n"
          ],
          "name": "stdout"
        }
      ]
    },
    {
      "cell_type": "code",
      "metadata": {
        "colab": {
          "base_uri": "https://localhost:8080/"
        },
        "id": "V4XpWkKPsqYw",
        "outputId": "34d7b013-69a8-4c41-baa1-7d279e28de20"
      },
      "source": [
        "print(ar)"
      ],
      "execution_count": 54,
      "outputs": [
        {
          "output_type": "stream",
          "text": [
            "[[[ 1  2  3  4]\n",
            "  [ 5  6  7  8]\n",
            "  [ 9 10 11 12]\n",
            "  [13 14 15 16]]\n",
            "\n",
            " [[17 18 19 20]\n",
            "  [21 22 23 24]\n",
            "  [25 26 27 28]\n",
            "  [29 30 31 32]]]\n"
          ],
          "name": "stdout"
        }
      ]
    },
    {
      "cell_type": "code",
      "metadata": {
        "id": "y6Gln1EhstG5"
      },
      "source": [
        "a = ar.reshape(4,2,4)"
      ],
      "execution_count": 55,
      "outputs": []
    },
    {
      "cell_type": "code",
      "metadata": {
        "colab": {
          "base_uri": "https://localhost:8080/"
        },
        "id": "MP0BPIBvtORE",
        "outputId": "d81665f2-b7ad-4a11-b698-40472bc10f93"
      },
      "source": [
        "print(a)\n",
        "\n",
        "print(a.ndim)"
      ],
      "execution_count": 59,
      "outputs": [
        {
          "output_type": "stream",
          "text": [
            "[[[[ 1  2]\n",
            "   [ 3  4]]\n",
            "\n",
            "  [[ 5  6]\n",
            "   [ 7  8]]]\n",
            "\n",
            "\n",
            " [[[ 9 10]\n",
            "   [11 12]]\n",
            "\n",
            "  [[13 14]\n",
            "   [15 16]]]\n",
            "\n",
            "\n",
            " [[[17 18]\n",
            "   [19 20]]\n",
            "\n",
            "  [[21 22]\n",
            "   [23 24]]]\n",
            "\n",
            "\n",
            " [[[25 26]\n",
            "   [27 28]]\n",
            "\n",
            "  [[29 30]\n",
            "   [31 32]]]]\n",
            "4\n"
          ],
          "name": "stdout"
        }
      ]
    },
    {
      "cell_type": "code",
      "metadata": {
        "id": "p0h9u5l4tQC6"
      },
      "source": [
        "a = ar.reshape(4,2,2,2)"
      ],
      "execution_count": 57,
      "outputs": []
    },
    {
      "cell_type": "code",
      "metadata": {
        "colab": {
          "base_uri": "https://localhost:8080/"
        },
        "id": "f9-UzMqstbs1",
        "outputId": "756ff75b-da11-4019-99f7-abe42be6600c"
      },
      "source": [
        "a.ndim"
      ],
      "execution_count": 60,
      "outputs": [
        {
          "output_type": "execute_result",
          "data": {
            "text/plain": [
              "4"
            ]
          },
          "metadata": {
            "tags": []
          },
          "execution_count": 60
        }
      ]
    },
    {
      "cell_type": "code",
      "metadata": {
        "colab": {
          "base_uri": "https://localhost:8080/"
        },
        "id": "7VULLgYgt8Ek",
        "outputId": "cf58caae-7d93-47fd-cc7a-e4a2079363f3"
      },
      "source": [
        "a"
      ],
      "execution_count": 61,
      "outputs": [
        {
          "output_type": "execute_result",
          "data": {
            "text/plain": [
              "array([[[[ 1,  2],\n",
              "         [ 3,  4]],\n",
              "\n",
              "        [[ 5,  6],\n",
              "         [ 7,  8]]],\n",
              "\n",
              "\n",
              "       [[[ 9, 10],\n",
              "         [11, 12]],\n",
              "\n",
              "        [[13, 14],\n",
              "         [15, 16]]],\n",
              "\n",
              "\n",
              "       [[[17, 18],\n",
              "         [19, 20]],\n",
              "\n",
              "        [[21, 22],\n",
              "         [23, 24]]],\n",
              "\n",
              "\n",
              "       [[[25, 26],\n",
              "         [27, 28]],\n",
              "\n",
              "        [[29, 30],\n",
              "         [31, 32]]]])"
            ]
          },
          "metadata": {
            "tags": []
          },
          "execution_count": 61
        }
      ]
    },
    {
      "cell_type": "code",
      "metadata": {
        "id": "2D1lwR3Kt9Kg"
      },
      "source": [
        ""
      ],
      "execution_count": null,
      "outputs": []
    },
    {
      "cell_type": "markdown",
      "metadata": {
        "id": "A7CC0zetuhvW"
      },
      "source": [
        "# NumPy Array Iterating\n"
      ]
    },
    {
      "cell_type": "code",
      "metadata": {
        "colab": {
          "base_uri": "https://localhost:8080/"
        },
        "id": "0u538KTxuixW",
        "outputId": "79aff560-e671-414d-916b-8abbaaab89ad"
      },
      "source": [
        "\n",
        "arr = np.array([1, 2, 3])\n",
        "\n",
        "for x in arr:\n",
        "  print(x)"
      ],
      "execution_count": 62,
      "outputs": [
        {
          "output_type": "stream",
          "text": [
            "1\n",
            "2\n",
            "3\n"
          ],
          "name": "stdout"
        }
      ]
    },
    {
      "cell_type": "code",
      "metadata": {
        "id": "0lgCZ-bVutqv"
      },
      "source": [
        "# Iterating 2-D Arrays\n"
      ],
      "execution_count": 63,
      "outputs": []
    },
    {
      "cell_type": "code",
      "metadata": {
        "colab": {
          "base_uri": "https://localhost:8080/"
        },
        "id": "C9yFZGShu3KV",
        "outputId": "465575c9-ae8b-4afa-cb2d-1afd01215373"
      },
      "source": [
        "arr = np.array([[1, 2, 3], [4, 5, 6]])\n",
        "\n",
        "for x in arr:\n",
        "  print(x)"
      ],
      "execution_count": 64,
      "outputs": [
        {
          "output_type": "stream",
          "text": [
            "[1 2 3]\n",
            "[4 5 6]\n"
          ],
          "name": "stdout"
        }
      ]
    },
    {
      "cell_type": "code",
      "metadata": {
        "colab": {
          "base_uri": "https://localhost:8080/"
        },
        "id": "0d_2Z1cYu_Ru",
        "outputId": "e6ea1e5d-99c8-4693-b088-e4336b59cc68"
      },
      "source": [
        "arr = np.array([[1, 2, 3], [4, 5, 6]])\n",
        "\n",
        "for x in arr:\n",
        "  for y in x:\n",
        "    print(y)"
      ],
      "execution_count": 65,
      "outputs": [
        {
          "output_type": "stream",
          "text": [
            "1\n",
            "2\n",
            "3\n",
            "4\n",
            "5\n",
            "6\n"
          ],
          "name": "stdout"
        }
      ]
    },
    {
      "cell_type": "code",
      "metadata": {
        "colab": {
          "base_uri": "https://localhost:8080/"
        },
        "id": "BSRvPyPXvMsu",
        "outputId": "c4d88a0b-c4d3-4297-9b53-b5d8d022941b"
      },
      "source": [
        "#  Iterating Arrays Using nditer()\n",
        "\n",
        "\n",
        "arr = np.array([[[1, 2], [3, 4]], [[5, 6], [7, 8]]])\n",
        "\n",
        "for x in np.nditer(arr):\n",
        "  print(x)"
      ],
      "execution_count": 67,
      "outputs": [
        {
          "output_type": "stream",
          "text": [
            "1\n",
            "2\n",
            "3\n",
            "4\n",
            "5\n",
            "6\n",
            "7\n",
            "8\n"
          ],
          "name": "stdout"
        }
      ]
    },
    {
      "cell_type": "code",
      "metadata": {
        "id": "mxDmYXvdvfHd"
      },
      "source": [
        ""
      ],
      "execution_count": null,
      "outputs": []
    }
  ]
}