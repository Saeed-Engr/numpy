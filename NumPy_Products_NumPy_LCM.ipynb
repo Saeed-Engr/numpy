{
  "nbformat": 4,
  "nbformat_minor": 0,
  "metadata": {
    "colab": {
      "name": "NumPy Products_NumPy LCM",
      "provenance": []
    },
    "kernelspec": {
      "name": "python3",
      "display_name": "Python 3"
    },
    "language_info": {
      "name": "python"
    }
  },
  "cells": [
    {
      "cell_type": "code",
      "metadata": {
        "id": "vXaAS1vEtnw9"
      },
      "source": [
        "import numpy as np"
      ],
      "execution_count": 1,
      "outputs": []
    },
    {
      "cell_type": "markdown",
      "metadata": {
        "id": "AwlVnKJTuZS1"
      },
      "source": [
        "Products\n"
      ]
    },
    {
      "cell_type": "code",
      "metadata": {
        "id": "I4eLbWkLuUDH"
      },
      "source": [
        "# To find the product of the elements in an array, use the prod() function.\n",
        "\n"
      ],
      "execution_count": 2,
      "outputs": []
    },
    {
      "cell_type": "code",
      "metadata": {
        "colab": {
          "base_uri": "https://localhost:8080/"
        },
        "id": "QNlYhW9Fuef-",
        "outputId": "d80d39ce-1798-427b-8da7-e7c5bce25431"
      },
      "source": [
        "arr = np.array([1, 2, 3, 4])\n",
        "\n",
        "x = np.prod(arr)\n",
        "\n",
        "print(x)"
      ],
      "execution_count": 3,
      "outputs": [
        {
          "output_type": "stream",
          "text": [
            "24\n"
          ],
          "name": "stdout"
        }
      ]
    },
    {
      "cell_type": "code",
      "metadata": {
        "colab": {
          "base_uri": "https://localhost:8080/"
        },
        "id": "YiIDlX1YuxWr",
        "outputId": "ac8e1c02-1537-4e41-bd44-b34f7225a775"
      },
      "source": [
        "ar = np.arange(1,10)\n",
        "ar"
      ],
      "execution_count": 4,
      "outputs": [
        {
          "output_type": "execute_result",
          "data": {
            "text/plain": [
              "array([1, 2, 3, 4, 5, 6, 7, 8, 9])"
            ]
          },
          "metadata": {
            "tags": []
          },
          "execution_count": 4
        }
      ]
    },
    {
      "cell_type": "code",
      "metadata": {
        "colab": {
          "base_uri": "https://localhost:8080/"
        },
        "id": "EU64JMquu8Qd",
        "outputId": "41df7471-1010-4551-ec02-ff69a5a847d8"
      },
      "source": [
        "y = np.prod(ar)\n",
        "print(y)"
      ],
      "execution_count": 5,
      "outputs": [
        {
          "output_type": "stream",
          "text": [
            "362880\n"
          ],
          "name": "stdout"
        }
      ]
    },
    {
      "cell_type": "code",
      "metadata": {
        "id": "Fq8xmlnOvEFQ"
      },
      "source": [
        "n = np.sum(arr)"
      ],
      "execution_count": 6,
      "outputs": []
    },
    {
      "cell_type": "code",
      "metadata": {
        "colab": {
          "base_uri": "https://localhost:8080/"
        },
        "id": "QjIdAFKVvMGI",
        "outputId": "fcadb481-2c85-49d4-f1f7-2f41a83024a2"
      },
      "source": [
        "print(n)"
      ],
      "execution_count": 7,
      "outputs": [
        {
          "output_type": "stream",
          "text": [
            "10\n"
          ],
          "name": "stdout"
        }
      ]
    },
    {
      "cell_type": "code",
      "metadata": {
        "id": "oeOeN4YivN4s"
      },
      "source": [
        "# Find the product of the elements of two arrays:\n",
        "\n"
      ],
      "execution_count": 8,
      "outputs": []
    },
    {
      "cell_type": "code",
      "metadata": {
        "id": "a_s8lHX8vWrn"
      },
      "source": [
        "arr1 = np.array([1, 2, 3, 4])\n",
        "arr2 = np.array([5, 6, 7, 8])\n"
      ],
      "execution_count": 9,
      "outputs": []
    },
    {
      "cell_type": "code",
      "metadata": {
        "colab": {
          "base_uri": "https://localhost:8080/"
        },
        "id": "eb4b5Ep1vdHN",
        "outputId": "55785957-d1d2-41de-f6e5-525d5cb7d284"
      },
      "source": [
        "newarr= np.prod([arr1,arr2])\n",
        "print(newarr)"
      ],
      "execution_count": 11,
      "outputs": [
        {
          "output_type": "stream",
          "text": [
            "40320\n"
          ],
          "name": "stdout"
        }
      ]
    },
    {
      "cell_type": "markdown",
      "metadata": {
        "id": "Gs-omTsSv4JJ"
      },
      "source": [
        "Product Over an Axis\n"
      ]
    },
    {
      "cell_type": "code",
      "metadata": {
        "id": "9jSQ9fMPvnwZ"
      },
      "source": [
        "# If you specify axis=1, NumPy will return the product of each array.\n",
        "\n"
      ],
      "execution_count": 12,
      "outputs": []
    },
    {
      "cell_type": "code",
      "metadata": {
        "id": "VC3XoRmcv-DH"
      },
      "source": [
        "arr1 = np.array([1, 2, 3, 4])\n",
        "arr2 = np.array([5, 6, 7, 8])"
      ],
      "execution_count": 13,
      "outputs": []
    },
    {
      "cell_type": "code",
      "metadata": {
        "colab": {
          "base_uri": "https://localhost:8080/"
        },
        "id": "dJvuAztpwB2b",
        "outputId": "472b4523-5f08-43a1-d1ff-aa57c564541e"
      },
      "source": [
        "new = np.prod([arr1, arr2], axis=1)   #  rows wise prod()\n",
        "print(new)"
      ],
      "execution_count": 14,
      "outputs": [
        {
          "output_type": "stream",
          "text": [
            "[  24 1680]\n"
          ],
          "name": "stdout"
        }
      ]
    },
    {
      "cell_type": "code",
      "metadata": {
        "colab": {
          "base_uri": "https://localhost:8080/"
        },
        "id": "d6-_Nr4WwRXN",
        "outputId": "d5f84427-066a-433d-eaf8-024223e0fc98"
      },
      "source": [
        "newcol= np.prod([arr1,arr2],axis= 0)  #   column wise prod()\n",
        "print(newcol)"
      ],
      "execution_count": 16,
      "outputs": [
        {
          "output_type": "stream",
          "text": [
            "[ 5 12 21 32]\n"
          ],
          "name": "stdout"
        }
      ]
    },
    {
      "cell_type": "code",
      "metadata": {
        "id": "7Ua_AwhqwjjA"
      },
      "source": [
        ""
      ],
      "execution_count": null,
      "outputs": []
    },
    {
      "cell_type": "markdown",
      "metadata": {
        "id": "otF63jzjxSim"
      },
      "source": [
        "# NumPy Differences\n"
      ]
    },
    {
      "cell_type": "code",
      "metadata": {
        "id": "rv-wexRHxTgh"
      },
      "source": [
        "# Differences\n",
        "# A discrete difference means subtracting two successive elements.\n",
        "\n",
        "# E.g. for [1, 2, 3, 4], the discrete difference would be [2-1, 3-2, 4-3] = [1, 1, 1]\n",
        "\n",
        "# To find the discrete difference, use the diff() function."
      ],
      "execution_count": 17,
      "outputs": []
    },
    {
      "cell_type": "code",
      "metadata": {
        "colab": {
          "base_uri": "https://localhost:8080/"
        },
        "id": "Z0ob899exbOZ",
        "outputId": "b6de414b-b2c3-4044-b0d9-77e16021dff8"
      },
      "source": [
        "arr = np.array([10, 15, 25, 5])\n",
        "\n",
        "x = np.diff(arr)\n",
        "print(x)"
      ],
      "execution_count": 18,
      "outputs": [
        {
          "output_type": "stream",
          "text": [
            "[  5  10 -20]\n"
          ],
          "name": "stdout"
        }
      ]
    },
    {
      "cell_type": "code",
      "metadata": {
        "colab": {
          "base_uri": "https://localhost:8080/"
        },
        "id": "JBVfQQOuyrN2",
        "outputId": "10aee032-563e-4b78-f66d-877a3ff86699"
      },
      "source": [
        "# Compute discrete difference of the following array twice:\n",
        "\n",
        "arr = np.array([10, 15, 25, 5])\n",
        "\n",
        "newarr = np.diff(arr, n=2)\n",
        "print(newarr)\n"
      ],
      "execution_count": 19,
      "outputs": [
        {
          "output_type": "stream",
          "text": [
            "[  5 -30]\n"
          ],
          "name": "stdout"
        }
      ]
    },
    {
      "cell_type": "code",
      "metadata": {
        "id": "rTlPd4sFzNES"
      },
      "source": [
        ""
      ],
      "execution_count": null,
      "outputs": []
    },
    {
      "cell_type": "markdown",
      "metadata": {
        "id": "FQ6yhMq5zl8b"
      },
      "source": [
        "# NumPy LCM"
      ]
    },
    {
      "cell_type": "code",
      "metadata": {
        "id": "_LB_pS1tznYS"
      },
      "source": [
        "# The Lowest Common Multiple is the least number that is common multiple of both of the numbers.\n",
        "\n"
      ],
      "execution_count": 20,
      "outputs": []
    },
    {
      "cell_type": "code",
      "metadata": {
        "colab": {
          "base_uri": "https://localhost:8080/"
        },
        "id": "g4i4uWNOzrmx",
        "outputId": "59a0c84a-5999-4716-c005-7cd8ed3e4e1e"
      },
      "source": [
        "num1 = 4\n",
        "num2 = 6\n",
        "\n",
        "new = np.lcm(num1,num2)\n",
        "print(new)"
      ],
      "execution_count": 21,
      "outputs": [
        {
          "output_type": "stream",
          "text": [
            "12\n"
          ],
          "name": "stdout"
        }
      ]
    },
    {
      "cell_type": "markdown",
      "metadata": {
        "id": "jxU77nMB0KLs"
      },
      "source": [
        "Finding LCM in Arrays\n"
      ]
    },
    {
      "cell_type": "code",
      "metadata": {
        "id": "Qyh_IoZb0B_7"
      },
      "source": [
        "# To find the Lowest Common Multiple of all values in an array, you can use the reduce() method.\n",
        "\n"
      ],
      "execution_count": 22,
      "outputs": []
    },
    {
      "cell_type": "code",
      "metadata": {
        "colab": {
          "base_uri": "https://localhost:8080/"
        },
        "id": "kURq2wZr0RuR",
        "outputId": "1fd6a7d5-baa2-4253-f0d7-db13ecd42194"
      },
      "source": [
        "arr = np.array([3, 6, 9])\n",
        "\n",
        "new= np.lcm.reduce(arr)\n",
        "print(new)"
      ],
      "execution_count": 23,
      "outputs": [
        {
          "output_type": "stream",
          "text": [
            "18\n"
          ],
          "name": "stdout"
        }
      ]
    },
    {
      "cell_type": "code",
      "metadata": {
        "colab": {
          "base_uri": "https://localhost:8080/"
        },
        "id": "FWEy6foI0iNH",
        "outputId": "2c123285-69c0-43dd-844e-2cf58eb3e006"
      },
      "source": [
        "# Find the LCM of all of an array where the array contains all integers from 1 to 10:\n",
        "\n",
        "arr = np.arange(1, 11)\n",
        "new= np.lcm.reduce(arr)\n",
        "print(new)\n"
      ],
      "execution_count": 24,
      "outputs": [
        {
          "output_type": "stream",
          "text": [
            "2520\n"
          ],
          "name": "stdout"
        }
      ]
    },
    {
      "cell_type": "code",
      "metadata": {
        "id": "NQ32I_jy00ZC"
      },
      "source": [
        ""
      ],
      "execution_count": null,
      "outputs": []
    },
    {
      "cell_type": "markdown",
      "metadata": {
        "id": "f8lXPUte1Asz"
      },
      "source": [
        "# NumPy GCD Greatest Common Denominator\n"
      ]
    },
    {
      "cell_type": "code",
      "metadata": {
        "id": "wVGjFKFk1Bi2"
      },
      "source": [
        "# The GCD (Greatest Common Denominator), also known as HCF (Highest Common Factor) is\n",
        "#  the biggest number that is a common factor of both of the numbers.\n",
        "\n"
      ],
      "execution_count": 25,
      "outputs": []
    },
    {
      "cell_type": "code",
      "metadata": {
        "colab": {
          "base_uri": "https://localhost:8080/"
        },
        "id": "Q0A_gbaN1KlR",
        "outputId": "e253fef7-b2db-4f5c-fcfd-34849d445241"
      },
      "source": [
        "num1 = 6\n",
        "num2 = 9\n",
        "new = np.gcd(num1,num2)\n",
        "print(new)"
      ],
      "execution_count": 26,
      "outputs": [
        {
          "output_type": "stream",
          "text": [
            "3\n"
          ],
          "name": "stdout"
        }
      ]
    },
    {
      "cell_type": "markdown",
      "metadata": {
        "id": "KM5MnBg_1sZT"
      },
      "source": [
        "\n",
        "Finding GCD in Arrays\n"
      ]
    },
    {
      "cell_type": "code",
      "metadata": {
        "id": "sAuJj97p1mjr"
      },
      "source": [
        "# The reduce() method will use the ufunc, in this case the gcd() function, on each element,\n",
        "#  and reduce the array by one dimension.\n",
        "\n"
      ],
      "execution_count": 27,
      "outputs": []
    },
    {
      "cell_type": "code",
      "metadata": {
        "id": "fv3IXQcd13G-"
      },
      "source": [
        "arr = np.array([20, 8, 32, 36, 16])\n",
        "new = np.gcd.reduce(arr)"
      ],
      "execution_count": 28,
      "outputs": []
    },
    {
      "cell_type": "code",
      "metadata": {
        "colab": {
          "base_uri": "https://localhost:8080/"
        },
        "id": "E2F8UglD1_fq",
        "outputId": "d9496031-aaef-40fb-adf2-040159fb7f78"
      },
      "source": [
        "print(new)"
      ],
      "execution_count": 29,
      "outputs": [
        {
          "output_type": "stream",
          "text": [
            "4\n"
          ],
          "name": "stdout"
        }
      ]
    },
    {
      "cell_type": "code",
      "metadata": {
        "id": "_dhSS8mi2Bbc"
      },
      "source": [
        ""
      ],
      "execution_count": null,
      "outputs": []
    },
    {
      "cell_type": "markdown",
      "metadata": {
        "id": "ZUQD5o2g2bE8"
      },
      "source": [
        "# NumPy Set Operations\n"
      ]
    },
    {
      "cell_type": "code",
      "metadata": {
        "id": "4bZu7iNI2b6T"
      },
      "source": [
        "# A set in mathematics is a collection of unique elements.\n",
        "\n",
        "# We can use NumPy's unique() method to find unique elements from any array. E.g. create a set array,\n",
        "# but remember that the set arrays should only be 1-D arrays.\n",
        "\n"
      ],
      "execution_count": 30,
      "outputs": []
    },
    {
      "cell_type": "code",
      "metadata": {
        "id": "aIIZXiTq2mgO"
      },
      "source": [
        "arr = np.array([1, 1, 1, 2, 3, 4, 5, 5, 6, 7])\n"
      ],
      "execution_count": 31,
      "outputs": []
    },
    {
      "cell_type": "code",
      "metadata": {
        "colab": {
          "base_uri": "https://localhost:8080/"
        },
        "id": "mtxW1wzF22V9",
        "outputId": "3032385f-7822-4d53-d643-1aa07b4a96de"
      },
      "source": [
        "new = np.unique(arr)\n",
        "print(new)"
      ],
      "execution_count": 32,
      "outputs": [
        {
          "output_type": "stream",
          "text": [
            "[1 2 3 4 5 6 7]\n"
          ],
          "name": "stdout"
        }
      ]
    },
    {
      "cell_type": "code",
      "metadata": {
        "id": "uJb1J2Kk2-tT"
      },
      "source": [
        ""
      ],
      "execution_count": null,
      "outputs": []
    },
    {
      "cell_type": "markdown",
      "metadata": {
        "id": "u3N01nsb3DeR"
      },
      "source": [
        "Finding Union\n"
      ]
    },
    {
      "cell_type": "code",
      "metadata": {
        "id": "v5VEQxMI3D17"
      },
      "source": [
        "# To find the unique values of two arrays, use the union1d() method.\n",
        "\n"
      ],
      "execution_count": 33,
      "outputs": []
    },
    {
      "cell_type": "code",
      "metadata": {
        "id": "DS69f9SA3JF-"
      },
      "source": [
        "arr1 = np.array([1, 2, 3, 4])\n",
        "arr2 = np.array([3, 4, 5, 6])"
      ],
      "execution_count": 34,
      "outputs": []
    },
    {
      "cell_type": "code",
      "metadata": {
        "colab": {
          "base_uri": "https://localhost:8080/"
        },
        "id": "2ivSkpZr3MlH",
        "outputId": "a759c632-6b17-4f20-ffb1-57e85db1531f"
      },
      "source": [
        "new = np.union1d(arr1, arr2)\n",
        "\n",
        "print(new)"
      ],
      "execution_count": 35,
      "outputs": [
        {
          "output_type": "stream",
          "text": [
            "[1 2 3 4 5 6]\n"
          ],
          "name": "stdout"
        }
      ]
    },
    {
      "cell_type": "markdown",
      "metadata": {
        "id": "CvYcXlY43eT0"
      },
      "source": [
        "Finding Intersection\n"
      ]
    },
    {
      "cell_type": "code",
      "metadata": {
        "id": "lsd4K6aI3Vzs"
      },
      "source": [
        "# To find only the values that are present in both arrays, use the intersect1d() method.\n",
        "\n"
      ],
      "execution_count": 36,
      "outputs": []
    },
    {
      "cell_type": "code",
      "metadata": {
        "id": "t0FW6PGa3h96"
      },
      "source": [
        "arr1 = np.array([1, 2, 3, 4])\n",
        "arr2 = np.array([3, 4, 5, 6])\n"
      ],
      "execution_count": 37,
      "outputs": []
    },
    {
      "cell_type": "code",
      "metadata": {
        "id": "T1_kDn1G3leb"
      },
      "source": [
        "newarr = np.intersect1d(arr1,arr2, assume_unique=True)"
      ],
      "execution_count": 38,
      "outputs": []
    },
    {
      "cell_type": "code",
      "metadata": {
        "colab": {
          "base_uri": "https://localhost:8080/"
        },
        "id": "kpOxMIlN35jZ",
        "outputId": "f72d628b-10fe-4d7e-fe14-2ba7d6ee1183"
      },
      "source": [
        "print(newarr)"
      ],
      "execution_count": 39,
      "outputs": [
        {
          "output_type": "stream",
          "text": [
            "[3 4]\n"
          ],
          "name": "stdout"
        }
      ]
    },
    {
      "cell_type": "code",
      "metadata": {
        "id": "r8J7G-L738SK"
      },
      "source": [
        ""
      ],
      "execution_count": null,
      "outputs": []
    },
    {
      "cell_type": "markdown",
      "metadata": {
        "id": "N-ofY6dX4C9B"
      },
      "source": [
        "Finding Difference\n"
      ]
    },
    {
      "cell_type": "code",
      "metadata": {
        "id": "NLs_RxLy4DkW"
      },
      "source": [
        "# To find only the values in the first set that is NOT present in the seconds set, use the setdiff1d() method.\n",
        "\n"
      ],
      "execution_count": 40,
      "outputs": []
    },
    {
      "cell_type": "code",
      "metadata": {
        "id": "fJ3D-_P74JFf"
      },
      "source": [
        "set1 = np.array([1, 2, 3, 4])\n",
        "set2 = np.array([3, 4, 5, 6])"
      ],
      "execution_count": 41,
      "outputs": []
    },
    {
      "cell_type": "code",
      "metadata": {
        "colab": {
          "base_uri": "https://localhost:8080/"
        },
        "id": "qQqJpB6J4SkI",
        "outputId": "2cd9c9f7-b5b1-43ba-fee2-8902f95f0233"
      },
      "source": [
        "newarr = np.setdiff1d(set1, set2, assume_unique=True)\n",
        "print(newarr)"
      ],
      "execution_count": 42,
      "outputs": [
        {
          "output_type": "stream",
          "text": [
            "[1 2]\n"
          ],
          "name": "stdout"
        }
      ]
    },
    {
      "cell_type": "code",
      "metadata": {
        "id": "-E2Opg1r4XaV"
      },
      "source": [
        ""
      ],
      "execution_count": null,
      "outputs": []
    }
  ]
}