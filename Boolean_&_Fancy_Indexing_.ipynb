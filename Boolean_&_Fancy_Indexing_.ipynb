{
  "nbformat": 4,
  "nbformat_minor": 0,
  "metadata": {
    "colab": {
      "name": "Boolean & Fancy Indexing .ipynb",
      "provenance": []
    },
    "kernelspec": {
      "name": "python3",
      "display_name": "Python 3"
    }
  },
  "cells": [
    {
      "cell_type": "code",
      "metadata": {
        "id": "GZ6DujSxKkQA"
      },
      "source": [
        "import numpy as np"
      ],
      "execution_count": 1,
      "outputs": []
    },
    {
      "cell_type": "markdown",
      "metadata": {
        "id": "sT3evls7NXFQ"
      },
      "source": [
        "## Boolean Indexing\r\n"
      ]
    },
    {
      "cell_type": "code",
      "metadata": {
        "id": "hlUBhBgdLu0P"
      },
      "source": [
        "# Book Page Number.98"
      ],
      "execution_count": 2,
      "outputs": []
    },
    {
      "cell_type": "code",
      "metadata": {
        "id": "Ge7S9pVnLvgw"
      },
      "source": [
        "# I’m going to use here the randn function in numpy.random to generate\r\n",
        "#some random normally distributed data:\r\n"
      ],
      "execution_count": 3,
      "outputs": []
    },
    {
      "cell_type": "code",
      "metadata": {
        "id": "cShr0QsXOLWJ"
      },
      "source": [
        " names = np.array(['Bob', 'Joe', 'Will', 'Bob', 'Will', 'Joe', 'Joe'])\r\n"
      ],
      "execution_count": 4,
      "outputs": []
    },
    {
      "cell_type": "code",
      "metadata": {
        "colab": {
          "base_uri": "https://localhost:8080/"
        },
        "id": "uxl_64huOVGA",
        "outputId": "88bfff0c-ad84-462f-e4a8-60d7e2695cd4"
      },
      "source": [
        "names"
      ],
      "execution_count": 5,
      "outputs": [
        {
          "output_type": "execute_result",
          "data": {
            "text/plain": [
              "array(['Bob', 'Joe', 'Will', 'Bob', 'Will', 'Joe', 'Joe'], dtype='<U4')"
            ]
          },
          "metadata": {
            "tags": []
          },
          "execution_count": 5
        }
      ]
    },
    {
      "cell_type": "code",
      "metadata": {
        "id": "OG939aMYOlvv"
      },
      "source": [
        " data = np.random.randn(7, 4)\r\n"
      ],
      "execution_count": 6,
      "outputs": []
    },
    {
      "cell_type": "code",
      "metadata": {
        "colab": {
          "base_uri": "https://localhost:8080/"
        },
        "id": "MQY6LGLvPGXB",
        "outputId": "c2fe2494-e2b0-4161-e3ae-645e79e65901"
      },
      "source": [
        "data"
      ],
      "execution_count": 7,
      "outputs": [
        {
          "output_type": "execute_result",
          "data": {
            "text/plain": [
              "array([[ 0.04167293, -0.05411289,  0.23550825, -0.56675289],\n",
              "       [ 1.09561007,  0.79163501, -0.37996934,  0.36371252],\n",
              "       [-1.01305975, -0.13900872, -0.77701777, -0.54573957],\n",
              "       [-1.39663973,  0.1685694 , -0.65910197,  1.33550466],\n",
              "       [-2.82895801,  0.5715336 ,  1.87439906, -0.43010573],\n",
              "       [-0.13497049,  1.589948  ,  0.09571216, -0.45518458],\n",
              "       [-0.70446271, -0.98621667, -0.20129333,  0.74648276]])"
            ]
          },
          "metadata": {
            "tags": []
          },
          "execution_count": 7
        }
      ]
    },
    {
      "cell_type": "code",
      "metadata": {
        "id": "ior0pWxjPIZx"
      },
      "source": [
        "data1 = np.random.randn(4,7)"
      ],
      "execution_count": 10,
      "outputs": []
    },
    {
      "cell_type": "code",
      "metadata": {
        "colab": {
          "base_uri": "https://localhost:8080/"
        },
        "id": "3exCaeK4PaHB",
        "outputId": "8ce08a37-987c-4ca5-8b36-fd7665be1081"
      },
      "source": [
        "data1"
      ],
      "execution_count": 11,
      "outputs": [
        {
          "output_type": "execute_result",
          "data": {
            "text/plain": [
              "array([[ 0.16332679,  0.72557785,  1.65548514,  0.05664156, -0.97618471,\n",
              "         2.07827354, -0.62675355],\n",
              "       [-0.21127923,  1.20139001, -1.13422986, -0.24035538,  0.66153112,\n",
              "         0.25645254, -0.56088456],\n",
              "       [-1.74556735,  1.59342466, -0.38779327,  1.36483525,  0.68785534,\n",
              "        -1.31351618,  1.82292512],\n",
              "       [-0.36756461,  0.29601789,  0.66012398,  0.65371097,  1.35981218,\n",
              "        -0.22779769,  0.45868534]])"
            ]
          },
          "metadata": {
            "tags": []
          },
          "execution_count": 11
        }
      ]
    },
    {
      "cell_type": "code",
      "metadata": {
        "colab": {
          "base_uri": "https://localhost:8080/"
        },
        "id": "_dZw8g-eP2am",
        "outputId": "82413308-69b0-4185-aee9-244b1d64da40"
      },
      "source": [
        "names"
      ],
      "execution_count": 12,
      "outputs": [
        {
          "output_type": "execute_result",
          "data": {
            "text/plain": [
              "array(['Bob', 'Joe', 'Will', 'Bob', 'Will', 'Joe', 'Joe'], dtype='<U4')"
            ]
          },
          "metadata": {
            "tags": []
          },
          "execution_count": 12
        }
      ]
    },
    {
      "cell_type": "code",
      "metadata": {
        "colab": {
          "base_uri": "https://localhost:8080/"
        },
        "id": "4vs4Qx41P-w-",
        "outputId": "c4cb71db-f35c-49b1-9a41-c56d256b624f"
      },
      "source": [
        "data"
      ],
      "execution_count": 13,
      "outputs": [
        {
          "output_type": "execute_result",
          "data": {
            "text/plain": [
              "array([[ 0.04167293, -0.05411289,  0.23550825, -0.56675289],\n",
              "       [ 1.09561007,  0.79163501, -0.37996934,  0.36371252],\n",
              "       [-1.01305975, -0.13900872, -0.77701777, -0.54573957],\n",
              "       [-1.39663973,  0.1685694 , -0.65910197,  1.33550466],\n",
              "       [-2.82895801,  0.5715336 ,  1.87439906, -0.43010573],\n",
              "       [-0.13497049,  1.589948  ,  0.09571216, -0.45518458],\n",
              "       [-0.70446271, -0.98621667, -0.20129333,  0.74648276]])"
            ]
          },
          "metadata": {
            "tags": []
          },
          "execution_count": 13
        }
      ]
    },
    {
      "cell_type": "code",
      "metadata": {
        "colab": {
          "base_uri": "https://localhost:8080/"
        },
        "id": "ujxUs6jnQAjg",
        "outputId": "b60d32ca-1040-4af6-bee7-aacd15207be7"
      },
      "source": [
        " names == 'Bob'\r\n"
      ],
      "execution_count": 14,
      "outputs": [
        {
          "output_type": "execute_result",
          "data": {
            "text/plain": [
              "array([ True, False, False,  True, False, False, False])"
            ]
          },
          "metadata": {
            "tags": []
          },
          "execution_count": 14
        }
      ]
    },
    {
      "cell_type": "code",
      "metadata": {
        "colab": {
          "base_uri": "https://localhost:8080/",
          "height": 52
        },
        "id": "bVs391qBQgPh",
        "outputId": "1c4a7cb4-183e-4038-f224-bafafacf3e9d"
      },
      "source": [
        "\"\"\"  This boolean array can be passed when indexing the array:\r\n",
        "     Suppose each name corresponds to a row in the data array and we wanted to select\r\n",
        "     all the rows with corresponding name 'Bob'\r\n",
        "\"\"\""
      ],
      "execution_count": 18,
      "outputs": [
        {
          "output_type": "execute_result",
          "data": {
            "application/vnd.google.colaboratory.intrinsic+json": {
              "type": "string"
            },
            "text/plain": [
              "\"  This boolean array can be passed when indexing the array:\\n     Suppose each name corresponds to a row in the data array and we wanted to select\\n     all the rows with corresponding name 'Bob'\\n\""
            ]
          },
          "metadata": {
            "tags": []
          },
          "execution_count": 18
        }
      ]
    },
    {
      "cell_type": "code",
      "metadata": {
        "colab": {
          "base_uri": "https://localhost:8080/"
        },
        "id": "Vrvx1RX3Qp46",
        "outputId": "c220b15d-1dc0-44c9-f87a-75a69f683858"
      },
      "source": [
        " data[names == 'Bob']\r\n"
      ],
      "execution_count": 16,
      "outputs": [
        {
          "output_type": "execute_result",
          "data": {
            "text/plain": [
              "array([[ 0.04167293, -0.05411289,  0.23550825, -0.56675289],\n",
              "       [-1.39663973,  0.1685694 , -0.65910197,  1.33550466]])"
            ]
          },
          "metadata": {
            "tags": []
          },
          "execution_count": 16
        }
      ]
    },
    {
      "cell_type": "code",
      "metadata": {
        "colab": {
          "base_uri": "https://localhost:8080/"
        },
        "id": "yQADI6SXQxQ3",
        "outputId": "ca1a76ad-271d-449e-be30-6f02ccff112f"
      },
      "source": [
        " data[names == 'Bob', 2:]  #  we find in data array , \"bob\" rows and 2nd to last columns values.\r\n"
      ],
      "execution_count": 20,
      "outputs": [
        {
          "output_type": "execute_result",
          "data": {
            "text/plain": [
              "array([[ 0.23550825, -0.56675289],\n",
              "       [-0.65910197,  1.33550466]])"
            ]
          },
          "metadata": {
            "tags": []
          },
          "execution_count": 20
        }
      ]
    },
    {
      "cell_type": "code",
      "metadata": {
        "colab": {
          "base_uri": "https://localhost:8080/"
        },
        "id": "imI5XCNqRqL7",
        "outputId": "9670d671-805b-48d0-c226-163cf6eb2f7e"
      },
      "source": [
        " data[names == 'Bob', 3]  #  we find in data array , \"bob\" rows and 3nd columns values.\r\n"
      ],
      "execution_count": 21,
      "outputs": [
        {
          "output_type": "execute_result",
          "data": {
            "text/plain": [
              "array([-0.56675289,  1.33550466])"
            ]
          },
          "metadata": {
            "tags": []
          },
          "execution_count": 21
        }
      ]
    },
    {
      "cell_type": "code",
      "metadata": {
        "id": "eM8JPYqJS2ri"
      },
      "source": [
        "#  To select everything but 'Bob', you can either use != or negate the condition using ~: \r\n"
      ],
      "execution_count": 25,
      "outputs": []
    },
    {
      "cell_type": "code",
      "metadata": {
        "colab": {
          "base_uri": "https://localhost:8080/"
        },
        "id": "8aKWOFdITOX4",
        "outputId": "69f26ea5-5ba7-48e6-f6d1-cb5005728f2c"
      },
      "source": [
        " names != 'Bob'\r\n"
      ],
      "execution_count": 26,
      "outputs": [
        {
          "output_type": "execute_result",
          "data": {
            "text/plain": [
              "array([False,  True,  True, False,  True,  True,  True])"
            ]
          },
          "metadata": {
            "tags": []
          },
          "execution_count": 26
        }
      ]
    },
    {
      "cell_type": "code",
      "metadata": {
        "colab": {
          "base_uri": "https://localhost:8080/"
        },
        "id": "X8ERBMr9Tdvo",
        "outputId": "970077af-788d-424a-8d36-3d0e1b399492"
      },
      "source": [
        " data[~(names == 'Bob')]\r\n"
      ],
      "execution_count": 27,
      "outputs": [
        {
          "output_type": "execute_result",
          "data": {
            "text/plain": [
              "array([[ 1.09561007,  0.79163501, -0.37996934,  0.36371252],\n",
              "       [-1.01305975, -0.13900872, -0.77701777, -0.54573957],\n",
              "       [-2.82895801,  0.5715336 ,  1.87439906, -0.43010573],\n",
              "       [-0.13497049,  1.589948  ,  0.09571216, -0.45518458],\n",
              "       [-0.70446271, -0.98621667, -0.20129333,  0.74648276]])"
            ]
          },
          "metadata": {
            "tags": []
          },
          "execution_count": 27
        }
      ]
    },
    {
      "cell_type": "code",
      "metadata": {
        "id": "lEQkLm6MTmKx"
      },
      "source": [
        "# The ~ operator can be useful when you want to invert a general condition:\r\n"
      ],
      "execution_count": 29,
      "outputs": []
    },
    {
      "cell_type": "code",
      "metadata": {
        "id": "yB7OSCc_TuBP"
      },
      "source": [
        " cond = names == 'Bob'\r\n"
      ],
      "execution_count": 30,
      "outputs": []
    },
    {
      "cell_type": "code",
      "metadata": {
        "colab": {
          "base_uri": "https://localhost:8080/"
        },
        "id": "uoMpLldxUC99",
        "outputId": "1eee1cca-7b2b-40b2-cdf0-1682bec8d5b2"
      },
      "source": [
        " data[~cond]\r\n"
      ],
      "execution_count": 31,
      "outputs": [
        {
          "output_type": "execute_result",
          "data": {
            "text/plain": [
              "array([[ 1.09561007,  0.79163501, -0.37996934,  0.36371252],\n",
              "       [-1.01305975, -0.13900872, -0.77701777, -0.54573957],\n",
              "       [-2.82895801,  0.5715336 ,  1.87439906, -0.43010573],\n",
              "       [-0.13497049,  1.589948  ,  0.09571216, -0.45518458],\n",
              "       [-0.70446271, -0.98621667, -0.20129333,  0.74648276]])"
            ]
          },
          "metadata": {
            "tags": []
          },
          "execution_count": 31
        }
      ]
    },
    {
      "cell_type": "code",
      "metadata": {
        "id": "beFLCCDfUKNx"
      },
      "source": [
        " #   data[~(names == 'Bob')]\r\n",
        "#   data[~cond]                       Both conditions doing same work\r\n"
      ],
      "execution_count": 32,
      "outputs": []
    },
    {
      "cell_type": "code",
      "metadata": {
        "id": "V6meGfGSUhhC"
      },
      "source": [
        "# boolean arithmetic operators like & (and) and | (or):"
      ],
      "execution_count": 33,
      "outputs": []
    },
    {
      "cell_type": "code",
      "metadata": {
        "id": "5egU-ukGUvoc"
      },
      "source": [
        " mask = (names == 'Bob') | (names == 'Will')\r\n"
      ],
      "execution_count": 34,
      "outputs": []
    },
    {
      "cell_type": "code",
      "metadata": {
        "colab": {
          "base_uri": "https://localhost:8080/"
        },
        "id": "HBvYKjGPU5Nl",
        "outputId": "a190029a-f56b-4c14-b4b6-229004945f5c"
      },
      "source": [
        "mask"
      ],
      "execution_count": 35,
      "outputs": [
        {
          "output_type": "execute_result",
          "data": {
            "text/plain": [
              "array([ True, False,  True,  True,  True, False, False])"
            ]
          },
          "metadata": {
            "tags": []
          },
          "execution_count": 35
        }
      ]
    },
    {
      "cell_type": "code",
      "metadata": {
        "colab": {
          "base_uri": "https://localhost:8080/"
        },
        "id": "QfZBxyJdU8JL",
        "outputId": "c14016bb-2cdb-4ba3-ff76-b273f0b17956"
      },
      "source": [
        " data[mask]\r\n"
      ],
      "execution_count": 36,
      "outputs": [
        {
          "output_type": "execute_result",
          "data": {
            "text/plain": [
              "array([[ 0.04167293, -0.05411289,  0.23550825, -0.56675289],\n",
              "       [-1.01305975, -0.13900872, -0.77701777, -0.54573957],\n",
              "       [-1.39663973,  0.1685694 , -0.65910197,  1.33550466],\n",
              "       [-2.82895801,  0.5715336 ,  1.87439906, -0.43010573]])"
            ]
          },
          "metadata": {
            "tags": []
          },
          "execution_count": 36
        }
      ]
    },
    {
      "cell_type": "code",
      "metadata": {
        "id": "ExVCn4JcVIde"
      },
      "source": [
        "#  Setting values with boolean arrays works in a common-sense way. To set all of the\r\n",
        "#  negative values in data to 0 we need only do:"
      ],
      "execution_count": 50,
      "outputs": []
    },
    {
      "cell_type": "code",
      "metadata": {
        "id": "yM6hmrXSWSc8"
      },
      "source": [
        " data[data < 0] = 0\r\n"
      ],
      "execution_count": 55,
      "outputs": []
    },
    {
      "cell_type": "code",
      "metadata": {
        "colab": {
          "base_uri": "https://localhost:8080/"
        },
        "id": "Axuda_3ZWVFg",
        "outputId": "1a19a1a1-f76c-4f29-8775-f4fc37333cb1"
      },
      "source": [
        "data"
      ],
      "execution_count": 56,
      "outputs": [
        {
          "output_type": "execute_result",
          "data": {
            "text/plain": [
              "array([[0.04167293, 9.        , 0.23550825, 9.        ],\n",
              "       [1.09561007, 0.79163501, 9.        , 0.36371252],\n",
              "       [9.        , 9.        , 9.        , 9.        ],\n",
              "       [9.        , 0.1685694 , 9.        , 1.33550466],\n",
              "       [9.        , 0.5715336 , 1.87439906, 9.        ],\n",
              "       [9.        , 1.589948  , 0.09571216, 9.        ],\n",
              "       [9.        , 9.        , 9.        , 0.74648276]])"
            ]
          },
          "metadata": {
            "tags": []
          },
          "execution_count": 56
        }
      ]
    },
    {
      "cell_type": "code",
      "metadata": {
        "id": "usHMVC4mWWqN"
      },
      "source": [
        "# Setting whole rows or columns using a one-dimensional boolean array is also easy:\r\n"
      ],
      "execution_count": 57,
      "outputs": []
    },
    {
      "cell_type": "code",
      "metadata": {
        "id": "UW9pSEVkWwOa"
      },
      "source": [
        " data[names != 'Joe'] = 7\r\n"
      ],
      "execution_count": 58,
      "outputs": []
    },
    {
      "cell_type": "code",
      "metadata": {
        "colab": {
          "base_uri": "https://localhost:8080/"
        },
        "id": "U6s4XrH-W1lJ",
        "outputId": "c0e80a2d-6142-4d93-bb55-6287d3a18277"
      },
      "source": [
        "data"
      ],
      "execution_count": 67,
      "outputs": [
        {
          "output_type": "execute_result",
          "data": {
            "text/plain": [
              "array([[7.        , 7.        , 7.        , 7.        ],\n",
              "       [1.09561007, 0.79163501, 9.        , 0.36371252],\n",
              "       [7.        , 7.        , 7.        , 7.        ],\n",
              "       [7.        , 7.        , 7.        , 7.        ],\n",
              "       [7.        , 7.        , 7.        , 7.        ],\n",
              "       [9.        , 1.589948  , 0.09571216, 9.        ],\n",
              "       [9.        , 9.        , 9.        , 0.74648276]])"
            ]
          },
          "metadata": {
            "tags": []
          },
          "execution_count": 67
        }
      ]
    },
    {
      "cell_type": "code",
      "metadata": {
        "id": "YEsLKhUkXsI-"
      },
      "source": [
        ""
      ],
      "execution_count": null,
      "outputs": []
    },
    {
      "cell_type": "markdown",
      "metadata": {
        "id": "W90oXLtaXtKJ"
      },
      "source": [
        "# Fancy Indexing\r\n"
      ]
    },
    {
      "cell_type": "code",
      "metadata": {
        "id": "kveDBs3dXwjs"
      },
      "source": [
        "# Fancy indexing is a term adopted by NumPy to describe indexing using integer arrays.\r\n",
        "#Suppose we had an 8 × 4 array: \r\n"
      ],
      "execution_count": 68,
      "outputs": []
    },
    {
      "cell_type": "code",
      "metadata": {
        "id": "0LsFKXoqYCn3"
      },
      "source": [
        " arr = np.empty((8, 4))\r\n"
      ],
      "execution_count": 69,
      "outputs": []
    },
    {
      "cell_type": "code",
      "metadata": {
        "id": "9ODhQMzwYIEG"
      },
      "source": [
        " for i in range(8):\r\n",
        "       arr[i] = i"
      ],
      "execution_count": 72,
      "outputs": []
    },
    {
      "cell_type": "code",
      "metadata": {
        "colab": {
          "base_uri": "https://localhost:8080/"
        },
        "id": "1sxlKa_7YRkI",
        "outputId": "50e11818-1590-450d-c4e8-d9700392989c"
      },
      "source": [
        " arr = np.empty((8, 4))\r\n",
        " print(arr)\r\n"
      ],
      "execution_count": 73,
      "outputs": [
        {
          "output_type": "stream",
          "text": [
            "[[4.63636107e-310 0.00000000e+000 0.00000000e+000 0.00000000e+000]\n",
            " [0.00000000e+000 0.00000000e+000 0.00000000e+000 0.00000000e+000]\n",
            " [0.00000000e+000 0.00000000e+000 0.00000000e+000 0.00000000e+000]\n",
            " [0.00000000e+000 0.00000000e+000 0.00000000e+000 0.00000000e+000]\n",
            " [0.00000000e+000 0.00000000e+000 0.00000000e+000 0.00000000e+000]\n",
            " [0.00000000e+000 0.00000000e+000 0.00000000e+000 0.00000000e+000]\n",
            " [0.00000000e+000 0.00000000e+000 0.00000000e+000 0.00000000e+000]\n",
            " [0.00000000e+000 0.00000000e+000 0.00000000e+000 0.00000000e+000]]\n"
          ],
          "name": "stdout"
        }
      ]
    },
    {
      "cell_type": "code",
      "metadata": {
        "id": "oxXqW4jGY0DW"
      },
      "source": [
        " for i in range(8):\r\n",
        "       arr[i] = i"
      ],
      "execution_count": 74,
      "outputs": []
    },
    {
      "cell_type": "code",
      "metadata": {
        "colab": {
          "base_uri": "https://localhost:8080/"
        },
        "id": "ALMSvy5PY9b1",
        "outputId": "882d1dda-ddc2-41fa-85ec-82006cddc005"
      },
      "source": [
        "arr"
      ],
      "execution_count": 75,
      "outputs": [
        {
          "output_type": "execute_result",
          "data": {
            "text/plain": [
              "array([[0., 0., 0., 0.],\n",
              "       [1., 1., 1., 1.],\n",
              "       [2., 2., 2., 2.],\n",
              "       [3., 3., 3., 3.],\n",
              "       [4., 4., 4., 4.],\n",
              "       [5., 5., 5., 5.],\n",
              "       [6., 6., 6., 6.],\n",
              "       [7., 7., 7., 7.]])"
            ]
          },
          "metadata": {
            "tags": []
          },
          "execution_count": 75
        }
      ]
    },
    {
      "cell_type": "code",
      "metadata": {
        "colab": {
          "base_uri": "https://localhost:8080/"
        },
        "id": "b9ZO7mwIZAMQ",
        "outputId": "eeb5a880-c7bc-4954-994d-696276192e2d"
      },
      "source": [
        " arr[[4, 3, 0, 6]]\r\n"
      ],
      "execution_count": 76,
      "outputs": [
        {
          "output_type": "execute_result",
          "data": {
            "text/plain": [
              "array([[4., 4., 4., 4.],\n",
              "       [3., 3., 3., 3.],\n",
              "       [0., 0., 0., 0.],\n",
              "       [6., 6., 6., 6.]])"
            ]
          },
          "metadata": {
            "tags": []
          },
          "execution_count": 76
        }
      ]
    },
    {
      "cell_type": "code",
      "metadata": {
        "colab": {
          "base_uri": "https://localhost:8080/"
        },
        "id": "8NvTHBzeZRn_",
        "outputId": "6d9e8200-bce3-4ac5-8eff-f142479d5f10"
      },
      "source": [
        " arr[[-3, -5, -7]]\r\n"
      ],
      "execution_count": 77,
      "outputs": [
        {
          "output_type": "execute_result",
          "data": {
            "text/plain": [
              "array([[5., 5., 5., 5.],\n",
              "       [3., 3., 3., 3.],\n",
              "       [1., 1., 1., 1.]])"
            ]
          },
          "metadata": {
            "tags": []
          },
          "execution_count": 77
        }
      ]
    },
    {
      "cell_type": "code",
      "metadata": {
        "id": "RehBzBfkZbhM"
      },
      "source": [
        " arr = np.arange(32).reshape((8, 4))\r\n"
      ],
      "execution_count": 78,
      "outputs": []
    },
    {
      "cell_type": "code",
      "metadata": {
        "colab": {
          "base_uri": "https://localhost:8080/"
        },
        "id": "n1jLTWJAaCu2",
        "outputId": "709b9669-771f-42b8-a6fd-d597e1460f78"
      },
      "source": [
        "arr"
      ],
      "execution_count": 79,
      "outputs": [
        {
          "output_type": "execute_result",
          "data": {
            "text/plain": [
              "array([[ 0,  1,  2,  3],\n",
              "       [ 4,  5,  6,  7],\n",
              "       [ 8,  9, 10, 11],\n",
              "       [12, 13, 14, 15],\n",
              "       [16, 17, 18, 19],\n",
              "       [20, 21, 22, 23],\n",
              "       [24, 25, 26, 27],\n",
              "       [28, 29, 30, 31]])"
            ]
          },
          "metadata": {
            "tags": []
          },
          "execution_count": 79
        }
      ]
    },
    {
      "cell_type": "code",
      "metadata": {
        "colab": {
          "base_uri": "https://localhost:8080/"
        },
        "id": "9lDr0BaUaDmm",
        "outputId": "0706c527-e03b-4841-c7bc-8f65cfa26218"
      },
      "source": [
        "In [125]: arr[[1, 5, 7, 2]][:, [0, 3, 1, 2]]\r\n"
      ],
      "execution_count": 80,
      "outputs": [
        {
          "output_type": "execute_result",
          "data": {
            "text/plain": [
              "array([[ 4,  7,  5,  6],\n",
              "       [20, 23, 21, 22],\n",
              "       [28, 31, 29, 30],\n",
              "       [ 8, 11,  9, 10]])"
            ]
          },
          "metadata": {
            "tags": []
          },
          "execution_count": 80
        }
      ]
    },
    {
      "cell_type": "code",
      "metadata": {
        "id": "0Ce68-hyahQL"
      },
      "source": [
        "#  which is the rectangular region formed by\r\n",
        "# selecting a subset of the matrix’s rows and columns. Here is one way to get that:"
      ],
      "execution_count": 81,
      "outputs": []
    },
    {
      "cell_type": "code",
      "metadata": {
        "id": "QBmFun0XbaLf"
      },
      "source": [
        ""
      ],
      "execution_count": null,
      "outputs": []
    }
  ]
}