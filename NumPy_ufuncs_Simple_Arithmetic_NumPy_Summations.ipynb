{
  "nbformat": 4,
  "nbformat_minor": 0,
  "metadata": {
    "colab": {
      "name": "NumPy ufuncs_Simple Arithmetic_NumPy Summations.ipynb",
      "provenance": []
    },
    "kernelspec": {
      "name": "python3",
      "display_name": "Python 3"
    },
    "language_info": {
      "name": "python"
    }
  },
  "cells": [
    {
      "cell_type": "code",
      "metadata": {
        "id": "EjCberED71z3"
      },
      "source": [
        "import numpy as np"
      ],
      "execution_count": 1,
      "outputs": []
    },
    {
      "cell_type": "code",
      "metadata": {
        "id": "o0IROnK18ALw"
      },
      "source": [
        "#NumPy ufuncs\n",
        "# ufuncs stands for \"Universal Functions\" and they are NumPy functions that operates on the ndarray object.\n",
        "\n",
        "\n"
      ],
      "execution_count": 3,
      "outputs": []
    },
    {
      "cell_type": "markdown",
      "metadata": {
        "id": "vpvLQopI8nSj"
      },
      "source": [
        "What is Vectorization?\n"
      ]
    },
    {
      "cell_type": "code",
      "metadata": {
        "id": "4tvRVwwT8C4E"
      },
      "source": [
        "#Converting iterative statements into a vector based operation is called vectorization.\n",
        "\n"
      ],
      "execution_count": 4,
      "outputs": []
    },
    {
      "cell_type": "code",
      "metadata": {
        "colab": {
          "base_uri": "https://localhost:8080/"
        },
        "id": "_i30cLIZ8yKJ",
        "outputId": "9f6b9211-89ab-4417-ac85-97969fd910d9"
      },
      "source": [
        "x = [1, 2, 3, 4]\n",
        "y = [4, 5, 6, 7]       #  without using ufun \n",
        "z = []\n",
        "for i, j in zip(x, y):\n",
        "  z.append(i + j)\n",
        "print(z)"
      ],
      "execution_count": 7,
      "outputs": [
        {
          "output_type": "stream",
          "text": [
            "[5, 7, 9, 11]\n"
          ],
          "name": "stdout"
        }
      ]
    },
    {
      "cell_type": "code",
      "metadata": {
        "id": "xGjEiEzo84gB"
      },
      "source": [
        "#  using  ufun \n",
        "\n",
        "# NumPy has a ufunc for this, called add(x, y) that will produce the same result.\n",
        "\n",
        "#With ufunc, we can use the add() function:\n",
        "\n"
      ],
      "execution_count": 8,
      "outputs": []
    },
    {
      "cell_type": "code",
      "metadata": {
        "colab": {
          "base_uri": "https://localhost:8080/"
        },
        "id": "uVNmtVpn9lxP",
        "outputId": "af973da5-91c1-4ad8-eeed-8db07d1bdeea"
      },
      "source": [
        "x = [1,2,3,4,5]\n",
        "y = [6,7,8,9,10]\n",
        "z = np.add(x,y)\n",
        "print(z)"
      ],
      "execution_count": 9,
      "outputs": [
        {
          "output_type": "stream",
          "text": [
            "[ 7  9 11 13 15]\n"
          ],
          "name": "stdout"
        }
      ]
    },
    {
      "cell_type": "markdown",
      "metadata": {
        "id": "S6ToAHfo-l1T"
      },
      "source": [
        "# How To Create Your Own ufunc\n"
      ]
    },
    {
      "cell_type": "code",
      "metadata": {
        "id": "nDhATi2t9-XV"
      },
      "source": [
        "# The frompyfunc() method takes the following arguments:\n",
        "\n",
        "#function - the name of the function.\n",
        "#inputs - the number of input arguments (arrays).\n",
        "#outputs - the number of output arrays."
      ],
      "execution_count": 10,
      "outputs": []
    },
    {
      "cell_type": "code",
      "metadata": {
        "id": "qcgRTIyl-trU"
      },
      "source": [
        "# Create your own ufunc for addition:\n",
        "\n",
        "def myadd (x,y):\n",
        "  return x+y\n",
        "  myadd = np.frompyfunc(myadd, 2,1)\n",
        "  print(myadd([1,2,3,4,5],[6,7,8,9,10]))"
      ],
      "execution_count": 11,
      "outputs": []
    },
    {
      "cell_type": "code",
      "metadata": {
        "colab": {
          "base_uri": "https://localhost:8080/"
        },
        "id": "q256DOS9_vsE",
        "outputId": "4e8d67e4-a641-4647-a368-35cda21ce902"
      },
      "source": [
        "print(type(np.add))\n"
      ],
      "execution_count": 13,
      "outputs": [
        {
          "output_type": "stream",
          "text": [
            "<class 'numpy.ufunc'>\n"
          ],
          "name": "stdout"
        }
      ]
    },
    {
      "cell_type": "code",
      "metadata": {
        "colab": {
          "base_uri": "https://localhost:8080/"
        },
        "id": "C4BmdML7_0DS",
        "outputId": "dad4511b-87ee-443d-bd36-669999fa59b0"
      },
      "source": [
        "if type(np.add) == np.ufunc:\n",
        "  print('add is ufunc')\n",
        "else:\n",
        "  print('add is not ufunc')"
      ],
      "execution_count": 14,
      "outputs": [
        {
          "output_type": "stream",
          "text": [
            "add is ufunc\n"
          ],
          "name": "stdout"
        }
      ]
    },
    {
      "cell_type": "markdown",
      "metadata": {
        "id": "tEyTiZsiAz0-"
      },
      "source": [
        "# Simple Arithmetic\n"
      ]
    },
    {
      "cell_type": "code",
      "metadata": {
        "id": "tNVPaaBzAiwn"
      },
      "source": [
        "# Arithmetic Conditionally: means that we can define conditions where the arithmetic operation should happen.\n",
        "\n"
      ],
      "execution_count": 15,
      "outputs": []
    },
    {
      "cell_type": "markdown",
      "metadata": {
        "id": "TadHGU-jBLe6"
      },
      "source": [
        "Addition"
      ]
    },
    {
      "cell_type": "code",
      "metadata": {
        "id": "moKE9enkCR_q"
      },
      "source": [
        "# The add() function sums the content of two arrays, and return the results in a new array.\n"
      ],
      "execution_count": 18,
      "outputs": []
    },
    {
      "cell_type": "code",
      "metadata": {
        "id": "BSDaDvRQBDgf"
      },
      "source": [
        "import numpy as np"
      ],
      "execution_count": 16,
      "outputs": []
    },
    {
      "cell_type": "code",
      "metadata": {
        "colab": {
          "base_uri": "https://localhost:8080/"
        },
        "id": "pQCBqsw4BXa-",
        "outputId": "3caf0086-06b3-4a82-de52-ec2f6ca24c9b"
      },
      "source": [
        "arr1 = np.array([10,11,12,13,14,15])\n",
        "arr2 = np.array([20,21,22,23,24,25])\n",
        "newarr = np.add(arr1,arr2)\n",
        "\n",
        "print(newarr)"
      ],
      "execution_count": 19,
      "outputs": [
        {
          "output_type": "stream",
          "text": [
            "[30 32 34 36 38 40]\n"
          ],
          "name": "stdout"
        }
      ]
    },
    {
      "cell_type": "markdown",
      "metadata": {
        "id": "W3hSuVH6CHLf"
      },
      "source": [
        "Subtraction\n"
      ]
    },
    {
      "cell_type": "code",
      "metadata": {
        "id": "w2Ci7hf2B8ma"
      },
      "source": [
        "# The subtract() function subtracts the values from one array with the values from another array,\n",
        "# and return the results in a new array.\n",
        "\n"
      ],
      "execution_count": 21,
      "outputs": []
    },
    {
      "cell_type": "code",
      "metadata": {
        "colab": {
          "base_uri": "https://localhost:8080/"
        },
        "id": "Fttl4VBKCcd1",
        "outputId": "3da56589-a595-4030-fc51-40ab53c6ce53"
      },
      "source": [
        "arr1 = np.array([10, 20, 30, 40, 50, 60])\n",
        "arr2 = np.array([20, 21, 22, 23, 24, 25])\n",
        "\n",
        "newar = np.subtract(arr1,arr2)\n",
        "print(newar)"
      ],
      "execution_count": 22,
      "outputs": [
        {
          "output_type": "stream",
          "text": [
            "[-10  -1   8  17  26  35]\n"
          ],
          "name": "stdout"
        }
      ]
    },
    {
      "cell_type": "code",
      "metadata": {
        "id": "hfE4T2uBC0o8"
      },
      "source": [
        ""
      ],
      "execution_count": null,
      "outputs": []
    },
    {
      "cell_type": "markdown",
      "metadata": {
        "id": "gwdRKivcC_x1"
      },
      "source": [
        "Multiplication\n"
      ]
    },
    {
      "cell_type": "code",
      "metadata": {
        "id": "qXgYuCtKDAWQ"
      },
      "source": [
        "# The multiply() function multiplies the values from one array with the values from another array, and return the results in a new array.\n",
        "\n"
      ],
      "execution_count": 23,
      "outputs": []
    },
    {
      "cell_type": "code",
      "metadata": {
        "colab": {
          "base_uri": "https://localhost:8080/"
        },
        "id": "FXfcMLtfDFKH",
        "outputId": "6016bac9-8b72-4793-abeb-5ef009b30239"
      },
      "source": [
        "arr1 = np.array([10, 20, 30, 40, 50, 60])\n",
        "arr2 = np.array([20, 21, 22, 23, 24, 25])\n",
        "\n",
        "new = np.multiply(arr1,arr2)\n",
        "print(new)"
      ],
      "execution_count": 24,
      "outputs": [
        {
          "output_type": "stream",
          "text": [
            "[ 200  420  660  920 1200 1500]\n"
          ],
          "name": "stdout"
        }
      ]
    },
    {
      "cell_type": "code",
      "metadata": {
        "id": "Q1M3cLsMDUxl"
      },
      "source": [
        ""
      ],
      "execution_count": null,
      "outputs": []
    },
    {
      "cell_type": "markdown",
      "metadata": {
        "id": "ZWQ_lmaVDXy7"
      },
      "source": [
        "Division"
      ]
    },
    {
      "cell_type": "code",
      "metadata": {
        "id": "6iVP7l90Dchn"
      },
      "source": [
        "# The divide() function divides the values from one array with the values from another array,\n",
        "# and return the results in a new array.\n",
        "\n"
      ],
      "execution_count": 26,
      "outputs": []
    },
    {
      "cell_type": "code",
      "metadata": {
        "colab": {
          "base_uri": "https://localhost:8080/"
        },
        "id": "PY1ZPX9oDgoM",
        "outputId": "f9218e70-9876-414c-9f77-89705cac126a"
      },
      "source": [
        "arr1 = np.array([10, 20, 30, 40, 50, 60])\n",
        "arr2 = np.array([3, 5, 10, 8, 2, 33])\n",
        "\n",
        "newarray = np.divide(arr1,arr2)\n",
        "print(newarray)"
      ],
      "execution_count": 27,
      "outputs": [
        {
          "output_type": "stream",
          "text": [
            "[ 3.33333333  4.          3.          5.         25.          1.81818182]\n"
          ],
          "name": "stdout"
        }
      ]
    },
    {
      "cell_type": "code",
      "metadata": {
        "id": "sPYd5kDUD42V"
      },
      "source": [
        ""
      ],
      "execution_count": null,
      "outputs": []
    },
    {
      "cell_type": "markdown",
      "metadata": {
        "id": "9_AQrj85EBDe"
      },
      "source": [
        ""
      ]
    },
    {
      "cell_type": "markdown",
      "metadata": {
        "id": "vVWOHyllEBGj"
      },
      "source": [
        "Power"
      ]
    },
    {
      "cell_type": "code",
      "metadata": {
        "id": "cNRKvI41EBvE"
      },
      "source": [
        "#The power() function rises the values from the first array to the power of the values of the second array,\n",
        "# and return the results in a new array.\n",
        "\n"
      ],
      "execution_count": 28,
      "outputs": []
    },
    {
      "cell_type": "code",
      "metadata": {
        "colab": {
          "base_uri": "https://localhost:8080/"
        },
        "id": "NXBEd8bcEJju",
        "outputId": "6fbf20f5-cc31-4c83-cd8e-8320b18fcc14"
      },
      "source": [
        "\n",
        "arr1 = np.array([10, 20, 30, 40, 50, 60])\n",
        "arr2 = np.array([3, 5, 6, 8, 2, 33])\n",
        "\n",
        "powr = np.power(arr1,arr2)\n",
        "print(powr)"
      ],
      "execution_count": 30,
      "outputs": [
        {
          "output_type": "stream",
          "text": [
            "[         1000       3200000     729000000 6553600000000          2500\n",
            "             0]\n"
          ],
          "name": "stdout"
        }
      ]
    },
    {
      "cell_type": "code",
      "metadata": {
        "id": "Gl-DIMbWEalw"
      },
      "source": [
        ""
      ],
      "execution_count": null,
      "outputs": []
    },
    {
      "cell_type": "markdown",
      "metadata": {
        "id": "ixXcjAveEs4h"
      },
      "source": [
        "Remainder\n"
      ]
    },
    {
      "cell_type": "code",
      "metadata": {
        "id": "HuaHtWfUEti9"
      },
      "source": [
        "# Both the mod() and the remainder() functions return the remainder of the values in the first array \n",
        "#corresponding to the values in the second array, and return the results in a new array.\n",
        "\n"
      ],
      "execution_count": 31,
      "outputs": []
    },
    {
      "cell_type": "code",
      "metadata": {
        "colab": {
          "base_uri": "https://localhost:8080/"
        },
        "id": "3xVKjqz1EyjK",
        "outputId": "bb4ac0e6-cb4d-4d66-f16d-c3d1bf543a14"
      },
      "source": [
        "arr1 = np.array([10, 20, 30, 40, 50, 60])\n",
        "arr2 = np.array([3, 7, 9, 8, 2, 33])\n",
        "\n",
        "newarr = np.mod(arr1, arr2)           #  mod()  and remainder() are same'\n",
        "print(newarr)"
      ],
      "execution_count": 35,
      "outputs": [
        {
          "output_type": "stream",
          "text": [
            "[ 1  6  3  0  0 27]\n"
          ],
          "name": "stdout"
        }
      ]
    },
    {
      "cell_type": "code",
      "metadata": {
        "colab": {
          "base_uri": "https://localhost:8080/"
        },
        "id": "iYt5mehkE9AU",
        "outputId": "18c2e71a-971d-4c81-bfda-9cd40172230e"
      },
      "source": [
        "arr1 = np.array([10, 20, 30, 40, 50, 60])\n",
        "arr2 = np.array([3, 7, 9, 8, 2, 33])\n",
        "\n",
        "newarr = np.remainder(arr1, arr2)\n",
        "\n",
        "print(newarr)"
      ],
      "execution_count": 36,
      "outputs": [
        {
          "output_type": "stream",
          "text": [
            "[ 1  6  3  0  0 27]\n"
          ],
          "name": "stdout"
        }
      ]
    },
    {
      "cell_type": "code",
      "metadata": {
        "id": "dp_4TFvgFESn"
      },
      "source": [
        ""
      ],
      "execution_count": null,
      "outputs": []
    },
    {
      "cell_type": "markdown",
      "metadata": {
        "id": "c40aVxA9FiIR"
      },
      "source": [
        "Quotient and Mod\n"
      ]
    },
    {
      "cell_type": "code",
      "metadata": {
        "id": "s7HOMj6tFiie"
      },
      "source": [
        "#  The divmod() function return both the quotient and the the mod. The return value is two arrays,\n",
        "# the first array contains the quotient and second array contains the mod.\n",
        "\n"
      ],
      "execution_count": 37,
      "outputs": []
    },
    {
      "cell_type": "code",
      "metadata": {
        "colab": {
          "base_uri": "https://localhost:8080/"
        },
        "id": "3JRa89Z8Fp5w",
        "outputId": "293742f0-a9dd-441d-c322-8e41fdebca7d"
      },
      "source": [
        "arr1 = np.array([10, 20, 30, 40, 50, 60])\n",
        "arr2 = np.array([3, 7, 9, 8, 2, 33])\n",
        "\n",
        "new = np.divmod(arr1,arr2)\n",
        "print(new)"
      ],
      "execution_count": 38,
      "outputs": [
        {
          "output_type": "stream",
          "text": [
            "(array([ 3,  2,  3,  5, 25,  1]), array([ 1,  6,  3,  0,  0, 27]))\n"
          ],
          "name": "stdout"
        }
      ]
    },
    {
      "cell_type": "code",
      "metadata": {
        "id": "1xBS0lx2F3Jo"
      },
      "source": [
        ""
      ],
      "execution_count": null,
      "outputs": []
    },
    {
      "cell_type": "markdown",
      "metadata": {
        "id": "ffvJF50OGGja"
      },
      "source": [
        "Absolute Values\n"
      ]
    },
    {
      "cell_type": "code",
      "metadata": {
        "id": "ci-cQdgDGG87"
      },
      "source": [
        "# Both the absolute() and the abs() functions functions do the same absolute operation element-wise but \n",
        "# we should use absolute() to avoid confusion with python's inbuilt math.abs()\n",
        "\n"
      ],
      "execution_count": 39,
      "outputs": []
    },
    {
      "cell_type": "code",
      "metadata": {
        "colab": {
          "base_uri": "https://localhost:8080/"
        },
        "id": "7IlUnC8BGLL2",
        "outputId": "a06249ec-8704-48d4-e7c7-17011381a70c"
      },
      "source": [
        "arr = np.array([-1, -2, 1, 2, 3, -4])\n",
        "\n",
        "new = np.absolute(arr)\n",
        "print(new)"
      ],
      "execution_count": 40,
      "outputs": [
        {
          "output_type": "stream",
          "text": [
            "[1 2 1 2 3 4]\n"
          ],
          "name": "stdout"
        }
      ]
    },
    {
      "cell_type": "code",
      "metadata": {
        "id": "smAgnj4pGhqx"
      },
      "source": [
        ""
      ],
      "execution_count": null,
      "outputs": []
    },
    {
      "cell_type": "code",
      "metadata": {
        "id": "Jyo7FzhJGzWb"
      },
      "source": [
        ""
      ],
      "execution_count": null,
      "outputs": []
    },
    {
      "cell_type": "markdown",
      "metadata": {
        "id": "PqDNOkfZG0R_"
      },
      "source": [
        "# Rounding Decimals\n"
      ]
    },
    {
      "cell_type": "code",
      "metadata": {
        "id": "IPTCV94lG3k8"
      },
      "source": [
        "# There are primarily five ways of rounding off decimals in NumPy:\n",
        "\"\"\"\n",
        "truncation\n",
        "fix\n",
        "rounding\n",
        "floor\n",
        "ceil\n",
        "\"\"\""
      ],
      "execution_count": null,
      "outputs": []
    },
    {
      "cell_type": "markdown",
      "metadata": {
        "id": "JYilqn8ZHDWs"
      },
      "source": [
        "Truncation"
      ]
    },
    {
      "cell_type": "code",
      "metadata": {
        "id": "MrdLNafDHBdS"
      },
      "source": [
        "# Remove the decimals, and return the float number closest to zero. Use the trunc() and fix() functions.\n",
        "\n"
      ],
      "execution_count": 41,
      "outputs": []
    },
    {
      "cell_type": "code",
      "metadata": {
        "colab": {
          "base_uri": "https://localhost:8080/"
        },
        "id": "cFJmH0N_HLW5",
        "outputId": "26531f78-e2f0-4a54-bb1c-1fb23a6ce77f"
      },
      "source": [
        "# Truncate elements of following array:\n",
        "\n",
        "arr = np.trunc([-3.1666, 3.6667])\n",
        "new = np.trunc(arr)                        #  trunc() and fix() doing same work\n",
        "print(arr)"
      ],
      "execution_count": 44,
      "outputs": [
        {
          "output_type": "stream",
          "text": [
            "[-3.  3.]\n"
          ],
          "name": "stdout"
        }
      ]
    },
    {
      "cell_type": "code",
      "metadata": {
        "colab": {
          "base_uri": "https://localhost:8080/"
        },
        "id": "qteDTXO5Hbvs",
        "outputId": "83a8a042-ab4c-4c87-ac17-a90e21cd9714"
      },
      "source": [
        "# Same example, using fix():\n",
        "\n",
        "arr = np.trunc([-3.1666, 3.6667])\n",
        "new = np.fix(arr)\n",
        "print(new)"
      ],
      "execution_count": 45,
      "outputs": [
        {
          "output_type": "stream",
          "text": [
            "[-3.  3.]\n"
          ],
          "name": "stdout"
        }
      ]
    },
    {
      "cell_type": "code",
      "metadata": {
        "id": "TrUCE_vhHrJ8"
      },
      "source": [
        ""
      ],
      "execution_count": null,
      "outputs": []
    },
    {
      "cell_type": "markdown",
      "metadata": {
        "id": "CTsptIAUH42I"
      },
      "source": [
        "Rounding\n"
      ]
    },
    {
      "cell_type": "code",
      "metadata": {
        "id": "8_j1EzvEH5SJ"
      },
      "source": [
        "# The around() function increments preceding digit or decimal by 1 if >=5 else do nothing.\n",
        "\n",
        "# E.g. round off to 1 decimal point, 3.16666 is 3.2"
      ],
      "execution_count": 46,
      "outputs": []
    },
    {
      "cell_type": "code",
      "metadata": {
        "colab": {
          "base_uri": "https://localhost:8080/"
        },
        "id": "V8LIt6lHIFwS",
        "outputId": "10418b54-ecc2-4513-c9fa-89fe5b55041a"
      },
      "source": [
        "arr = np.around(3.1666, 2)\n",
        "\n",
        "print(arr)"
      ],
      "execution_count": 47,
      "outputs": [
        {
          "output_type": "stream",
          "text": [
            "3.17\n"
          ],
          "name": "stdout"
        }
      ]
    },
    {
      "cell_type": "code",
      "metadata": {
        "id": "5tcGuEa5IKyJ"
      },
      "source": [
        ""
      ],
      "execution_count": null,
      "outputs": []
    },
    {
      "cell_type": "markdown",
      "metadata": {
        "id": "scBhxNAAIRXv"
      },
      "source": [
        "Floor\n"
      ]
    },
    {
      "cell_type": "code",
      "metadata": {
        "id": "2DOcv0uJISDc"
      },
      "source": [
        "# The floor() function rounds off decimal to nearest lower integer.\n",
        "\n",
        "# E.g. floor of 3.166 is 3."
      ],
      "execution_count": 48,
      "outputs": []
    },
    {
      "cell_type": "code",
      "metadata": {
        "colab": {
          "base_uri": "https://localhost:8080/"
        },
        "id": "CKlHdJzgIXUa",
        "outputId": "5acb9f17-45ee-401a-92ae-54dd8f72c92f"
      },
      "source": [
        "arr = np.floor([-3.1666, 3.6667])\n",
        "\n",
        "print(arr)"
      ],
      "execution_count": 49,
      "outputs": [
        {
          "output_type": "stream",
          "text": [
            "[-4.  3.]\n"
          ],
          "name": "stdout"
        }
      ]
    },
    {
      "cell_type": "code",
      "metadata": {
        "id": "MbTfdBg3IdqX"
      },
      "source": [
        ""
      ],
      "execution_count": null,
      "outputs": []
    },
    {
      "cell_type": "markdown",
      "metadata": {
        "id": "PnYJqpMsIvfL"
      },
      "source": [
        "Ceil"
      ]
    },
    {
      "cell_type": "code",
      "metadata": {
        "id": "2P5KUkdTIwAm"
      },
      "source": [
        "# The ceil() function rounds off decimal to nearest upper integer.\n",
        "\n",
        "# E.g. ceil of 3.166 is 4."
      ],
      "execution_count": 50,
      "outputs": []
    },
    {
      "cell_type": "code",
      "metadata": {
        "colab": {
          "base_uri": "https://localhost:8080/"
        },
        "id": "eHQLerAjIz8B",
        "outputId": "23e8a75b-a828-436e-994c-888808602380"
      },
      "source": [
        "arr = np.ceil([-3.1666, 3.6667])\n",
        "\n",
        "print(arr)"
      ],
      "execution_count": 51,
      "outputs": [
        {
          "output_type": "stream",
          "text": [
            "[-3.  4.]\n"
          ],
          "name": "stdout"
        }
      ]
    },
    {
      "cell_type": "code",
      "metadata": {
        "id": "S3TULlDPI4XO"
      },
      "source": [
        ""
      ],
      "execution_count": null,
      "outputs": []
    },
    {
      "cell_type": "markdown",
      "metadata": {
        "id": "j7DgZ7EQKIPO"
      },
      "source": [
        "# NumPy Summations\n"
      ]
    },
    {
      "cell_type": "markdown",
      "metadata": {
        "id": "RN6zUqpTKR0j"
      },
      "source": [
        "Summations\n"
      ]
    },
    {
      "cell_type": "code",
      "metadata": {
        "colab": {
          "base_uri": "https://localhost:8080/"
        },
        "id": "jnFf8vGQKJJ4",
        "outputId": "1a2db16a-1203-473a-86d4-e8c369175054"
      },
      "source": [
        "\n",
        "arr1 = np.array([1, 2, 3])\n",
        "arr2 = np.array([1, 2, 3])\n",
        "\n",
        "newarr = np.add(arr1, arr2)\n",
        "\n",
        "print(newarr)"
      ],
      "execution_count": 52,
      "outputs": [
        {
          "output_type": "stream",
          "text": [
            "[2 4 6]\n"
          ],
          "name": "stdout"
        }
      ]
    },
    {
      "cell_type": "code",
      "metadata": {
        "colab": {
          "base_uri": "https://localhost:8080/"
        },
        "id": "NLkbXkOhKWGw",
        "outputId": "0687f7ce-3bce-4a7e-e70a-0f0aeaaf03b2"
      },
      "source": [
        "\n",
        "arr1 = np.array([1, 2, 3])\n",
        "arr2 = np.array([1, 2, 3])\n",
        "\n",
        "newarr = np.sum([arr1, arr2])\n",
        "\n",
        "print(newarr)"
      ],
      "execution_count": 54,
      "outputs": [
        {
          "output_type": "stream",
          "text": [
            "12\n"
          ],
          "name": "stdout"
        }
      ]
    },
    {
      "cell_type": "markdown",
      "metadata": {
        "id": "GAJHYXfVKqBu"
      },
      "source": [
        "Summation Over an Axis\n"
      ]
    },
    {
      "cell_type": "code",
      "metadata": {
        "id": "6pk3-7RqKctW"
      },
      "source": [
        "# If you specify axis=1, NumPy will sum the numbers in each array.\n",
        "\n"
      ],
      "execution_count": 55,
      "outputs": []
    },
    {
      "cell_type": "code",
      "metadata": {
        "colab": {
          "base_uri": "https://localhost:8080/"
        },
        "id": "a-DRcqsKKyXM",
        "outputId": "f9124c48-0a6b-4553-f680-a0520b8dbec7"
      },
      "source": [
        "arr1 = np.array([1, 2, 3])\n",
        "arr2 = np.array([1, 2, 3])\n",
        "\n",
        "newarr = np.sum([arr1, arr2], axis=1)     # axis= 1\n",
        "\n",
        "print(newarr)"
      ],
      "execution_count": 56,
      "outputs": [
        {
          "output_type": "stream",
          "text": [
            "[6 6]\n"
          ],
          "name": "stdout"
        }
      ]
    },
    {
      "cell_type": "code",
      "metadata": {
        "colab": {
          "base_uri": "https://localhost:8080/"
        },
        "id": "soeIi0XjK2pY",
        "outputId": "ee5b7f10-a2a5-4d98-e117-0e07a20d5805"
      },
      "source": [
        "arr1 = np.array([1, 2, 3])\n",
        "arr2 = np.array([1, 2, 3])\n",
        "\n",
        "newarr = np.sum([arr1, arr2], axis=0)    #  axis = 0\n",
        "\n",
        "print(newarr)"
      ],
      "execution_count": 58,
      "outputs": [
        {
          "output_type": "stream",
          "text": [
            "[2 4 6]\n"
          ],
          "name": "stdout"
        }
      ]
    },
    {
      "cell_type": "code",
      "metadata": {
        "id": "htcP8OeJK5uW"
      },
      "source": [
        ""
      ],
      "execution_count": null,
      "outputs": []
    },
    {
      "cell_type": "markdown",
      "metadata": {
        "id": "H8Dlqo1uLFOI"
      },
      "source": [
        "Cummulative Sum\n"
      ]
    },
    {
      "cell_type": "code",
      "metadata": {
        "id": "V_P-vypxLHiE"
      },
      "source": [
        "# Cummulative sum means partially adding the elements in array.\n",
        "\n",
        "# E.g. The partial sum of [1, 2, 3, 4] would be [1, 1+2, 1+2+3, 1+2+3+4] = [1, 3, 6, 10].\n",
        "\n",
        "# Perfom partial sum with the cumsum() function."
      ],
      "execution_count": 59,
      "outputs": []
    },
    {
      "cell_type": "code",
      "metadata": {
        "colab": {
          "base_uri": "https://localhost:8080/"
        },
        "id": "SiKpNtXgLTYl",
        "outputId": "cc690d48-71bd-4a63-e619-f990384b0f49"
      },
      "source": [
        "arr = np.array([1, 2, 3])\n",
        "\n",
        "new = np.cumsum(arr)\n",
        "print(new)"
      ],
      "execution_count": 61,
      "outputs": [
        {
          "output_type": "stream",
          "text": [
            "[1 3 6]\n"
          ],
          "name": "stdout"
        }
      ]
    },
    {
      "cell_type": "code",
      "metadata": {
        "id": "-ARfNDtJLg9R"
      },
      "source": [
        ""
      ],
      "execution_count": null,
      "outputs": []
    }
  ]
}