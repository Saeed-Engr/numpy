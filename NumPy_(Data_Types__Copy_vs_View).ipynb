{
  "nbformat": 4,
  "nbformat_minor": 0,
  "metadata": {
    "colab": {
      "name": "NumPy (Data_Types_ Copy vs View).ipynb",
      "provenance": []
    },
    "kernelspec": {
      "name": "python3",
      "display_name": "Python 3"
    },
    "language_info": {
      "name": "python"
    }
  },
  "cells": [
    {
      "cell_type": "markdown",
      "metadata": {
        "id": "NMoT4cM_TZtN"
      },
      "source": [
        "# NumPy Data Types\n"
      ]
    },
    {
      "cell_type": "code",
      "metadata": {
        "id": "a77c9Ct0TcPD"
      },
      "source": [
        "# By default Python have these data types:\n",
        "\"\"\"\n",
        "strings - used to represent text data, the text is given under quote marks. e.g. \"ABCD\"\n",
        "integer - used to represent integer numbers. e.g. -1, -2, -3\n",
        "float - used to represent real numbers. e.g. 1.2, 42.42\n",
        "boolean - used to represent True or False.\n",
        "complex - used to represent complex numbers. e.g. 1.0 + 2.0j, 1.5 + 2.5j\n",
        "\"\"\""
      ],
      "execution_count": 1,
      "outputs": []
    },
    {
      "cell_type": "code",
      "metadata": {
        "id": "jTwiWapWTvOM"
      },
      "source": [
        "# Below is a list of all data types in NumPy and the characters used to represent them.\n",
        "\"\"\"\n",
        "i - integer\n",
        "b - boolean\n",
        "u - unsigned integer\n",
        "f - float\n",
        "c - complex float\n",
        "m - timedelta\n",
        "M - datetime\n",
        "O - object\n",
        "S - string\n",
        "U - unicode string\n",
        "V - fixed chunk of memory for other type ( void )\n",
        "\"\"\""
      ],
      "execution_count": 2,
      "outputs": []
    },
    {
      "cell_type": "code",
      "metadata": {
        "id": "dbkhsRUcUXsQ"
      },
      "source": [
        "import numpy as np\n"
      ],
      "execution_count": 8,
      "outputs": []
    },
    {
      "cell_type": "code",
      "metadata": {
        "id": "WHdhX0T3VUa3"
      },
      "source": [
        "# The NumPy array object has a property called dtype that returns the data type of the array:"
      ],
      "execution_count": null,
      "outputs": []
    },
    {
      "cell_type": "code",
      "metadata": {
        "id": "RbLHhz7OUvFJ"
      },
      "source": [
        "arr = np.array([1,2,3,4,5,6])"
      ],
      "execution_count": 6,
      "outputs": []
    },
    {
      "cell_type": "code",
      "metadata": {
        "colab": {
          "base_uri": "https://localhost:8080/"
        },
        "id": "gibXVHjYU6U2",
        "outputId": "8275297d-36cf-4f05-fcd0-617f6afe24c6"
      },
      "source": [
        "arr"
      ],
      "execution_count": 7,
      "outputs": [
        {
          "output_type": "execute_result",
          "data": {
            "text/plain": [
              "array([1, 2, 3, 4, 5, 6])"
            ]
          },
          "metadata": {
            "tags": []
          },
          "execution_count": 7
        }
      ]
    },
    {
      "cell_type": "code",
      "metadata": {
        "colab": {
          "base_uri": "https://localhost:8080/"
        },
        "id": "O5844_nPVNJa",
        "outputId": "39d45434-c305-48a1-d53c-e2288580c651"
      },
      "source": [
        "print(arr.dtype)"
      ],
      "execution_count": 9,
      "outputs": [
        {
          "output_type": "stream",
          "text": [
            "int64\n"
          ],
          "name": "stdout"
        }
      ]
    },
    {
      "cell_type": "code",
      "metadata": {
        "id": "73iyo3N-VmB4"
      },
      "source": [
        "arr1 = np.array(['apple', 'banana', 'cherry'])\n"
      ],
      "execution_count": 10,
      "outputs": []
    },
    {
      "cell_type": "code",
      "metadata": {
        "colab": {
          "base_uri": "https://localhost:8080/"
        },
        "id": "0UP-g-ekV25X",
        "outputId": "3e471f8b-0d49-489e-fc05-8565aa148e54"
      },
      "source": [
        "print(arr1.dtype)"
      ],
      "execution_count": 11,
      "outputs": [
        {
          "output_type": "stream",
          "text": [
            "<U6\n"
          ],
          "name": "stdout"
        }
      ]
    },
    {
      "cell_type": "markdown",
      "metadata": {
        "id": "5O0-LhL9WQzV"
      },
      "source": [
        "# Creating Arrays With a Defined Data Type\n"
      ]
    },
    {
      "cell_type": "code",
      "metadata": {
        "id": "r6EN-2sUV8b1"
      },
      "source": [
        "# We use the array() function to create arrays, this function can take an optional argument:\n",
        "# dtype that allows us to define the expected data type of the array elements:\n",
        "\n"
      ],
      "execution_count": 12,
      "outputs": []
    },
    {
      "cell_type": "code",
      "metadata": {
        "id": "LwnA_m3GWhbr"
      },
      "source": [
        "arr = np.array([1, 2, 3, 4], dtype='S')\n"
      ],
      "execution_count": 13,
      "outputs": []
    },
    {
      "cell_type": "code",
      "metadata": {
        "colab": {
          "base_uri": "https://localhost:8080/"
        },
        "id": "kMEA73mmWqYW",
        "outputId": "e4b5589d-0b0e-4e4f-83d0-dab28b8314f4"
      },
      "source": [
        "print(arr)"
      ],
      "execution_count": 14,
      "outputs": [
        {
          "output_type": "stream",
          "text": [
            "[b'1' b'2' b'3' b'4']\n"
          ],
          "name": "stdout"
        }
      ]
    },
    {
      "cell_type": "code",
      "metadata": {
        "colab": {
          "base_uri": "https://localhost:8080/"
        },
        "id": "NiFfpJTvWxlA",
        "outputId": "109377de-6694-4227-fed7-e2692d6db3cf"
      },
      "source": [
        "arr.dtype"
      ],
      "execution_count": 15,
      "outputs": [
        {
          "output_type": "execute_result",
          "data": {
            "text/plain": [
              "dtype('S1')"
            ]
          },
          "metadata": {
            "tags": []
          },
          "execution_count": 15
        }
      ]
    },
    {
      "cell_type": "code",
      "metadata": {
        "id": "RUp9sTaoW2Jz"
      },
      "source": [
        "# Create an array with data type 4 bytes integer:"
      ],
      "execution_count": 16,
      "outputs": []
    },
    {
      "cell_type": "code",
      "metadata": {
        "id": "Hll73tGUXGVv"
      },
      "source": [
        "arr = np.array([1, 2, 3, 4,5,], dtype='i4')\n"
      ],
      "execution_count": 25,
      "outputs": []
    },
    {
      "cell_type": "code",
      "metadata": {
        "colab": {
          "base_uri": "https://localhost:8080/"
        },
        "id": "LpjOvwq7XK2t",
        "outputId": "4ed35c86-0f02-4b13-c22a-187eb804ec85"
      },
      "source": [
        "arr"
      ],
      "execution_count": 26,
      "outputs": [
        {
          "output_type": "execute_result",
          "data": {
            "text/plain": [
              "array([1, 2, 3, 4, 5], dtype=int32)"
            ]
          },
          "metadata": {
            "tags": []
          },
          "execution_count": 26
        }
      ]
    },
    {
      "cell_type": "code",
      "metadata": {
        "colab": {
          "base_uri": "https://localhost:8080/"
        },
        "id": "owcrUVftXMjK",
        "outputId": "28cbe45f-dec1-47ba-98a4-73ffb0c0a615"
      },
      "source": [
        "arr.dtype"
      ],
      "execution_count": 20,
      "outputs": [
        {
          "output_type": "execute_result",
          "data": {
            "text/plain": [
              "dtype('int32')"
            ]
          },
          "metadata": {
            "tags": []
          },
          "execution_count": 20
        }
      ]
    },
    {
      "cell_type": "code",
      "metadata": {
        "id": "h-2Z9d0uXSYQ"
      },
      "source": [
        "arr1 = np.array([1,2,3,4,5,6,7], dtype = 'i8')"
      ],
      "execution_count": 23,
      "outputs": []
    },
    {
      "cell_type": "code",
      "metadata": {
        "colab": {
          "base_uri": "https://localhost:8080/"
        },
        "id": "w3JmQNOiXrPc",
        "outputId": "d353935f-9512-48ec-ccd6-929bd7463207"
      },
      "source": [
        "arr1.dtype"
      ],
      "execution_count": 24,
      "outputs": [
        {
          "output_type": "execute_result",
          "data": {
            "text/plain": [
              "dtype('int64')"
            ]
          },
          "metadata": {
            "tags": []
          },
          "execution_count": 24
        }
      ]
    },
    {
      "cell_type": "markdown",
      "metadata": {
        "id": "hkMqkakWYmE0"
      },
      "source": [
        "# Converting Data Type on Existing Arrays\n"
      ]
    },
    {
      "cell_type": "code",
      "metadata": {
        "id": "7kTxMsW1XwAU"
      },
      "source": [
        "# The astype() function creates a copy of the array, and allows you to specify the data type as a parameter.\n",
        "\n"
      ],
      "execution_count": 27,
      "outputs": []
    },
    {
      "cell_type": "code",
      "metadata": {
        "id": "Csj8JlMgYvIu"
      },
      "source": [
        "arr = np.array([1.1, 2.1, 3.1])\n"
      ],
      "execution_count": 28,
      "outputs": []
    },
    {
      "cell_type": "code",
      "metadata": {
        "colab": {
          "base_uri": "https://localhost:8080/"
        },
        "id": "5Ybllq4xYzrR",
        "outputId": "f671808c-1531-4904-c4df-385f6146f6ba"
      },
      "source": [
        "arr.dtype"
      ],
      "execution_count": 29,
      "outputs": [
        {
          "output_type": "execute_result",
          "data": {
            "text/plain": [
              "dtype('float64')"
            ]
          },
          "metadata": {
            "tags": []
          },
          "execution_count": 29
        }
      ]
    },
    {
      "cell_type": "code",
      "metadata": {
        "id": "fxmECK6yY2HQ"
      },
      "source": [
        "newarr = arr.astype('i8')   #  int64\n",
        "\n",
        "newarr1 = arr.astype('i4')  #  int32"
      ],
      "execution_count": 35,
      "outputs": []
    },
    {
      "cell_type": "code",
      "metadata": {
        "colab": {
          "base_uri": "https://localhost:8080/"
        },
        "id": "ZvxCANYwZFC5",
        "outputId": "c63f7ba3-1575-4877-d145-0ecb02a5774b"
      },
      "source": [
        "\n",
        "print(newarr1.dtype)\n",
        "\n",
        "newarr.dtype"
      ],
      "execution_count": 39,
      "outputs": [
        {
          "output_type": "stream",
          "text": [
            "int32\n"
          ],
          "name": "stdout"
        },
        {
          "output_type": "execute_result",
          "data": {
            "text/plain": [
              "dtype('int64')"
            ]
          },
          "metadata": {
            "tags": []
          },
          "execution_count": 39
        }
      ]
    },
    {
      "cell_type": "code",
      "metadata": {
        "id": "aQYIjPLJZI8D"
      },
      "source": [
        "ar = np.array([1.1,2.2,.3,4.1,])"
      ],
      "execution_count": 42,
      "outputs": []
    },
    {
      "cell_type": "code",
      "metadata": {
        "colab": {
          "base_uri": "https://localhost:8080/"
        },
        "id": "IOAOes3zaeQU",
        "outputId": "0979d521-0aa2-47b2-81fa-5999bda7711e"
      },
      "source": [
        "ar.dtype"
      ],
      "execution_count": 43,
      "outputs": [
        {
          "output_type": "execute_result",
          "data": {
            "text/plain": [
              "dtype('float64')"
            ]
          },
          "metadata": {
            "tags": []
          },
          "execution_count": 43
        }
      ]
    },
    {
      "cell_type": "code",
      "metadata": {
        "id": "YWYJDjRRahV4"
      },
      "source": [
        "newarr = ar.astype('f')"
      ],
      "execution_count": 44,
      "outputs": []
    },
    {
      "cell_type": "code",
      "metadata": {
        "colab": {
          "base_uri": "https://localhost:8080/"
        },
        "id": "bd37NWUTayES",
        "outputId": "ce74f8d8-c15d-4a1a-ef96-0d99bff6accd"
      },
      "source": [
        "newarr.dtype"
      ],
      "execution_count": 45,
      "outputs": [
        {
          "output_type": "execute_result",
          "data": {
            "text/plain": [
              "dtype('float32')"
            ]
          },
          "metadata": {
            "tags": []
          },
          "execution_count": 45
        }
      ]
    },
    {
      "cell_type": "code",
      "metadata": {
        "id": "DwPuOsGka2qD"
      },
      "source": [
        "inte = ar.astype('i4')"
      ],
      "execution_count": 46,
      "outputs": []
    },
    {
      "cell_type": "code",
      "metadata": {
        "colab": {
          "base_uri": "https://localhost:8080/"
        },
        "id": "5OfVAu2CbcSn",
        "outputId": "3bf3a1f7-fd20-483f-c59c-ec2712995d74"
      },
      "source": [
        "inte.dtype"
      ],
      "execution_count": 47,
      "outputs": [
        {
          "output_type": "execute_result",
          "data": {
            "text/plain": [
              "dtype('int32')"
            ]
          },
          "metadata": {
            "tags": []
          },
          "execution_count": 47
        }
      ]
    },
    {
      "cell_type": "code",
      "metadata": {
        "colab": {
          "base_uri": "https://localhost:8080/"
        },
        "id": "ztDsDUlMbfY1",
        "outputId": "8c6d3dc2-192b-4f14-e827-b6b4c2c5918d"
      },
      "source": [
        "arr = np.array([1.1, 2.1, 3.1])\n",
        "\n",
        "newar = arr.astype(int)\n",
        "\n",
        "print(newar.dtype)\n",
        "newar\n"
      ],
      "execution_count": 51,
      "outputs": [
        {
          "output_type": "stream",
          "text": [
            "int64\n"
          ],
          "name": "stdout"
        },
        {
          "output_type": "execute_result",
          "data": {
            "text/plain": [
              "array([1, 2, 3])"
            ]
          },
          "metadata": {
            "tags": []
          },
          "execution_count": 51
        }
      ]
    },
    {
      "cell_type": "code",
      "metadata": {
        "id": "MYJrDLKebxBT"
      },
      "source": [
        "# Change data type from integer to boolean:\n",
        "\n"
      ],
      "execution_count": 52,
      "outputs": []
    },
    {
      "cell_type": "code",
      "metadata": {
        "id": "07opYgggcVAa"
      },
      "source": [
        "arr = np.array([1, 0, 3])\n",
        "\n"
      ],
      "execution_count": 53,
      "outputs": []
    },
    {
      "cell_type": "code",
      "metadata": {
        "colab": {
          "base_uri": "https://localhost:8080/"
        },
        "id": "K0XjjQcIcZkk",
        "outputId": "4f17bd7d-ae7e-482d-95f0-f69d4e2f8c2e"
      },
      "source": [
        "new = arr.astype(bool)\n",
        "print(new.dtype)\n",
        "print(new)"
      ],
      "execution_count": 58,
      "outputs": [
        {
          "output_type": "stream",
          "text": [
            "bool\n",
            "[ True False  True]\n"
          ],
          "name": "stdout"
        }
      ]
    },
    {
      "cell_type": "code",
      "metadata": {
        "id": "6oBPUBp5chtQ"
      },
      "source": [
        ""
      ],
      "execution_count": null,
      "outputs": []
    },
    {
      "cell_type": "markdown",
      "metadata": {
        "id": "nSUb7JB5difa"
      },
      "source": [
        "# NumPy Array Copy vs View\n"
      ]
    },
    {
      "cell_type": "markdown",
      "metadata": {
        "id": "p_CXeBY6eVbT"
      },
      "source": [
        "COPY:\n"
      ]
    },
    {
      "cell_type": "code",
      "metadata": {
        "id": "v5na6OGBebTa"
      },
      "source": [
        "# The copy owns the data and any changes made to the copy will not affect original array, \n",
        "# and any changes made to the original array will not affect the copy.\n",
        "\n"
      ],
      "execution_count": 62,
      "outputs": []
    },
    {
      "cell_type": "code",
      "metadata": {
        "id": "iqmL8DZRdkjp"
      },
      "source": [
        "\n",
        "arr = np.array([1, 2, 3, 4, 5])\n",
        "x = arr.copy()\n",
        "arr[0] = 42"
      ],
      "execution_count": 59,
      "outputs": []
    },
    {
      "cell_type": "code",
      "metadata": {
        "colab": {
          "base_uri": "https://localhost:8080/"
        },
        "id": "05u4NFl7d--m",
        "outputId": "d9bb214b-81ac-448b-f972-4c0e209dee2e"
      },
      "source": [
        "print(x)"
      ],
      "execution_count": 60,
      "outputs": [
        {
          "output_type": "stream",
          "text": [
            "[1 2 3 4 5]\n"
          ],
          "name": "stdout"
        }
      ]
    },
    {
      "cell_type": "code",
      "metadata": {
        "colab": {
          "base_uri": "https://localhost:8080/"
        },
        "id": "V9g6jPjNeHEu",
        "outputId": "542a4aa7-8673-439a-bcf4-67b67578cfef"
      },
      "source": [
        "arr"
      ],
      "execution_count": 61,
      "outputs": [
        {
          "output_type": "execute_result",
          "data": {
            "text/plain": [
              "array([42,  2,  3,  4,  5])"
            ]
          },
          "metadata": {
            "tags": []
          },
          "execution_count": 61
        }
      ]
    },
    {
      "cell_type": "code",
      "metadata": {
        "id": "FuP5F_BOeJQo"
      },
      "source": [
        ""
      ],
      "execution_count": null,
      "outputs": []
    },
    {
      "cell_type": "markdown",
      "metadata": {
        "id": "eLQGYJeJeq1w"
      },
      "source": [
        "VIEW:\n"
      ]
    },
    {
      "cell_type": "code",
      "metadata": {
        "id": "IJjMgZ5cer8U"
      },
      "source": [
        "# The view does not own the data and any changes made to the view will affect the original array,\n",
        "# and any changes made to the original array will affect the view.\n",
        "\n"
      ],
      "execution_count": 67,
      "outputs": []
    },
    {
      "cell_type": "code",
      "metadata": {
        "id": "lIgQRroVewgT"
      },
      "source": [
        "\n",
        "arr = np.array([1, 2, 3, 4, 5])\n",
        "x = arr.view()\n",
        "arr[0] = 42"
      ],
      "execution_count": 64,
      "outputs": []
    },
    {
      "cell_type": "code",
      "metadata": {
        "colab": {
          "base_uri": "https://localhost:8080/"
        },
        "id": "rxRF_lAJe2Dk",
        "outputId": "09872264-ea7c-4c60-e8bf-e923e8f48367"
      },
      "source": [
        "x"
      ],
      "execution_count": 65,
      "outputs": [
        {
          "output_type": "execute_result",
          "data": {
            "text/plain": [
              "array([42,  2,  3,  4,  5])"
            ]
          },
          "metadata": {
            "tags": []
          },
          "execution_count": 65
        }
      ]
    },
    {
      "cell_type": "code",
      "metadata": {
        "colab": {
          "base_uri": "https://localhost:8080/"
        },
        "id": "m0S5-un8e7Hd",
        "outputId": "2c4362dd-15d7-4f93-9ef8-e286bebd191d"
      },
      "source": [
        "arr"
      ],
      "execution_count": 68,
      "outputs": [
        {
          "output_type": "execute_result",
          "data": {
            "text/plain": [
              "array([42,  2,  3,  4,  5])"
            ]
          },
          "metadata": {
            "tags": []
          },
          "execution_count": 68
        }
      ]
    },
    {
      "cell_type": "markdown",
      "metadata": {
        "id": "S_IOYUxAfri1"
      },
      "source": [
        "Check if Array Owns it's Data\n"
      ]
    },
    {
      "cell_type": "code",
      "metadata": {
        "id": "TljTht5de8SN"
      },
      "source": [
        "arr = np.array([1, 2, 3, 4, 5])\n",
        "\n",
        "x = arr.copy()\n",
        "y = arr.view()"
      ],
      "execution_count": 69,
      "outputs": []
    },
    {
      "cell_type": "code",
      "metadata": {
        "colab": {
          "base_uri": "https://localhost:8080/"
        },
        "id": "Ku_ugz7lfx-9",
        "outputId": "054edf6a-5f81-4935-fdfe-6c39e027b7a6"
      },
      "source": [
        "print(x.base)"
      ],
      "execution_count": 70,
      "outputs": [
        {
          "output_type": "stream",
          "text": [
            "None\n"
          ],
          "name": "stdout"
        }
      ]
    },
    {
      "cell_type": "code",
      "metadata": {
        "colab": {
          "base_uri": "https://localhost:8080/"
        },
        "id": "mq2f0p6mf2DD",
        "outputId": "6109c3d5-502d-4106-fd07-a1fa356439d8"
      },
      "source": [
        "print(y.base)"
      ],
      "execution_count": 71,
      "outputs": [
        {
          "output_type": "stream",
          "text": [
            "[1 2 3 4 5]\n"
          ],
          "name": "stdout"
        }
      ]
    },
    {
      "cell_type": "code",
      "metadata": {
        "id": "YoGDTDl_f5uc"
      },
      "source": [
        ""
      ],
      "execution_count": null,
      "outputs": []
    }
  ]
}